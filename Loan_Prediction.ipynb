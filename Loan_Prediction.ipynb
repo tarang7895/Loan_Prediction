{
  "cells": [
    {
      "cell_type": "markdown",
      "metadata": {
        "id": "view-in-github",
        "colab_type": "text"
      },
      "source": [
        "<a href=\"https://colab.research.google.com/github/tarang7895/Loan_Prediction/blob/main/Loan_Prediction.ipynb\" target=\"_parent\"><img src=\"https://colab.research.google.com/assets/colab-badge.svg\" alt=\"Open In Colab\"/></a>"
      ]
    },
    {
      "cell_type": "markdown",
      "metadata": {
        "id": "OXroNp6Abd42"
      },
      "source": [
        "## **1. IMPORTING THE LIBRARIES**"
      ]
    },
    {
      "cell_type": "code",
      "execution_count": null,
      "metadata": {
        "id": "abDDmpyJbT0i"
      },
      "outputs": [],
      "source": [
        "# NumPy -> To perform the mathematical operation\n",
        "import numpy as np\n",
        "\n",
        "# Pandas -> Data Manipulation tool\n",
        "import pandas as pd\n",
        "\n",
        "# Matplotlib -> Data Visualisation tool\n",
        "import matplotlib.pyplot as plt\n",
        "\n",
        "# Seaborn -> Data Visualisation tool\n",
        "import seaborn as sns\n",
        "\n",
        "# ReGex -> Data Cleaning\n",
        "import re\n",
        "\n",
        "# Label Encoder -> assign numerical values to categories where order matters\n",
        "from sklearn.preprocessing import LabelEncoder, MinMaxScaler\n",
        "\n",
        "# Import ExtraTreesClassifier, RandomForestClassifier from sklearn for feature selection\n",
        "from sklearn.ensemble import ExtraTreesClassifier, RandomForestClassifier\n",
        "\n",
        "# Import RandomizedSearchCV, train_test_split from sklearn to perform Hyperparameter Tuning and splitting the data respectively\n",
        "from sklearn.model_selection import RandomizedSearchCV, train_test_split\n",
        "\n",
        "# Import confusion_matrix and classification_report from sklearn\n",
        "from sklearn.metrics import confusion_matrix, classification_report\n",
        "\n",
        "# Import DecisionTreeClassifier from sklearn\n",
        "from sklearn.tree import DecisionTreeClassifier\n",
        "\n",
        "# Import LogisticRegression from sklearn\n",
        "from sklearn.linear_model import LogisticRegression\n",
        "\n",
        "# Import pickle to dump the model\n",
        "import pickle"
      ]
    },
    {
      "cell_type": "markdown",
      "metadata": {
        "id": "EXnPLr8Gc6oM"
      },
      "source": [
        "# **2. IMPORTING THE DATASET**\n",
        "\n",
        "\n",
        "*   The dataset contains the information of the people who has got the loan or not depending upon various parameters. \n",
        "\n"
      ]
    },
    {
      "cell_type": "code",
      "execution_count": null,
      "metadata": {
        "id": "_Xz3cP8Xb-BR"
      },
      "outputs": [],
      "source": [
        "df = pd.read_csv(\"/content/drive/MyDrive/DATA ANALYSIS/Training Data.csv\")\n",
        "df_test = pd.read_csv('/content/drive/MyDrive/DATA ANALYSIS/Testing Data.csv')"
      ]
    },
    {
      "cell_type": "markdown",
      "metadata": {
        "id": "LpMnAS7NjL0K"
      },
      "source": [
        "Creating the copy of the dataset."
      ]
    },
    {
      "cell_type": "code",
      "execution_count": null,
      "metadata": {
        "id": "d0xqphUxjReC"
      },
      "outputs": [],
      "source": [
        "new_df = df.copy()\n",
        "new_df_test = df_test.copy()"
      ]
    },
    {
      "cell_type": "markdown",
      "metadata": {
        "id": "6_vAvIy-gCdd"
      },
      "source": [
        "# **3. EXPLORATORY DATA ANALAYSIS (EDA)**"
      ]
    },
    {
      "cell_type": "markdown",
      "metadata": {
        "id": "A7K12B91hNVX"
      },
      "source": [
        "* **DATA EXPLORATION**"
      ]
    },
    {
      "cell_type": "code",
      "execution_count": null,
      "metadata": {
        "colab": {
          "base_uri": "https://localhost:8080/",
          "height": 288
        },
        "id": "mmKz9LuBd3Ku",
        "outputId": "e80dd628-1a18-4d72-c2f5-d56cdc46a1dc"
      },
      "outputs": [
        {
          "output_type": "execute_result",
          "data": {
            "text/html": [
              "\n",
              "  <div id=\"df-64df1cbb-faed-4e4e-9577-dd0dd01143c9\">\n",
              "    <div class=\"colab-df-container\">\n",
              "      <div>\n",
              "<style scoped>\n",
              "    .dataframe tbody tr th:only-of-type {\n",
              "        vertical-align: middle;\n",
              "    }\n",
              "\n",
              "    .dataframe tbody tr th {\n",
              "        vertical-align: top;\n",
              "    }\n",
              "\n",
              "    .dataframe thead th {\n",
              "        text-align: right;\n",
              "    }\n",
              "</style>\n",
              "<table border=\"1\" class=\"dataframe\">\n",
              "  <thead>\n",
              "    <tr style=\"text-align: right;\">\n",
              "      <th></th>\n",
              "      <th>Loan_ID</th>\n",
              "      <th>Gender</th>\n",
              "      <th>Married</th>\n",
              "      <th>Dependents</th>\n",
              "      <th>Education</th>\n",
              "      <th>Self_Employed</th>\n",
              "      <th>ApplicantIncome</th>\n",
              "      <th>CoapplicantIncome</th>\n",
              "      <th>LoanAmount</th>\n",
              "      <th>Loan_Amount_Term</th>\n",
              "      <th>Credit_History</th>\n",
              "      <th>Property_Area</th>\n",
              "      <th>Loan_Status</th>\n",
              "    </tr>\n",
              "  </thead>\n",
              "  <tbody>\n",
              "    <tr>\n",
              "      <th>0</th>\n",
              "      <td>LP001002</td>\n",
              "      <td>Male</td>\n",
              "      <td>No</td>\n",
              "      <td>0</td>\n",
              "      <td>Graduate</td>\n",
              "      <td>No</td>\n",
              "      <td>5849</td>\n",
              "      <td>0.0</td>\n",
              "      <td>NaN</td>\n",
              "      <td>360.0</td>\n",
              "      <td>1.0</td>\n",
              "      <td>Urban</td>\n",
              "      <td>Y</td>\n",
              "    </tr>\n",
              "    <tr>\n",
              "      <th>1</th>\n",
              "      <td>LP001003</td>\n",
              "      <td>Male</td>\n",
              "      <td>Yes</td>\n",
              "      <td>1</td>\n",
              "      <td>Graduate</td>\n",
              "      <td>No</td>\n",
              "      <td>4583</td>\n",
              "      <td>1508.0</td>\n",
              "      <td>128.0</td>\n",
              "      <td>360.0</td>\n",
              "      <td>1.0</td>\n",
              "      <td>Rural</td>\n",
              "      <td>N</td>\n",
              "    </tr>\n",
              "    <tr>\n",
              "      <th>2</th>\n",
              "      <td>LP001005</td>\n",
              "      <td>Male</td>\n",
              "      <td>Yes</td>\n",
              "      <td>0</td>\n",
              "      <td>Graduate</td>\n",
              "      <td>Yes</td>\n",
              "      <td>3000</td>\n",
              "      <td>0.0</td>\n",
              "      <td>66.0</td>\n",
              "      <td>360.0</td>\n",
              "      <td>1.0</td>\n",
              "      <td>Urban</td>\n",
              "      <td>Y</td>\n",
              "    </tr>\n",
              "    <tr>\n",
              "      <th>3</th>\n",
              "      <td>LP001006</td>\n",
              "      <td>Male</td>\n",
              "      <td>Yes</td>\n",
              "      <td>0</td>\n",
              "      <td>Not Graduate</td>\n",
              "      <td>No</td>\n",
              "      <td>2583</td>\n",
              "      <td>2358.0</td>\n",
              "      <td>120.0</td>\n",
              "      <td>360.0</td>\n",
              "      <td>1.0</td>\n",
              "      <td>Urban</td>\n",
              "      <td>Y</td>\n",
              "    </tr>\n",
              "    <tr>\n",
              "      <th>4</th>\n",
              "      <td>LP001008</td>\n",
              "      <td>Male</td>\n",
              "      <td>No</td>\n",
              "      <td>0</td>\n",
              "      <td>Graduate</td>\n",
              "      <td>No</td>\n",
              "      <td>6000</td>\n",
              "      <td>0.0</td>\n",
              "      <td>141.0</td>\n",
              "      <td>360.0</td>\n",
              "      <td>1.0</td>\n",
              "      <td>Urban</td>\n",
              "      <td>Y</td>\n",
              "    </tr>\n",
              "  </tbody>\n",
              "</table>\n",
              "</div>\n",
              "      <button class=\"colab-df-convert\" onclick=\"convertToInteractive('df-64df1cbb-faed-4e4e-9577-dd0dd01143c9')\"\n",
              "              title=\"Convert this dataframe to an interactive table.\"\n",
              "              style=\"display:none;\">\n",
              "        \n",
              "  <svg xmlns=\"http://www.w3.org/2000/svg\" height=\"24px\"viewBox=\"0 0 24 24\"\n",
              "       width=\"24px\">\n",
              "    <path d=\"M0 0h24v24H0V0z\" fill=\"none\"/>\n",
              "    <path d=\"M18.56 5.44l.94 2.06.94-2.06 2.06-.94-2.06-.94-.94-2.06-.94 2.06-2.06.94zm-11 1L8.5 8.5l.94-2.06 2.06-.94-2.06-.94L8.5 2.5l-.94 2.06-2.06.94zm10 10l.94 2.06.94-2.06 2.06-.94-2.06-.94-.94-2.06-.94 2.06-2.06.94z\"/><path d=\"M17.41 7.96l-1.37-1.37c-.4-.4-.92-.59-1.43-.59-.52 0-1.04.2-1.43.59L10.3 9.45l-7.72 7.72c-.78.78-.78 2.05 0 2.83L4 21.41c.39.39.9.59 1.41.59.51 0 1.02-.2 1.41-.59l7.78-7.78 2.81-2.81c.8-.78.8-2.07 0-2.86zM5.41 20L4 18.59l7.72-7.72 1.47 1.35L5.41 20z\"/>\n",
              "  </svg>\n",
              "      </button>\n",
              "      \n",
              "  <style>\n",
              "    .colab-df-container {\n",
              "      display:flex;\n",
              "      flex-wrap:wrap;\n",
              "      gap: 12px;\n",
              "    }\n",
              "\n",
              "    .colab-df-convert {\n",
              "      background-color: #E8F0FE;\n",
              "      border: none;\n",
              "      border-radius: 50%;\n",
              "      cursor: pointer;\n",
              "      display: none;\n",
              "      fill: #1967D2;\n",
              "      height: 32px;\n",
              "      padding: 0 0 0 0;\n",
              "      width: 32px;\n",
              "    }\n",
              "\n",
              "    .colab-df-convert:hover {\n",
              "      background-color: #E2EBFA;\n",
              "      box-shadow: 0px 1px 2px rgba(60, 64, 67, 0.3), 0px 1px 3px 1px rgba(60, 64, 67, 0.15);\n",
              "      fill: #174EA6;\n",
              "    }\n",
              "\n",
              "    [theme=dark] .colab-df-convert {\n",
              "      background-color: #3B4455;\n",
              "      fill: #D2E3FC;\n",
              "    }\n",
              "\n",
              "    [theme=dark] .colab-df-convert:hover {\n",
              "      background-color: #434B5C;\n",
              "      box-shadow: 0px 1px 3px 1px rgba(0, 0, 0, 0.15);\n",
              "      filter: drop-shadow(0px 1px 2px rgba(0, 0, 0, 0.3));\n",
              "      fill: #FFFFFF;\n",
              "    }\n",
              "  </style>\n",
              "\n",
              "      <script>\n",
              "        const buttonEl =\n",
              "          document.querySelector('#df-64df1cbb-faed-4e4e-9577-dd0dd01143c9 button.colab-df-convert');\n",
              "        buttonEl.style.display =\n",
              "          google.colab.kernel.accessAllowed ? 'block' : 'none';\n",
              "\n",
              "        async function convertToInteractive(key) {\n",
              "          const element = document.querySelector('#df-64df1cbb-faed-4e4e-9577-dd0dd01143c9');\n",
              "          const dataTable =\n",
              "            await google.colab.kernel.invokeFunction('convertToInteractive',\n",
              "                                                     [key], {});\n",
              "          if (!dataTable) return;\n",
              "\n",
              "          const docLinkHtml = 'Like what you see? Visit the ' +\n",
              "            '<a target=\"_blank\" href=https://colab.research.google.com/notebooks/data_table.ipynb>data table notebook</a>'\n",
              "            + ' to learn more about interactive tables.';\n",
              "          element.innerHTML = '';\n",
              "          dataTable['output_type'] = 'display_data';\n",
              "          await google.colab.output.renderOutput(dataTable, element);\n",
              "          const docLink = document.createElement('div');\n",
              "          docLink.innerHTML = docLinkHtml;\n",
              "          element.appendChild(docLink);\n",
              "        }\n",
              "      </script>\n",
              "    </div>\n",
              "  </div>\n",
              "  "
            ],
            "text/plain": [
              "    Loan_ID Gender Married  ... Credit_History Property_Area Loan_Status\n",
              "0  LP001002   Male      No  ...            1.0         Urban           Y\n",
              "1  LP001003   Male     Yes  ...            1.0         Rural           N\n",
              "2  LP001005   Male     Yes  ...            1.0         Urban           Y\n",
              "3  LP001006   Male     Yes  ...            1.0         Urban           Y\n",
              "4  LP001008   Male      No  ...            1.0         Urban           Y\n",
              "\n",
              "[5 rows x 13 columns]"
            ]
          },
          "metadata": {},
          "execution_count": 6
        }
      ],
      "source": [
        "# To view the top 5 rows and all the columns of dataset\n",
        "df.head()"
      ]
    },
    {
      "cell_type": "code",
      "execution_count": null,
      "metadata": {
        "colab": {
          "base_uri": "https://localhost:8080/",
          "height": 270
        },
        "id": "Ok9-_t_fl6kN",
        "outputId": "ddb99cbf-6974-487a-d928-74f5cb5663cf"
      },
      "outputs": [
        {
          "output_type": "execute_result",
          "data": {
            "text/html": [
              "\n",
              "  <div id=\"df-5ffb2fb1-46b4-474b-b455-759d244ee56a\">\n",
              "    <div class=\"colab-df-container\">\n",
              "      <div>\n",
              "<style scoped>\n",
              "    .dataframe tbody tr th:only-of-type {\n",
              "        vertical-align: middle;\n",
              "    }\n",
              "\n",
              "    .dataframe tbody tr th {\n",
              "        vertical-align: top;\n",
              "    }\n",
              "\n",
              "    .dataframe thead th {\n",
              "        text-align: right;\n",
              "    }\n",
              "</style>\n",
              "<table border=\"1\" class=\"dataframe\">\n",
              "  <thead>\n",
              "    <tr style=\"text-align: right;\">\n",
              "      <th></th>\n",
              "      <th>Loan_ID</th>\n",
              "      <th>Gender</th>\n",
              "      <th>Married</th>\n",
              "      <th>Dependents</th>\n",
              "      <th>Education</th>\n",
              "      <th>Self_Employed</th>\n",
              "      <th>ApplicantIncome</th>\n",
              "      <th>CoapplicantIncome</th>\n",
              "      <th>LoanAmount</th>\n",
              "      <th>Loan_Amount_Term</th>\n",
              "      <th>Credit_History</th>\n",
              "      <th>Property_Area</th>\n",
              "      <th>Loan_Status</th>\n",
              "    </tr>\n",
              "  </thead>\n",
              "  <tbody>\n",
              "    <tr>\n",
              "      <th>609</th>\n",
              "      <td>LP002978</td>\n",
              "      <td>Female</td>\n",
              "      <td>No</td>\n",
              "      <td>0</td>\n",
              "      <td>Graduate</td>\n",
              "      <td>No</td>\n",
              "      <td>2900</td>\n",
              "      <td>0.0</td>\n",
              "      <td>71.0</td>\n",
              "      <td>360.0</td>\n",
              "      <td>1.0</td>\n",
              "      <td>Rural</td>\n",
              "      <td>Y</td>\n",
              "    </tr>\n",
              "    <tr>\n",
              "      <th>610</th>\n",
              "      <td>LP002979</td>\n",
              "      <td>Male</td>\n",
              "      <td>Yes</td>\n",
              "      <td>3+</td>\n",
              "      <td>Graduate</td>\n",
              "      <td>No</td>\n",
              "      <td>4106</td>\n",
              "      <td>0.0</td>\n",
              "      <td>40.0</td>\n",
              "      <td>180.0</td>\n",
              "      <td>1.0</td>\n",
              "      <td>Rural</td>\n",
              "      <td>Y</td>\n",
              "    </tr>\n",
              "    <tr>\n",
              "      <th>611</th>\n",
              "      <td>LP002983</td>\n",
              "      <td>Male</td>\n",
              "      <td>Yes</td>\n",
              "      <td>1</td>\n",
              "      <td>Graduate</td>\n",
              "      <td>No</td>\n",
              "      <td>8072</td>\n",
              "      <td>240.0</td>\n",
              "      <td>253.0</td>\n",
              "      <td>360.0</td>\n",
              "      <td>1.0</td>\n",
              "      <td>Urban</td>\n",
              "      <td>Y</td>\n",
              "    </tr>\n",
              "    <tr>\n",
              "      <th>612</th>\n",
              "      <td>LP002984</td>\n",
              "      <td>Male</td>\n",
              "      <td>Yes</td>\n",
              "      <td>2</td>\n",
              "      <td>Graduate</td>\n",
              "      <td>No</td>\n",
              "      <td>7583</td>\n",
              "      <td>0.0</td>\n",
              "      <td>187.0</td>\n",
              "      <td>360.0</td>\n",
              "      <td>1.0</td>\n",
              "      <td>Urban</td>\n",
              "      <td>Y</td>\n",
              "    </tr>\n",
              "    <tr>\n",
              "      <th>613</th>\n",
              "      <td>LP002990</td>\n",
              "      <td>Female</td>\n",
              "      <td>No</td>\n",
              "      <td>0</td>\n",
              "      <td>Graduate</td>\n",
              "      <td>Yes</td>\n",
              "      <td>4583</td>\n",
              "      <td>0.0</td>\n",
              "      <td>133.0</td>\n",
              "      <td>360.0</td>\n",
              "      <td>0.0</td>\n",
              "      <td>Semiurban</td>\n",
              "      <td>N</td>\n",
              "    </tr>\n",
              "  </tbody>\n",
              "</table>\n",
              "</div>\n",
              "      <button class=\"colab-df-convert\" onclick=\"convertToInteractive('df-5ffb2fb1-46b4-474b-b455-759d244ee56a')\"\n",
              "              title=\"Convert this dataframe to an interactive table.\"\n",
              "              style=\"display:none;\">\n",
              "        \n",
              "  <svg xmlns=\"http://www.w3.org/2000/svg\" height=\"24px\"viewBox=\"0 0 24 24\"\n",
              "       width=\"24px\">\n",
              "    <path d=\"M0 0h24v24H0V0z\" fill=\"none\"/>\n",
              "    <path d=\"M18.56 5.44l.94 2.06.94-2.06 2.06-.94-2.06-.94-.94-2.06-.94 2.06-2.06.94zm-11 1L8.5 8.5l.94-2.06 2.06-.94-2.06-.94L8.5 2.5l-.94 2.06-2.06.94zm10 10l.94 2.06.94-2.06 2.06-.94-2.06-.94-.94-2.06-.94 2.06-2.06.94z\"/><path d=\"M17.41 7.96l-1.37-1.37c-.4-.4-.92-.59-1.43-.59-.52 0-1.04.2-1.43.59L10.3 9.45l-7.72 7.72c-.78.78-.78 2.05 0 2.83L4 21.41c.39.39.9.59 1.41.59.51 0 1.02-.2 1.41-.59l7.78-7.78 2.81-2.81c.8-.78.8-2.07 0-2.86zM5.41 20L4 18.59l7.72-7.72 1.47 1.35L5.41 20z\"/>\n",
              "  </svg>\n",
              "      </button>\n",
              "      \n",
              "  <style>\n",
              "    .colab-df-container {\n",
              "      display:flex;\n",
              "      flex-wrap:wrap;\n",
              "      gap: 12px;\n",
              "    }\n",
              "\n",
              "    .colab-df-convert {\n",
              "      background-color: #E8F0FE;\n",
              "      border: none;\n",
              "      border-radius: 50%;\n",
              "      cursor: pointer;\n",
              "      display: none;\n",
              "      fill: #1967D2;\n",
              "      height: 32px;\n",
              "      padding: 0 0 0 0;\n",
              "      width: 32px;\n",
              "    }\n",
              "\n",
              "    .colab-df-convert:hover {\n",
              "      background-color: #E2EBFA;\n",
              "      box-shadow: 0px 1px 2px rgba(60, 64, 67, 0.3), 0px 1px 3px 1px rgba(60, 64, 67, 0.15);\n",
              "      fill: #174EA6;\n",
              "    }\n",
              "\n",
              "    [theme=dark] .colab-df-convert {\n",
              "      background-color: #3B4455;\n",
              "      fill: #D2E3FC;\n",
              "    }\n",
              "\n",
              "    [theme=dark] .colab-df-convert:hover {\n",
              "      background-color: #434B5C;\n",
              "      box-shadow: 0px 1px 3px 1px rgba(0, 0, 0, 0.15);\n",
              "      filter: drop-shadow(0px 1px 2px rgba(0, 0, 0, 0.3));\n",
              "      fill: #FFFFFF;\n",
              "    }\n",
              "  </style>\n",
              "\n",
              "      <script>\n",
              "        const buttonEl =\n",
              "          document.querySelector('#df-5ffb2fb1-46b4-474b-b455-759d244ee56a button.colab-df-convert');\n",
              "        buttonEl.style.display =\n",
              "          google.colab.kernel.accessAllowed ? 'block' : 'none';\n",
              "\n",
              "        async function convertToInteractive(key) {\n",
              "          const element = document.querySelector('#df-5ffb2fb1-46b4-474b-b455-759d244ee56a');\n",
              "          const dataTable =\n",
              "            await google.colab.kernel.invokeFunction('convertToInteractive',\n",
              "                                                     [key], {});\n",
              "          if (!dataTable) return;\n",
              "\n",
              "          const docLinkHtml = 'Like what you see? Visit the ' +\n",
              "            '<a target=\"_blank\" href=https://colab.research.google.com/notebooks/data_table.ipynb>data table notebook</a>'\n",
              "            + ' to learn more about interactive tables.';\n",
              "          element.innerHTML = '';\n",
              "          dataTable['output_type'] = 'display_data';\n",
              "          await google.colab.output.renderOutput(dataTable, element);\n",
              "          const docLink = document.createElement('div');\n",
              "          docLink.innerHTML = docLinkHtml;\n",
              "          element.appendChild(docLink);\n",
              "        }\n",
              "      </script>\n",
              "    </div>\n",
              "  </div>\n",
              "  "
            ],
            "text/plain": [
              "      Loan_ID  Gender Married  ... Credit_History Property_Area Loan_Status\n",
              "609  LP002978  Female      No  ...            1.0         Rural           Y\n",
              "610  LP002979    Male     Yes  ...            1.0         Rural           Y\n",
              "611  LP002983    Male     Yes  ...            1.0         Urban           Y\n",
              "612  LP002984    Male     Yes  ...            1.0         Urban           Y\n",
              "613  LP002990  Female      No  ...            0.0     Semiurban           N\n",
              "\n",
              "[5 rows x 13 columns]"
            ]
          },
          "metadata": {},
          "execution_count": 7
        }
      ],
      "source": [
        "# To view the last 5 rows of the dataset\n",
        "df.tail()"
      ]
    },
    {
      "cell_type": "code",
      "execution_count": null,
      "metadata": {
        "colab": {
          "base_uri": "https://localhost:8080/",
          "height": 288
        },
        "id": "JK4ANAf8Zc4J",
        "outputId": "8903fdc8-7e9e-4c2e-ac09-edfe3fb54ee2"
      },
      "outputs": [
        {
          "output_type": "execute_result",
          "data": {
            "text/html": [
              "\n",
              "  <div id=\"df-8d8bbd4f-738c-4122-84f8-e369aa37e64c\">\n",
              "    <div class=\"colab-df-container\">\n",
              "      <div>\n",
              "<style scoped>\n",
              "    .dataframe tbody tr th:only-of-type {\n",
              "        vertical-align: middle;\n",
              "    }\n",
              "\n",
              "    .dataframe tbody tr th {\n",
              "        vertical-align: top;\n",
              "    }\n",
              "\n",
              "    .dataframe thead th {\n",
              "        text-align: right;\n",
              "    }\n",
              "</style>\n",
              "<table border=\"1\" class=\"dataframe\">\n",
              "  <thead>\n",
              "    <tr style=\"text-align: right;\">\n",
              "      <th></th>\n",
              "      <th>Loan_ID</th>\n",
              "      <th>Gender</th>\n",
              "      <th>Married</th>\n",
              "      <th>Dependents</th>\n",
              "      <th>Education</th>\n",
              "      <th>Self_Employed</th>\n",
              "      <th>ApplicantIncome</th>\n",
              "      <th>CoapplicantIncome</th>\n",
              "      <th>LoanAmount</th>\n",
              "      <th>Loan_Amount_Term</th>\n",
              "      <th>Credit_History</th>\n",
              "      <th>Property_Area</th>\n",
              "    </tr>\n",
              "  </thead>\n",
              "  <tbody>\n",
              "    <tr>\n",
              "      <th>0</th>\n",
              "      <td>LP001015</td>\n",
              "      <td>Male</td>\n",
              "      <td>Yes</td>\n",
              "      <td>0</td>\n",
              "      <td>Graduate</td>\n",
              "      <td>No</td>\n",
              "      <td>5720</td>\n",
              "      <td>0</td>\n",
              "      <td>110.0</td>\n",
              "      <td>360.0</td>\n",
              "      <td>1.0</td>\n",
              "      <td>Urban</td>\n",
              "    </tr>\n",
              "    <tr>\n",
              "      <th>1</th>\n",
              "      <td>LP001022</td>\n",
              "      <td>Male</td>\n",
              "      <td>Yes</td>\n",
              "      <td>1</td>\n",
              "      <td>Graduate</td>\n",
              "      <td>No</td>\n",
              "      <td>3076</td>\n",
              "      <td>1500</td>\n",
              "      <td>126.0</td>\n",
              "      <td>360.0</td>\n",
              "      <td>1.0</td>\n",
              "      <td>Urban</td>\n",
              "    </tr>\n",
              "    <tr>\n",
              "      <th>2</th>\n",
              "      <td>LP001031</td>\n",
              "      <td>Male</td>\n",
              "      <td>Yes</td>\n",
              "      <td>2</td>\n",
              "      <td>Graduate</td>\n",
              "      <td>No</td>\n",
              "      <td>5000</td>\n",
              "      <td>1800</td>\n",
              "      <td>208.0</td>\n",
              "      <td>360.0</td>\n",
              "      <td>1.0</td>\n",
              "      <td>Urban</td>\n",
              "    </tr>\n",
              "    <tr>\n",
              "      <th>3</th>\n",
              "      <td>LP001035</td>\n",
              "      <td>Male</td>\n",
              "      <td>Yes</td>\n",
              "      <td>2</td>\n",
              "      <td>Graduate</td>\n",
              "      <td>No</td>\n",
              "      <td>2340</td>\n",
              "      <td>2546</td>\n",
              "      <td>100.0</td>\n",
              "      <td>360.0</td>\n",
              "      <td>NaN</td>\n",
              "      <td>Urban</td>\n",
              "    </tr>\n",
              "    <tr>\n",
              "      <th>4</th>\n",
              "      <td>LP001051</td>\n",
              "      <td>Male</td>\n",
              "      <td>No</td>\n",
              "      <td>0</td>\n",
              "      <td>Not Graduate</td>\n",
              "      <td>No</td>\n",
              "      <td>3276</td>\n",
              "      <td>0</td>\n",
              "      <td>78.0</td>\n",
              "      <td>360.0</td>\n",
              "      <td>1.0</td>\n",
              "      <td>Urban</td>\n",
              "    </tr>\n",
              "  </tbody>\n",
              "</table>\n",
              "</div>\n",
              "      <button class=\"colab-df-convert\" onclick=\"convertToInteractive('df-8d8bbd4f-738c-4122-84f8-e369aa37e64c')\"\n",
              "              title=\"Convert this dataframe to an interactive table.\"\n",
              "              style=\"display:none;\">\n",
              "        \n",
              "  <svg xmlns=\"http://www.w3.org/2000/svg\" height=\"24px\"viewBox=\"0 0 24 24\"\n",
              "       width=\"24px\">\n",
              "    <path d=\"M0 0h24v24H0V0z\" fill=\"none\"/>\n",
              "    <path d=\"M18.56 5.44l.94 2.06.94-2.06 2.06-.94-2.06-.94-.94-2.06-.94 2.06-2.06.94zm-11 1L8.5 8.5l.94-2.06 2.06-.94-2.06-.94L8.5 2.5l-.94 2.06-2.06.94zm10 10l.94 2.06.94-2.06 2.06-.94-2.06-.94-.94-2.06-.94 2.06-2.06.94z\"/><path d=\"M17.41 7.96l-1.37-1.37c-.4-.4-.92-.59-1.43-.59-.52 0-1.04.2-1.43.59L10.3 9.45l-7.72 7.72c-.78.78-.78 2.05 0 2.83L4 21.41c.39.39.9.59 1.41.59.51 0 1.02-.2 1.41-.59l7.78-7.78 2.81-2.81c.8-.78.8-2.07 0-2.86zM5.41 20L4 18.59l7.72-7.72 1.47 1.35L5.41 20z\"/>\n",
              "  </svg>\n",
              "      </button>\n",
              "      \n",
              "  <style>\n",
              "    .colab-df-container {\n",
              "      display:flex;\n",
              "      flex-wrap:wrap;\n",
              "      gap: 12px;\n",
              "    }\n",
              "\n",
              "    .colab-df-convert {\n",
              "      background-color: #E8F0FE;\n",
              "      border: none;\n",
              "      border-radius: 50%;\n",
              "      cursor: pointer;\n",
              "      display: none;\n",
              "      fill: #1967D2;\n",
              "      height: 32px;\n",
              "      padding: 0 0 0 0;\n",
              "      width: 32px;\n",
              "    }\n",
              "\n",
              "    .colab-df-convert:hover {\n",
              "      background-color: #E2EBFA;\n",
              "      box-shadow: 0px 1px 2px rgba(60, 64, 67, 0.3), 0px 1px 3px 1px rgba(60, 64, 67, 0.15);\n",
              "      fill: #174EA6;\n",
              "    }\n",
              "\n",
              "    [theme=dark] .colab-df-convert {\n",
              "      background-color: #3B4455;\n",
              "      fill: #D2E3FC;\n",
              "    }\n",
              "\n",
              "    [theme=dark] .colab-df-convert:hover {\n",
              "      background-color: #434B5C;\n",
              "      box-shadow: 0px 1px 3px 1px rgba(0, 0, 0, 0.15);\n",
              "      filter: drop-shadow(0px 1px 2px rgba(0, 0, 0, 0.3));\n",
              "      fill: #FFFFFF;\n",
              "    }\n",
              "  </style>\n",
              "\n",
              "      <script>\n",
              "        const buttonEl =\n",
              "          document.querySelector('#df-8d8bbd4f-738c-4122-84f8-e369aa37e64c button.colab-df-convert');\n",
              "        buttonEl.style.display =\n",
              "          google.colab.kernel.accessAllowed ? 'block' : 'none';\n",
              "\n",
              "        async function convertToInteractive(key) {\n",
              "          const element = document.querySelector('#df-8d8bbd4f-738c-4122-84f8-e369aa37e64c');\n",
              "          const dataTable =\n",
              "            await google.colab.kernel.invokeFunction('convertToInteractive',\n",
              "                                                     [key], {});\n",
              "          if (!dataTable) return;\n",
              "\n",
              "          const docLinkHtml = 'Like what you see? Visit the ' +\n",
              "            '<a target=\"_blank\" href=https://colab.research.google.com/notebooks/data_table.ipynb>data table notebook</a>'\n",
              "            + ' to learn more about interactive tables.';\n",
              "          element.innerHTML = '';\n",
              "          dataTable['output_type'] = 'display_data';\n",
              "          await google.colab.output.renderOutput(dataTable, element);\n",
              "          const docLink = document.createElement('div');\n",
              "          docLink.innerHTML = docLinkHtml;\n",
              "          element.appendChild(docLink);\n",
              "        }\n",
              "      </script>\n",
              "    </div>\n",
              "  </div>\n",
              "  "
            ],
            "text/plain": [
              "    Loan_ID Gender Married  ... Loan_Amount_Term Credit_History Property_Area\n",
              "0  LP001015   Male     Yes  ...            360.0            1.0         Urban\n",
              "1  LP001022   Male     Yes  ...            360.0            1.0         Urban\n",
              "2  LP001031   Male     Yes  ...            360.0            1.0         Urban\n",
              "3  LP001035   Male     Yes  ...            360.0            NaN         Urban\n",
              "4  LP001051   Male      No  ...            360.0            1.0         Urban\n",
              "\n",
              "[5 rows x 12 columns]"
            ]
          },
          "metadata": {},
          "execution_count": 8
        }
      ],
      "source": [
        "# To view the top 5 rows and all the columns of testing dataset\n",
        "df_test.head()"
      ]
    },
    {
      "cell_type": "code",
      "execution_count": null,
      "metadata": {
        "colab": {
          "base_uri": "https://localhost:8080/",
          "height": 288
        },
        "id": "B4jQgHxhZjfW",
        "outputId": "2f81cd0a-497d-42b0-a28f-f043294aecba"
      },
      "outputs": [
        {
          "output_type": "execute_result",
          "data": {
            "text/html": [
              "\n",
              "  <div id=\"df-26aff2ad-f7d1-490e-a7a5-7513226dd21b\">\n",
              "    <div class=\"colab-df-container\">\n",
              "      <div>\n",
              "<style scoped>\n",
              "    .dataframe tbody tr th:only-of-type {\n",
              "        vertical-align: middle;\n",
              "    }\n",
              "\n",
              "    .dataframe tbody tr th {\n",
              "        vertical-align: top;\n",
              "    }\n",
              "\n",
              "    .dataframe thead th {\n",
              "        text-align: right;\n",
              "    }\n",
              "</style>\n",
              "<table border=\"1\" class=\"dataframe\">\n",
              "  <thead>\n",
              "    <tr style=\"text-align: right;\">\n",
              "      <th></th>\n",
              "      <th>Loan_ID</th>\n",
              "      <th>Gender</th>\n",
              "      <th>Married</th>\n",
              "      <th>Dependents</th>\n",
              "      <th>Education</th>\n",
              "      <th>Self_Employed</th>\n",
              "      <th>ApplicantIncome</th>\n",
              "      <th>CoapplicantIncome</th>\n",
              "      <th>LoanAmount</th>\n",
              "      <th>Loan_Amount_Term</th>\n",
              "      <th>Credit_History</th>\n",
              "      <th>Property_Area</th>\n",
              "    </tr>\n",
              "  </thead>\n",
              "  <tbody>\n",
              "    <tr>\n",
              "      <th>362</th>\n",
              "      <td>LP002971</td>\n",
              "      <td>Male</td>\n",
              "      <td>Yes</td>\n",
              "      <td>3+</td>\n",
              "      <td>Not Graduate</td>\n",
              "      <td>Yes</td>\n",
              "      <td>4009</td>\n",
              "      <td>1777</td>\n",
              "      <td>113.0</td>\n",
              "      <td>360.0</td>\n",
              "      <td>1.0</td>\n",
              "      <td>Urban</td>\n",
              "    </tr>\n",
              "    <tr>\n",
              "      <th>363</th>\n",
              "      <td>LP002975</td>\n",
              "      <td>Male</td>\n",
              "      <td>Yes</td>\n",
              "      <td>0</td>\n",
              "      <td>Graduate</td>\n",
              "      <td>No</td>\n",
              "      <td>4158</td>\n",
              "      <td>709</td>\n",
              "      <td>115.0</td>\n",
              "      <td>360.0</td>\n",
              "      <td>1.0</td>\n",
              "      <td>Urban</td>\n",
              "    </tr>\n",
              "    <tr>\n",
              "      <th>364</th>\n",
              "      <td>LP002980</td>\n",
              "      <td>Male</td>\n",
              "      <td>No</td>\n",
              "      <td>0</td>\n",
              "      <td>Graduate</td>\n",
              "      <td>No</td>\n",
              "      <td>3250</td>\n",
              "      <td>1993</td>\n",
              "      <td>126.0</td>\n",
              "      <td>360.0</td>\n",
              "      <td>NaN</td>\n",
              "      <td>Semiurban</td>\n",
              "    </tr>\n",
              "    <tr>\n",
              "      <th>365</th>\n",
              "      <td>LP002986</td>\n",
              "      <td>Male</td>\n",
              "      <td>Yes</td>\n",
              "      <td>0</td>\n",
              "      <td>Graduate</td>\n",
              "      <td>No</td>\n",
              "      <td>5000</td>\n",
              "      <td>2393</td>\n",
              "      <td>158.0</td>\n",
              "      <td>360.0</td>\n",
              "      <td>1.0</td>\n",
              "      <td>Rural</td>\n",
              "    </tr>\n",
              "    <tr>\n",
              "      <th>366</th>\n",
              "      <td>LP002989</td>\n",
              "      <td>Male</td>\n",
              "      <td>No</td>\n",
              "      <td>0</td>\n",
              "      <td>Graduate</td>\n",
              "      <td>Yes</td>\n",
              "      <td>9200</td>\n",
              "      <td>0</td>\n",
              "      <td>98.0</td>\n",
              "      <td>180.0</td>\n",
              "      <td>1.0</td>\n",
              "      <td>Rural</td>\n",
              "    </tr>\n",
              "  </tbody>\n",
              "</table>\n",
              "</div>\n",
              "      <button class=\"colab-df-convert\" onclick=\"convertToInteractive('df-26aff2ad-f7d1-490e-a7a5-7513226dd21b')\"\n",
              "              title=\"Convert this dataframe to an interactive table.\"\n",
              "              style=\"display:none;\">\n",
              "        \n",
              "  <svg xmlns=\"http://www.w3.org/2000/svg\" height=\"24px\"viewBox=\"0 0 24 24\"\n",
              "       width=\"24px\">\n",
              "    <path d=\"M0 0h24v24H0V0z\" fill=\"none\"/>\n",
              "    <path d=\"M18.56 5.44l.94 2.06.94-2.06 2.06-.94-2.06-.94-.94-2.06-.94 2.06-2.06.94zm-11 1L8.5 8.5l.94-2.06 2.06-.94-2.06-.94L8.5 2.5l-.94 2.06-2.06.94zm10 10l.94 2.06.94-2.06 2.06-.94-2.06-.94-.94-2.06-.94 2.06-2.06.94z\"/><path d=\"M17.41 7.96l-1.37-1.37c-.4-.4-.92-.59-1.43-.59-.52 0-1.04.2-1.43.59L10.3 9.45l-7.72 7.72c-.78.78-.78 2.05 0 2.83L4 21.41c.39.39.9.59 1.41.59.51 0 1.02-.2 1.41-.59l7.78-7.78 2.81-2.81c.8-.78.8-2.07 0-2.86zM5.41 20L4 18.59l7.72-7.72 1.47 1.35L5.41 20z\"/>\n",
              "  </svg>\n",
              "      </button>\n",
              "      \n",
              "  <style>\n",
              "    .colab-df-container {\n",
              "      display:flex;\n",
              "      flex-wrap:wrap;\n",
              "      gap: 12px;\n",
              "    }\n",
              "\n",
              "    .colab-df-convert {\n",
              "      background-color: #E8F0FE;\n",
              "      border: none;\n",
              "      border-radius: 50%;\n",
              "      cursor: pointer;\n",
              "      display: none;\n",
              "      fill: #1967D2;\n",
              "      height: 32px;\n",
              "      padding: 0 0 0 0;\n",
              "      width: 32px;\n",
              "    }\n",
              "\n",
              "    .colab-df-convert:hover {\n",
              "      background-color: #E2EBFA;\n",
              "      box-shadow: 0px 1px 2px rgba(60, 64, 67, 0.3), 0px 1px 3px 1px rgba(60, 64, 67, 0.15);\n",
              "      fill: #174EA6;\n",
              "    }\n",
              "\n",
              "    [theme=dark] .colab-df-convert {\n",
              "      background-color: #3B4455;\n",
              "      fill: #D2E3FC;\n",
              "    }\n",
              "\n",
              "    [theme=dark] .colab-df-convert:hover {\n",
              "      background-color: #434B5C;\n",
              "      box-shadow: 0px 1px 3px 1px rgba(0, 0, 0, 0.15);\n",
              "      filter: drop-shadow(0px 1px 2px rgba(0, 0, 0, 0.3));\n",
              "      fill: #FFFFFF;\n",
              "    }\n",
              "  </style>\n",
              "\n",
              "      <script>\n",
              "        const buttonEl =\n",
              "          document.querySelector('#df-26aff2ad-f7d1-490e-a7a5-7513226dd21b button.colab-df-convert');\n",
              "        buttonEl.style.display =\n",
              "          google.colab.kernel.accessAllowed ? 'block' : 'none';\n",
              "\n",
              "        async function convertToInteractive(key) {\n",
              "          const element = document.querySelector('#df-26aff2ad-f7d1-490e-a7a5-7513226dd21b');\n",
              "          const dataTable =\n",
              "            await google.colab.kernel.invokeFunction('convertToInteractive',\n",
              "                                                     [key], {});\n",
              "          if (!dataTable) return;\n",
              "\n",
              "          const docLinkHtml = 'Like what you see? Visit the ' +\n",
              "            '<a target=\"_blank\" href=https://colab.research.google.com/notebooks/data_table.ipynb>data table notebook</a>'\n",
              "            + ' to learn more about interactive tables.';\n",
              "          element.innerHTML = '';\n",
              "          dataTable['output_type'] = 'display_data';\n",
              "          await google.colab.output.renderOutput(dataTable, element);\n",
              "          const docLink = document.createElement('div');\n",
              "          docLink.innerHTML = docLinkHtml;\n",
              "          element.appendChild(docLink);\n",
              "        }\n",
              "      </script>\n",
              "    </div>\n",
              "  </div>\n",
              "  "
            ],
            "text/plain": [
              "      Loan_ID Gender Married  ... Loan_Amount_Term Credit_History Property_Area\n",
              "362  LP002971   Male     Yes  ...            360.0            1.0         Urban\n",
              "363  LP002975   Male     Yes  ...            360.0            1.0         Urban\n",
              "364  LP002980   Male      No  ...            360.0            NaN     Semiurban\n",
              "365  LP002986   Male     Yes  ...            360.0            1.0         Rural\n",
              "366  LP002989   Male      No  ...            180.0            1.0         Rural\n",
              "\n",
              "[5 rows x 12 columns]"
            ]
          },
          "metadata": {},
          "execution_count": 9
        }
      ],
      "source": [
        "# To view the last 5 rows of the testing dataset\n",
        "df_test.tail()"
      ]
    },
    {
      "cell_type": "code",
      "execution_count": null,
      "metadata": {
        "colab": {
          "base_uri": "https://localhost:8080/"
        },
        "id": "i833Wdfkhfw2",
        "outputId": "f337f270-4d76-429d-b54f-d867a2592fd5"
      },
      "outputs": [
        {
          "output_type": "execute_result",
          "data": {
            "text/plain": [
              "(614, 13)"
            ]
          },
          "metadata": {},
          "execution_count": 10
        }
      ],
      "source": [
        "# To check the total number of datapoints (rows) and features (columns)\n",
        "df.shape"
      ]
    },
    {
      "cell_type": "markdown",
      "metadata": {
        "id": "LS1llOExiWov"
      },
      "source": [
        "Conclusion : In the training dataset, we have 614 datapoints and 13 features"
      ]
    },
    {
      "cell_type": "code",
      "execution_count": null,
      "metadata": {
        "colab": {
          "base_uri": "https://localhost:8080/"
        },
        "id": "OXPaRFb1ZxqL",
        "outputId": "467ef53d-37b3-49be-c65a-9f5e11346846"
      },
      "outputs": [
        {
          "output_type": "execute_result",
          "data": {
            "text/plain": [
              "(367, 12)"
            ]
          },
          "metadata": {},
          "execution_count": 11
        }
      ],
      "source": [
        "# To check the total number of datapoints (rows) and features (columns)\n",
        "df_test.shape"
      ]
    },
    {
      "cell_type": "markdown",
      "metadata": {
        "id": "cgUVDLNfZ0xH"
      },
      "source": [
        "Conclusion : In the testing dataset, we have 367 datapoints and 12 features"
      ]
    },
    {
      "cell_type": "code",
      "execution_count": null,
      "metadata": {
        "colab": {
          "base_uri": "https://localhost:8080/"
        },
        "id": "nrBI0VOBiQ2H",
        "outputId": "b7dc6d35-4a1c-4da9-bcc4-0c994ac3a69e"
      },
      "outputs": [
        {
          "output_type": "execute_result",
          "data": {
            "text/plain": [
              "Loan_ID               object\n",
              "Gender                object\n",
              "Married               object\n",
              "Dependents            object\n",
              "Education             object\n",
              "Self_Employed         object\n",
              "ApplicantIncome        int64\n",
              "CoapplicantIncome    float64\n",
              "LoanAmount           float64\n",
              "Loan_Amount_Term     float64\n",
              "Credit_History       float64\n",
              "Property_Area         object\n",
              "Loan_Status           object\n",
              "dtype: object"
            ]
          },
          "metadata": {},
          "execution_count": 12
        }
      ],
      "source": [
        "# Check the data types of features.\n",
        "df.dtypes"
      ]
    },
    {
      "cell_type": "code",
      "execution_count": null,
      "metadata": {
        "colab": {
          "base_uri": "https://localhost:8080/"
        },
        "id": "leyDvLx8ja8F",
        "outputId": "8a515538-8fe9-47f3-a7a0-116647e89033"
      },
      "outputs": [
        {
          "output_type": "stream",
          "name": "stdout",
          "text": [
            "<class 'pandas.core.frame.DataFrame'>\n",
            "RangeIndex: 614 entries, 0 to 613\n",
            "Data columns (total 13 columns):\n",
            " #   Column             Non-Null Count  Dtype  \n",
            "---  ------             --------------  -----  \n",
            " 0   Loan_ID            614 non-null    object \n",
            " 1   Gender             601 non-null    object \n",
            " 2   Married            611 non-null    object \n",
            " 3   Dependents         599 non-null    object \n",
            " 4   Education          614 non-null    object \n",
            " 5   Self_Employed      582 non-null    object \n",
            " 6   ApplicantIncome    614 non-null    int64  \n",
            " 7   CoapplicantIncome  614 non-null    float64\n",
            " 8   LoanAmount         592 non-null    float64\n",
            " 9   Loan_Amount_Term   600 non-null    float64\n",
            " 10  Credit_History     564 non-null    float64\n",
            " 11  Property_Area      614 non-null    object \n",
            " 12  Loan_Status        614 non-null    object \n",
            "dtypes: float64(4), int64(1), object(8)\n",
            "memory usage: 62.5+ KB\n"
          ]
        }
      ],
      "source": [
        "# Returns brief information about the dataset\n",
        "df.info()"
      ]
    },
    {
      "cell_type": "markdown",
      "source": [
        "* **Observation:**\n",
        "1. The dataset has 614 datapoints and 13 columns with target variable as Loan_Status\n",
        "2. The dataset has missing values in Gender, Married, Dependents, Self_Employed, LoanAmount, Loan_Amount_Term, Credit_History\n",
        "\n",
        "\n",
        "\n",
        "\n",
        "\n"
      ],
      "metadata": {
        "id": "99MU8avS5YIM"
      }
    },
    {
      "cell_type": "code",
      "source": [
        "# Returns brief information about the dataset\n",
        "df_test.info()"
      ],
      "metadata": {
        "colab": {
          "base_uri": "https://localhost:8080/"
        },
        "id": "Mqt1jOSt5P4Q",
        "outputId": "a2fd1f43-6ab0-40a8-982f-a587953733b3"
      },
      "execution_count": null,
      "outputs": [
        {
          "output_type": "stream",
          "name": "stdout",
          "text": [
            "<class 'pandas.core.frame.DataFrame'>\n",
            "RangeIndex: 367 entries, 0 to 366\n",
            "Data columns (total 12 columns):\n",
            " #   Column             Non-Null Count  Dtype  \n",
            "---  ------             --------------  -----  \n",
            " 0   Loan_ID            367 non-null    object \n",
            " 1   Gender             356 non-null    object \n",
            " 2   Married            367 non-null    object \n",
            " 3   Dependents         357 non-null    object \n",
            " 4   Education          367 non-null    object \n",
            " 5   Self_Employed      344 non-null    object \n",
            " 6   ApplicantIncome    367 non-null    int64  \n",
            " 7   CoapplicantIncome  367 non-null    int64  \n",
            " 8   LoanAmount         362 non-null    float64\n",
            " 9   Loan_Amount_Term   361 non-null    float64\n",
            " 10  Credit_History     338 non-null    float64\n",
            " 11  Property_Area      367 non-null    object \n",
            "dtypes: float64(3), int64(2), object(7)\n",
            "memory usage: 34.5+ KB\n"
          ]
        }
      ]
    },
    {
      "cell_type": "code",
      "execution_count": null,
      "metadata": {
        "colab": {
          "base_uri": "https://localhost:8080/",
          "height": 300
        },
        "id": "4Lfj6XuGkXz7",
        "outputId": "ebe191dc-df23-45e6-b981-77e87f19e7fe"
      },
      "outputs": [
        {
          "output_type": "execute_result",
          "data": {
            "text/html": [
              "\n",
              "  <div id=\"df-fe97ce39-cfce-4573-a259-d8458239cb2d\">\n",
              "    <div class=\"colab-df-container\">\n",
              "      <div>\n",
              "<style scoped>\n",
              "    .dataframe tbody tr th:only-of-type {\n",
              "        vertical-align: middle;\n",
              "    }\n",
              "\n",
              "    .dataframe tbody tr th {\n",
              "        vertical-align: top;\n",
              "    }\n",
              "\n",
              "    .dataframe thead th {\n",
              "        text-align: right;\n",
              "    }\n",
              "</style>\n",
              "<table border=\"1\" class=\"dataframe\">\n",
              "  <thead>\n",
              "    <tr style=\"text-align: right;\">\n",
              "      <th></th>\n",
              "      <th>ApplicantIncome</th>\n",
              "      <th>CoapplicantIncome</th>\n",
              "      <th>LoanAmount</th>\n",
              "      <th>Loan_Amount_Term</th>\n",
              "      <th>Credit_History</th>\n",
              "    </tr>\n",
              "  </thead>\n",
              "  <tbody>\n",
              "    <tr>\n",
              "      <th>count</th>\n",
              "      <td>614.000000</td>\n",
              "      <td>614.000000</td>\n",
              "      <td>592.000000</td>\n",
              "      <td>600.00000</td>\n",
              "      <td>564.000000</td>\n",
              "    </tr>\n",
              "    <tr>\n",
              "      <th>mean</th>\n",
              "      <td>5403.459283</td>\n",
              "      <td>1621.245798</td>\n",
              "      <td>146.412162</td>\n",
              "      <td>342.00000</td>\n",
              "      <td>0.842199</td>\n",
              "    </tr>\n",
              "    <tr>\n",
              "      <th>std</th>\n",
              "      <td>6109.041673</td>\n",
              "      <td>2926.248369</td>\n",
              "      <td>85.587325</td>\n",
              "      <td>65.12041</td>\n",
              "      <td>0.364878</td>\n",
              "    </tr>\n",
              "    <tr>\n",
              "      <th>min</th>\n",
              "      <td>150.000000</td>\n",
              "      <td>0.000000</td>\n",
              "      <td>9.000000</td>\n",
              "      <td>12.00000</td>\n",
              "      <td>0.000000</td>\n",
              "    </tr>\n",
              "    <tr>\n",
              "      <th>25%</th>\n",
              "      <td>2877.500000</td>\n",
              "      <td>0.000000</td>\n",
              "      <td>100.000000</td>\n",
              "      <td>360.00000</td>\n",
              "      <td>1.000000</td>\n",
              "    </tr>\n",
              "    <tr>\n",
              "      <th>50%</th>\n",
              "      <td>3812.500000</td>\n",
              "      <td>1188.500000</td>\n",
              "      <td>128.000000</td>\n",
              "      <td>360.00000</td>\n",
              "      <td>1.000000</td>\n",
              "    </tr>\n",
              "    <tr>\n",
              "      <th>75%</th>\n",
              "      <td>5795.000000</td>\n",
              "      <td>2297.250000</td>\n",
              "      <td>168.000000</td>\n",
              "      <td>360.00000</td>\n",
              "      <td>1.000000</td>\n",
              "    </tr>\n",
              "    <tr>\n",
              "      <th>max</th>\n",
              "      <td>81000.000000</td>\n",
              "      <td>41667.000000</td>\n",
              "      <td>700.000000</td>\n",
              "      <td>480.00000</td>\n",
              "      <td>1.000000</td>\n",
              "    </tr>\n",
              "  </tbody>\n",
              "</table>\n",
              "</div>\n",
              "      <button class=\"colab-df-convert\" onclick=\"convertToInteractive('df-fe97ce39-cfce-4573-a259-d8458239cb2d')\"\n",
              "              title=\"Convert this dataframe to an interactive table.\"\n",
              "              style=\"display:none;\">\n",
              "        \n",
              "  <svg xmlns=\"http://www.w3.org/2000/svg\" height=\"24px\"viewBox=\"0 0 24 24\"\n",
              "       width=\"24px\">\n",
              "    <path d=\"M0 0h24v24H0V0z\" fill=\"none\"/>\n",
              "    <path d=\"M18.56 5.44l.94 2.06.94-2.06 2.06-.94-2.06-.94-.94-2.06-.94 2.06-2.06.94zm-11 1L8.5 8.5l.94-2.06 2.06-.94-2.06-.94L8.5 2.5l-.94 2.06-2.06.94zm10 10l.94 2.06.94-2.06 2.06-.94-2.06-.94-.94-2.06-.94 2.06-2.06.94z\"/><path d=\"M17.41 7.96l-1.37-1.37c-.4-.4-.92-.59-1.43-.59-.52 0-1.04.2-1.43.59L10.3 9.45l-7.72 7.72c-.78.78-.78 2.05 0 2.83L4 21.41c.39.39.9.59 1.41.59.51 0 1.02-.2 1.41-.59l7.78-7.78 2.81-2.81c.8-.78.8-2.07 0-2.86zM5.41 20L4 18.59l7.72-7.72 1.47 1.35L5.41 20z\"/>\n",
              "  </svg>\n",
              "      </button>\n",
              "      \n",
              "  <style>\n",
              "    .colab-df-container {\n",
              "      display:flex;\n",
              "      flex-wrap:wrap;\n",
              "      gap: 12px;\n",
              "    }\n",
              "\n",
              "    .colab-df-convert {\n",
              "      background-color: #E8F0FE;\n",
              "      border: none;\n",
              "      border-radius: 50%;\n",
              "      cursor: pointer;\n",
              "      display: none;\n",
              "      fill: #1967D2;\n",
              "      height: 32px;\n",
              "      padding: 0 0 0 0;\n",
              "      width: 32px;\n",
              "    }\n",
              "\n",
              "    .colab-df-convert:hover {\n",
              "      background-color: #E2EBFA;\n",
              "      box-shadow: 0px 1px 2px rgba(60, 64, 67, 0.3), 0px 1px 3px 1px rgba(60, 64, 67, 0.15);\n",
              "      fill: #174EA6;\n",
              "    }\n",
              "\n",
              "    [theme=dark] .colab-df-convert {\n",
              "      background-color: #3B4455;\n",
              "      fill: #D2E3FC;\n",
              "    }\n",
              "\n",
              "    [theme=dark] .colab-df-convert:hover {\n",
              "      background-color: #434B5C;\n",
              "      box-shadow: 0px 1px 3px 1px rgba(0, 0, 0, 0.15);\n",
              "      filter: drop-shadow(0px 1px 2px rgba(0, 0, 0, 0.3));\n",
              "      fill: #FFFFFF;\n",
              "    }\n",
              "  </style>\n",
              "\n",
              "      <script>\n",
              "        const buttonEl =\n",
              "          document.querySelector('#df-fe97ce39-cfce-4573-a259-d8458239cb2d button.colab-df-convert');\n",
              "        buttonEl.style.display =\n",
              "          google.colab.kernel.accessAllowed ? 'block' : 'none';\n",
              "\n",
              "        async function convertToInteractive(key) {\n",
              "          const element = document.querySelector('#df-fe97ce39-cfce-4573-a259-d8458239cb2d');\n",
              "          const dataTable =\n",
              "            await google.colab.kernel.invokeFunction('convertToInteractive',\n",
              "                                                     [key], {});\n",
              "          if (!dataTable) return;\n",
              "\n",
              "          const docLinkHtml = 'Like what you see? Visit the ' +\n",
              "            '<a target=\"_blank\" href=https://colab.research.google.com/notebooks/data_table.ipynb>data table notebook</a>'\n",
              "            + ' to learn more about interactive tables.';\n",
              "          element.innerHTML = '';\n",
              "          dataTable['output_type'] = 'display_data';\n",
              "          await google.colab.output.renderOutput(dataTable, element);\n",
              "          const docLink = document.createElement('div');\n",
              "          docLink.innerHTML = docLinkHtml;\n",
              "          element.appendChild(docLink);\n",
              "        }\n",
              "      </script>\n",
              "    </div>\n",
              "  </div>\n",
              "  "
            ],
            "text/plain": [
              "       ApplicantIncome  CoapplicantIncome  ...  Loan_Amount_Term  Credit_History\n",
              "count       614.000000         614.000000  ...         600.00000      564.000000\n",
              "mean       5403.459283        1621.245798  ...         342.00000        0.842199\n",
              "std        6109.041673        2926.248369  ...          65.12041        0.364878\n",
              "min         150.000000           0.000000  ...          12.00000        0.000000\n",
              "25%        2877.500000           0.000000  ...         360.00000        1.000000\n",
              "50%        3812.500000        1188.500000  ...         360.00000        1.000000\n",
              "75%        5795.000000        2297.250000  ...         360.00000        1.000000\n",
              "max       81000.000000       41667.000000  ...         480.00000        1.000000\n",
              "\n",
              "[8 rows x 5 columns]"
            ]
          },
          "metadata": {},
          "execution_count": 15
        }
      ],
      "source": [
        "# Reurns the brief of statistical infomation\n",
        "df.describe()"
      ]
    },
    {
      "cell_type": "code",
      "execution_count": null,
      "metadata": {
        "colab": {
          "base_uri": "https://localhost:8080/"
        },
        "id": "rzCqwo5VksPj",
        "outputId": "94babbba-5b6c-4c45-b3a7-768312e1d509"
      },
      "outputs": [
        {
          "output_type": "execute_result",
          "data": {
            "text/plain": [
              "Loan_ID               0\n",
              "Gender               13\n",
              "Married               3\n",
              "Dependents           15\n",
              "Education             0\n",
              "Self_Employed        32\n",
              "ApplicantIncome       0\n",
              "CoapplicantIncome     0\n",
              "LoanAmount           22\n",
              "Loan_Amount_Term     14\n",
              "Credit_History       50\n",
              "Property_Area         0\n",
              "Loan_Status           0\n",
              "dtype: int64"
            ]
          },
          "metadata": {},
          "execution_count": 16
        }
      ],
      "source": [
        "# Check the null values\n",
        "df.isnull().sum()"
      ]
    },
    {
      "cell_type": "markdown",
      "source": [
        "* **Conclusion:** This shows the number of null values in each column"
      ],
      "metadata": {
        "id": "j5VNEHfM6Mud"
      }
    },
    {
      "cell_type": "code",
      "source": [
        "# Check the null values\n",
        "df_test.isnull().sum()"
      ],
      "metadata": {
        "colab": {
          "base_uri": "https://localhost:8080/"
        },
        "id": "xlkmUUeO6GFs",
        "outputId": "92f06eb3-cd03-4a76-da35-ddfe72f2e334"
      },
      "execution_count": null,
      "outputs": [
        {
          "output_type": "execute_result",
          "data": {
            "text/plain": [
              "Loan_ID               0\n",
              "Gender               11\n",
              "Married               0\n",
              "Dependents           10\n",
              "Education             0\n",
              "Self_Employed        23\n",
              "ApplicantIncome       0\n",
              "CoapplicantIncome     0\n",
              "LoanAmount            5\n",
              "Loan_Amount_Term      6\n",
              "Credit_History       29\n",
              "Property_Area         0\n",
              "dtype: int64"
            ]
          },
          "metadata": {},
          "execution_count": 17
        }
      ]
    },
    {
      "cell_type": "markdown",
      "metadata": {
        "id": "dk-B7u3LlBn6"
      },
      "source": [
        "* **Conclusion:** This shows the number of null values in each column"
      ]
    },
    {
      "cell_type": "code",
      "execution_count": null,
      "metadata": {
        "colab": {
          "base_uri": "https://localhost:8080/"
        },
        "id": "tI77tiUek_xa",
        "outputId": "ab4dc30f-47df-4633-efd2-0ba719731925"
      },
      "outputs": [
        {
          "output_type": "execute_result",
          "data": {
            "text/plain": [
              "0"
            ]
          },
          "metadata": {},
          "execution_count": 18
        }
      ],
      "source": [
        "# Check the duplicate datapoint\n",
        "df.duplicated().sum()"
      ]
    },
    {
      "cell_type": "markdown",
      "metadata": {
        "id": "XBD-3_y1lW7j"
      },
      "source": [
        "Conclusion: The data set doesn't contains any duplicate datapoint"
      ]
    },
    {
      "cell_type": "markdown",
      "metadata": {
        "id": "DQy0QKxCmH0H"
      },
      "source": [
        "* **DATA CLEANING AND DATA MANIPULATION**"
      ]
    },
    {
      "cell_type": "code",
      "execution_count": null,
      "metadata": {
        "colab": {
          "base_uri": "https://localhost:8080/",
          "height": 176
        },
        "id": "J3UW-uvQlTTW",
        "outputId": "5d515d96-394f-4257-8d6f-950f4550075c"
      },
      "outputs": [
        {
          "output_type": "execute_result",
          "data": {
            "text/html": [
              "\n",
              "  <div id=\"df-f9fdc6d5-2b96-4921-ac21-c153d07f0862\">\n",
              "    <div class=\"colab-df-container\">\n",
              "      <div>\n",
              "<style scoped>\n",
              "    .dataframe tbody tr th:only-of-type {\n",
              "        vertical-align: middle;\n",
              "    }\n",
              "\n",
              "    .dataframe tbody tr th {\n",
              "        vertical-align: top;\n",
              "    }\n",
              "\n",
              "    .dataframe thead th {\n",
              "        text-align: right;\n",
              "    }\n",
              "</style>\n",
              "<table border=\"1\" class=\"dataframe\">\n",
              "  <thead>\n",
              "    <tr style=\"text-align: right;\">\n",
              "      <th></th>\n",
              "      <th>Loan_ID</th>\n",
              "      <th>Gender</th>\n",
              "      <th>Married</th>\n",
              "      <th>Dependents</th>\n",
              "      <th>Education</th>\n",
              "      <th>Self_Employed</th>\n",
              "      <th>ApplicantIncome</th>\n",
              "      <th>CoapplicantIncome</th>\n",
              "      <th>LoanAmount</th>\n",
              "      <th>Loan_Amount_Term</th>\n",
              "      <th>Credit_History</th>\n",
              "      <th>Property_Area</th>\n",
              "      <th>Loan_Status</th>\n",
              "    </tr>\n",
              "  </thead>\n",
              "  <tbody>\n",
              "    <tr>\n",
              "      <th>0</th>\n",
              "      <td>LP001002</td>\n",
              "      <td>Male</td>\n",
              "      <td>No</td>\n",
              "      <td>0</td>\n",
              "      <td>Graduate</td>\n",
              "      <td>No</td>\n",
              "      <td>5849</td>\n",
              "      <td>0.0</td>\n",
              "      <td>NaN</td>\n",
              "      <td>360.0</td>\n",
              "      <td>1.0</td>\n",
              "      <td>Urban</td>\n",
              "      <td>Y</td>\n",
              "    </tr>\n",
              "    <tr>\n",
              "      <th>1</th>\n",
              "      <td>LP001003</td>\n",
              "      <td>Male</td>\n",
              "      <td>Yes</td>\n",
              "      <td>1</td>\n",
              "      <td>Graduate</td>\n",
              "      <td>No</td>\n",
              "      <td>4583</td>\n",
              "      <td>1508.0</td>\n",
              "      <td>128.0</td>\n",
              "      <td>360.0</td>\n",
              "      <td>1.0</td>\n",
              "      <td>Rural</td>\n",
              "      <td>N</td>\n",
              "    </tr>\n",
              "  </tbody>\n",
              "</table>\n",
              "</div>\n",
              "      <button class=\"colab-df-convert\" onclick=\"convertToInteractive('df-f9fdc6d5-2b96-4921-ac21-c153d07f0862')\"\n",
              "              title=\"Convert this dataframe to an interactive table.\"\n",
              "              style=\"display:none;\">\n",
              "        \n",
              "  <svg xmlns=\"http://www.w3.org/2000/svg\" height=\"24px\"viewBox=\"0 0 24 24\"\n",
              "       width=\"24px\">\n",
              "    <path d=\"M0 0h24v24H0V0z\" fill=\"none\"/>\n",
              "    <path d=\"M18.56 5.44l.94 2.06.94-2.06 2.06-.94-2.06-.94-.94-2.06-.94 2.06-2.06.94zm-11 1L8.5 8.5l.94-2.06 2.06-.94-2.06-.94L8.5 2.5l-.94 2.06-2.06.94zm10 10l.94 2.06.94-2.06 2.06-.94-2.06-.94-.94-2.06-.94 2.06-2.06.94z\"/><path d=\"M17.41 7.96l-1.37-1.37c-.4-.4-.92-.59-1.43-.59-.52 0-1.04.2-1.43.59L10.3 9.45l-7.72 7.72c-.78.78-.78 2.05 0 2.83L4 21.41c.39.39.9.59 1.41.59.51 0 1.02-.2 1.41-.59l7.78-7.78 2.81-2.81c.8-.78.8-2.07 0-2.86zM5.41 20L4 18.59l7.72-7.72 1.47 1.35L5.41 20z\"/>\n",
              "  </svg>\n",
              "      </button>\n",
              "      \n",
              "  <style>\n",
              "    .colab-df-container {\n",
              "      display:flex;\n",
              "      flex-wrap:wrap;\n",
              "      gap: 12px;\n",
              "    }\n",
              "\n",
              "    .colab-df-convert {\n",
              "      background-color: #E8F0FE;\n",
              "      border: none;\n",
              "      border-radius: 50%;\n",
              "      cursor: pointer;\n",
              "      display: none;\n",
              "      fill: #1967D2;\n",
              "      height: 32px;\n",
              "      padding: 0 0 0 0;\n",
              "      width: 32px;\n",
              "    }\n",
              "\n",
              "    .colab-df-convert:hover {\n",
              "      background-color: #E2EBFA;\n",
              "      box-shadow: 0px 1px 2px rgba(60, 64, 67, 0.3), 0px 1px 3px 1px rgba(60, 64, 67, 0.15);\n",
              "      fill: #174EA6;\n",
              "    }\n",
              "\n",
              "    [theme=dark] .colab-df-convert {\n",
              "      background-color: #3B4455;\n",
              "      fill: #D2E3FC;\n",
              "    }\n",
              "\n",
              "    [theme=dark] .colab-df-convert:hover {\n",
              "      background-color: #434B5C;\n",
              "      box-shadow: 0px 1px 3px 1px rgba(0, 0, 0, 0.15);\n",
              "      filter: drop-shadow(0px 1px 2px rgba(0, 0, 0, 0.3));\n",
              "      fill: #FFFFFF;\n",
              "    }\n",
              "  </style>\n",
              "\n",
              "      <script>\n",
              "        const buttonEl =\n",
              "          document.querySelector('#df-f9fdc6d5-2b96-4921-ac21-c153d07f0862 button.colab-df-convert');\n",
              "        buttonEl.style.display =\n",
              "          google.colab.kernel.accessAllowed ? 'block' : 'none';\n",
              "\n",
              "        async function convertToInteractive(key) {\n",
              "          const element = document.querySelector('#df-f9fdc6d5-2b96-4921-ac21-c153d07f0862');\n",
              "          const dataTable =\n",
              "            await google.colab.kernel.invokeFunction('convertToInteractive',\n",
              "                                                     [key], {});\n",
              "          if (!dataTable) return;\n",
              "\n",
              "          const docLinkHtml = 'Like what you see? Visit the ' +\n",
              "            '<a target=\"_blank\" href=https://colab.research.google.com/notebooks/data_table.ipynb>data table notebook</a>'\n",
              "            + ' to learn more about interactive tables.';\n",
              "          element.innerHTML = '';\n",
              "          dataTable['output_type'] = 'display_data';\n",
              "          await google.colab.output.renderOutput(dataTable, element);\n",
              "          const docLink = document.createElement('div');\n",
              "          docLink.innerHTML = docLinkHtml;\n",
              "          element.appendChild(docLink);\n",
              "        }\n",
              "      </script>\n",
              "    </div>\n",
              "  </div>\n",
              "  "
            ],
            "text/plain": [
              "    Loan_ID Gender Married  ... Credit_History Property_Area Loan_Status\n",
              "0  LP001002   Male      No  ...            1.0         Urban           Y\n",
              "1  LP001003   Male     Yes  ...            1.0         Rural           N\n",
              "\n",
              "[2 rows x 13 columns]"
            ]
          },
          "metadata": {},
          "execution_count": 19
        }
      ],
      "source": [
        "df.head(2)"
      ]
    },
    {
      "cell_type": "code",
      "execution_count": null,
      "metadata": {
        "id": "QHb3YETkmlaF"
      },
      "outputs": [],
      "source": [
        "# Drop the Loan_ID\n",
        "# Since loan_ID will not help us in analysing the data, we'll delete this column from both the dataset. \n",
        "df.drop('Loan_ID', axis = 1, inplace = True)\n",
        "df_test.drop('Loan_ID', axis = 1, inplace = True)"
      ]
    },
    {
      "cell_type": "code",
      "execution_count": null,
      "metadata": {
        "colab": {
          "base_uri": "https://localhost:8080/"
        },
        "id": "RfAZrsy8m8xH",
        "outputId": "ad9e03da-18a1-4d01-f8bf-7fc27be9b62f"
      },
      "outputs": [
        {
          "output_type": "execute_result",
          "data": {
            "text/plain": [
              "array(['Male', 'Female', nan], dtype=object)"
            ]
          },
          "metadata": {},
          "execution_count": 21
        }
      ],
      "source": [
        "# Check the unique values in 'Gender'\n",
        "df['Gender'].unique()"
      ]
    },
    {
      "cell_type": "code",
      "execution_count": null,
      "metadata": {
        "colab": {
          "base_uri": "https://localhost:8080/"
        },
        "id": "kP2ldVJPnWX7",
        "outputId": "6c678a28-0746-4589-8f84-c68e2f1075b5"
      },
      "outputs": [
        {
          "output_type": "execute_result",
          "data": {
            "text/plain": [
              "2"
            ]
          },
          "metadata": {},
          "execution_count": 22
        }
      ],
      "source": [
        "# Check the number of unique values in Gender\n",
        "df['Gender'].nunique()"
      ]
    },
    {
      "cell_type": "code",
      "source": [
        "# Check the unique values in 'Gender'\n",
        "df_test['Gender'].unique()"
      ],
      "metadata": {
        "colab": {
          "base_uri": "https://localhost:8080/"
        },
        "id": "mFq6HY2_6gg4",
        "outputId": "bf33bfce-9386-4225-d6b1-947b6320dd5c"
      },
      "execution_count": null,
      "outputs": [
        {
          "output_type": "execute_result",
          "data": {
            "text/plain": [
              "array(['Male', 'Female', nan], dtype=object)"
            ]
          },
          "metadata": {},
          "execution_count": 23
        }
      ]
    },
    {
      "cell_type": "code",
      "execution_count": null,
      "metadata": {
        "colab": {
          "base_uri": "https://localhost:8080/"
        },
        "id": "4dXbpnUznjlu",
        "outputId": "26f484d9-45d1-416b-b41e-307171eb6bb3"
      },
      "outputs": [
        {
          "output_type": "execute_result",
          "data": {
            "text/plain": [
              "Male      489\n",
              "Female    112\n",
              "Name: Gender, dtype: int64"
            ]
          },
          "metadata": {},
          "execution_count": 24
        }
      ],
      "source": [
        "# Check the frequency of each category in Gender\n",
        "df['Gender'].value_counts()"
      ]
    },
    {
      "cell_type": "code",
      "source": [
        "# Check the frequency of each category in Gender\n",
        "df_test['Gender'].value_counts()"
      ],
      "metadata": {
        "colab": {
          "base_uri": "https://localhost:8080/"
        },
        "id": "FIvwwc9X6j3N",
        "outputId": "7550e500-1f5d-4cdd-f428-ca42e46fd5fb"
      },
      "execution_count": null,
      "outputs": [
        {
          "output_type": "execute_result",
          "data": {
            "text/plain": [
              "Male      286\n",
              "Female     70\n",
              "Name: Gender, dtype: int64"
            ]
          },
          "metadata": {},
          "execution_count": 25
        }
      ]
    },
    {
      "cell_type": "code",
      "execution_count": null,
      "metadata": {
        "colab": {
          "base_uri": "https://localhost:8080/"
        },
        "id": "r-9vNRgsn1rq",
        "outputId": "8c0e3ca8-ccef-46b0-a47d-df04bf60b829"
      },
      "outputs": [
        {
          "output_type": "execute_result",
          "data": {
            "text/plain": [
              "13"
            ]
          },
          "metadata": {},
          "execution_count": 26
        }
      ],
      "source": [
        "# Check the number of null values in Gender\n",
        "df.Gender.isnull().sum()"
      ]
    },
    {
      "cell_type": "markdown",
      "metadata": {
        "id": "9_mQX5vioFYl"
      },
      "source": [
        "Conclusion: The Gender column has 13 null values "
      ]
    },
    {
      "cell_type": "code",
      "execution_count": null,
      "metadata": {
        "id": "mdAsOgB0oAcC"
      },
      "outputs": [],
      "source": [
        "# Filling the null values in Gender\n",
        "# Since we have 489 males and 112 females, the mode of the Gender is 'MALE' we'll fill all the null values with 'male'\n",
        "df.Gender.fillna('Male', inplace = True)"
      ]
    },
    {
      "cell_type": "code",
      "source": [
        "# Filling the null values in Gender\n",
        "# Since we have 286 males and 70 females, the mode of the Gender is 'MALE' we'll fill all the null values with 'male'\n",
        "df_test.Gender.fillna('Male', inplace = True)"
      ],
      "metadata": {
        "id": "MWlS9FUT6qpP"
      },
      "execution_count": null,
      "outputs": []
    },
    {
      "cell_type": "code",
      "execution_count": null,
      "metadata": {
        "colab": {
          "base_uri": "https://localhost:8080/"
        },
        "id": "dPOLIh2epIa_",
        "outputId": "f7fef00a-b27c-4cac-ebfa-4f7013f13227"
      },
      "outputs": [
        {
          "output_type": "execute_result",
          "data": {
            "text/plain": [
              "0"
            ]
          },
          "metadata": {},
          "execution_count": 29
        }
      ],
      "source": [
        "df.Gender.isnull().sum()"
      ]
    },
    {
      "cell_type": "code",
      "execution_count": null,
      "metadata": {
        "id": "CV4SgHMUpfO4"
      },
      "outputs": [],
      "source": [
        "# Since there are categorial features in this column, covert it into numberical features using pandas get_dummies \n",
        "df.Gender = pd.get_dummies(df.Gender, drop_first = True)"
      ]
    },
    {
      "cell_type": "code",
      "source": [
        "# Since there are categorial features in this column, covert it into numberical features using pandas get_dummies \n",
        "df_test.Gender = pd.get_dummies(df_test.Gender, drop_first = True)"
      ],
      "metadata": {
        "id": "WwSIUppy6zpc"
      },
      "execution_count": null,
      "outputs": []
    },
    {
      "cell_type": "code",
      "execution_count": null,
      "metadata": {
        "colab": {
          "base_uri": "https://localhost:8080/"
        },
        "id": "gkUMjtdBqzbD",
        "outputId": "bf2dacce-0250-4956-ee52-489b4a9922fb"
      },
      "outputs": [
        {
          "output_type": "execute_result",
          "data": {
            "text/plain": [
              "1    502\n",
              "0    112\n",
              "Name: Gender, dtype: int64"
            ]
          },
          "metadata": {},
          "execution_count": 32
        }
      ],
      "source": [
        "df.Gender.value_counts()\n",
        "# Male -> 1\n",
        "# Female -> 0"
      ]
    },
    {
      "cell_type": "code",
      "source": [
        "df_test.Gender.value_counts()\n",
        "# Male -> 1\n",
        "# Female -> 0"
      ],
      "metadata": {
        "colab": {
          "base_uri": "https://localhost:8080/"
        },
        "id": "v38jXHJK634r",
        "outputId": "f51d6668-33af-4110-f0e3-26a89d242b42"
      },
      "execution_count": null,
      "outputs": [
        {
          "output_type": "execute_result",
          "data": {
            "text/plain": [
              "1    297\n",
              "0     70\n",
              "Name: Gender, dtype: int64"
            ]
          },
          "metadata": {},
          "execution_count": 33
        }
      ]
    },
    {
      "cell_type": "code",
      "execution_count": null,
      "metadata": {
        "id": "xTSdzMMnrM_M"
      },
      "outputs": [],
      "source": [
        "# Change the data type of Gender to integer\n",
        "df.Gender = df.Gender.astype('int')"
      ]
    },
    {
      "cell_type": "code",
      "source": [
        "# Change the data type of Gender to integer\n",
        "df_test.Gender = df_test.Gender.astype('int')"
      ],
      "metadata": {
        "id": "JcE0DnQL68kR"
      },
      "execution_count": null,
      "outputs": []
    },
    {
      "cell_type": "code",
      "execution_count": null,
      "metadata": {
        "colab": {
          "base_uri": "https://localhost:8080/"
        },
        "id": "PLf6zTTermsQ",
        "outputId": "a17e07be-4274-4625-c7db-db77e1424225"
      },
      "outputs": [
        {
          "output_type": "execute_result",
          "data": {
            "text/plain": [
              "dtype('int64')"
            ]
          },
          "metadata": {},
          "execution_count": 36
        }
      ],
      "source": [
        "df.Gender.dtype"
      ]
    },
    {
      "cell_type": "code",
      "execution_count": null,
      "metadata": {
        "colab": {
          "base_uri": "https://localhost:8080/",
          "height": 176
        },
        "id": "X1rQ2dydrq3P",
        "outputId": "6a2793c1-5880-4415-f44f-9697246b9736"
      },
      "outputs": [
        {
          "output_type": "execute_result",
          "data": {
            "text/html": [
              "\n",
              "  <div id=\"df-e1118f92-8980-431e-8e1e-f974b863d8bb\">\n",
              "    <div class=\"colab-df-container\">\n",
              "      <div>\n",
              "<style scoped>\n",
              "    .dataframe tbody tr th:only-of-type {\n",
              "        vertical-align: middle;\n",
              "    }\n",
              "\n",
              "    .dataframe tbody tr th {\n",
              "        vertical-align: top;\n",
              "    }\n",
              "\n",
              "    .dataframe thead th {\n",
              "        text-align: right;\n",
              "    }\n",
              "</style>\n",
              "<table border=\"1\" class=\"dataframe\">\n",
              "  <thead>\n",
              "    <tr style=\"text-align: right;\">\n",
              "      <th></th>\n",
              "      <th>Gender</th>\n",
              "      <th>Married</th>\n",
              "      <th>Dependents</th>\n",
              "      <th>Education</th>\n",
              "      <th>Self_Employed</th>\n",
              "      <th>ApplicantIncome</th>\n",
              "      <th>CoapplicantIncome</th>\n",
              "      <th>LoanAmount</th>\n",
              "      <th>Loan_Amount_Term</th>\n",
              "      <th>Credit_History</th>\n",
              "      <th>Property_Area</th>\n",
              "      <th>Loan_Status</th>\n",
              "    </tr>\n",
              "  </thead>\n",
              "  <tbody>\n",
              "    <tr>\n",
              "      <th>0</th>\n",
              "      <td>1</td>\n",
              "      <td>No</td>\n",
              "      <td>0</td>\n",
              "      <td>Graduate</td>\n",
              "      <td>No</td>\n",
              "      <td>5849</td>\n",
              "      <td>0.0</td>\n",
              "      <td>NaN</td>\n",
              "      <td>360.0</td>\n",
              "      <td>1.0</td>\n",
              "      <td>Urban</td>\n",
              "      <td>Y</td>\n",
              "    </tr>\n",
              "    <tr>\n",
              "      <th>1</th>\n",
              "      <td>1</td>\n",
              "      <td>Yes</td>\n",
              "      <td>1</td>\n",
              "      <td>Graduate</td>\n",
              "      <td>No</td>\n",
              "      <td>4583</td>\n",
              "      <td>1508.0</td>\n",
              "      <td>128.0</td>\n",
              "      <td>360.0</td>\n",
              "      <td>1.0</td>\n",
              "      <td>Rural</td>\n",
              "      <td>N</td>\n",
              "    </tr>\n",
              "  </tbody>\n",
              "</table>\n",
              "</div>\n",
              "      <button class=\"colab-df-convert\" onclick=\"convertToInteractive('df-e1118f92-8980-431e-8e1e-f974b863d8bb')\"\n",
              "              title=\"Convert this dataframe to an interactive table.\"\n",
              "              style=\"display:none;\">\n",
              "        \n",
              "  <svg xmlns=\"http://www.w3.org/2000/svg\" height=\"24px\"viewBox=\"0 0 24 24\"\n",
              "       width=\"24px\">\n",
              "    <path d=\"M0 0h24v24H0V0z\" fill=\"none\"/>\n",
              "    <path d=\"M18.56 5.44l.94 2.06.94-2.06 2.06-.94-2.06-.94-.94-2.06-.94 2.06-2.06.94zm-11 1L8.5 8.5l.94-2.06 2.06-.94-2.06-.94L8.5 2.5l-.94 2.06-2.06.94zm10 10l.94 2.06.94-2.06 2.06-.94-2.06-.94-.94-2.06-.94 2.06-2.06.94z\"/><path d=\"M17.41 7.96l-1.37-1.37c-.4-.4-.92-.59-1.43-.59-.52 0-1.04.2-1.43.59L10.3 9.45l-7.72 7.72c-.78.78-.78 2.05 0 2.83L4 21.41c.39.39.9.59 1.41.59.51 0 1.02-.2 1.41-.59l7.78-7.78 2.81-2.81c.8-.78.8-2.07 0-2.86zM5.41 20L4 18.59l7.72-7.72 1.47 1.35L5.41 20z\"/>\n",
              "  </svg>\n",
              "      </button>\n",
              "      \n",
              "  <style>\n",
              "    .colab-df-container {\n",
              "      display:flex;\n",
              "      flex-wrap:wrap;\n",
              "      gap: 12px;\n",
              "    }\n",
              "\n",
              "    .colab-df-convert {\n",
              "      background-color: #E8F0FE;\n",
              "      border: none;\n",
              "      border-radius: 50%;\n",
              "      cursor: pointer;\n",
              "      display: none;\n",
              "      fill: #1967D2;\n",
              "      height: 32px;\n",
              "      padding: 0 0 0 0;\n",
              "      width: 32px;\n",
              "    }\n",
              "\n",
              "    .colab-df-convert:hover {\n",
              "      background-color: #E2EBFA;\n",
              "      box-shadow: 0px 1px 2px rgba(60, 64, 67, 0.3), 0px 1px 3px 1px rgba(60, 64, 67, 0.15);\n",
              "      fill: #174EA6;\n",
              "    }\n",
              "\n",
              "    [theme=dark] .colab-df-convert {\n",
              "      background-color: #3B4455;\n",
              "      fill: #D2E3FC;\n",
              "    }\n",
              "\n",
              "    [theme=dark] .colab-df-convert:hover {\n",
              "      background-color: #434B5C;\n",
              "      box-shadow: 0px 1px 3px 1px rgba(0, 0, 0, 0.15);\n",
              "      filter: drop-shadow(0px 1px 2px rgba(0, 0, 0, 0.3));\n",
              "      fill: #FFFFFF;\n",
              "    }\n",
              "  </style>\n",
              "\n",
              "      <script>\n",
              "        const buttonEl =\n",
              "          document.querySelector('#df-e1118f92-8980-431e-8e1e-f974b863d8bb button.colab-df-convert');\n",
              "        buttonEl.style.display =\n",
              "          google.colab.kernel.accessAllowed ? 'block' : 'none';\n",
              "\n",
              "        async function convertToInteractive(key) {\n",
              "          const element = document.querySelector('#df-e1118f92-8980-431e-8e1e-f974b863d8bb');\n",
              "          const dataTable =\n",
              "            await google.colab.kernel.invokeFunction('convertToInteractive',\n",
              "                                                     [key], {});\n",
              "          if (!dataTable) return;\n",
              "\n",
              "          const docLinkHtml = 'Like what you see? Visit the ' +\n",
              "            '<a target=\"_blank\" href=https://colab.research.google.com/notebooks/data_table.ipynb>data table notebook</a>'\n",
              "            + ' to learn more about interactive tables.';\n",
              "          element.innerHTML = '';\n",
              "          dataTable['output_type'] = 'display_data';\n",
              "          await google.colab.output.renderOutput(dataTable, element);\n",
              "          const docLink = document.createElement('div');\n",
              "          docLink.innerHTML = docLinkHtml;\n",
              "          element.appendChild(docLink);\n",
              "        }\n",
              "      </script>\n",
              "    </div>\n",
              "  </div>\n",
              "  "
            ],
            "text/plain": [
              "   Gender Married Dependents  ... Credit_History Property_Area  Loan_Status\n",
              "0       1      No          0  ...            1.0         Urban            Y\n",
              "1       1     Yes          1  ...            1.0         Rural            N\n",
              "\n",
              "[2 rows x 12 columns]"
            ]
          },
          "metadata": {},
          "execution_count": 37
        }
      ],
      "source": [
        "df.head(2)"
      ]
    },
    {
      "cell_type": "code",
      "execution_count": null,
      "metadata": {
        "colab": {
          "base_uri": "https://localhost:8080/"
        },
        "id": "ZSyi4coHr8JE",
        "outputId": "bb529987-1ea4-44d7-cb14-e926570e7e13"
      },
      "outputs": [
        {
          "output_type": "execute_result",
          "data": {
            "text/plain": [
              "array(['No', 'Yes', nan], dtype=object)"
            ]
          },
          "metadata": {},
          "execution_count": 38
        }
      ],
      "source": [
        "# Check the unique values in 'Married' column\n",
        "df.Married.unique()"
      ]
    },
    {
      "cell_type": "code",
      "source": [
        "# Check the unique values in 'Married' column\n",
        "df_test.Married.unique()"
      ],
      "metadata": {
        "colab": {
          "base_uri": "https://localhost:8080/"
        },
        "id": "Y2i9hXCo7Ayh",
        "outputId": "09713bb9-8972-40a3-cd7a-1c2b790e8e52"
      },
      "execution_count": null,
      "outputs": [
        {
          "output_type": "execute_result",
          "data": {
            "text/plain": [
              "array(['Yes', 'No'], dtype=object)"
            ]
          },
          "metadata": {},
          "execution_count": 39
        }
      ]
    },
    {
      "cell_type": "code",
      "execution_count": null,
      "metadata": {
        "colab": {
          "base_uri": "https://localhost:8080/"
        },
        "id": "DHhilsq8sMhv",
        "outputId": "8df8ca54-5c65-4289-c7bc-9cac60b7bfe2"
      },
      "outputs": [
        {
          "output_type": "execute_result",
          "data": {
            "text/plain": [
              "3"
            ]
          },
          "metadata": {},
          "execution_count": 40
        }
      ],
      "source": [
        "# Check the number of unique values in Married\n",
        "df.Married.isnull().sum()"
      ]
    },
    {
      "cell_type": "code",
      "execution_count": null,
      "metadata": {
        "colab": {
          "base_uri": "https://localhost:8080/"
        },
        "id": "s81iEjvxsQ2t",
        "outputId": "2dd871fb-1a35-4b64-e222-0385de07920c"
      },
      "outputs": [
        {
          "output_type": "execute_result",
          "data": {
            "text/plain": [
              "Yes    398\n",
              "No     213\n",
              "Name: Married, dtype: int64"
            ]
          },
          "metadata": {},
          "execution_count": 41
        }
      ],
      "source": [
        "# Check the frequency of each category in Married\n",
        "df.Married.value_counts()"
      ]
    },
    {
      "cell_type": "code",
      "execution_count": null,
      "metadata": {
        "id": "E8aI2D_csps5"
      },
      "outputs": [],
      "source": [
        "# Filling the null values of Married.\n",
        "# Since the maximum number of respondents are married, fill the null values by 'Yes'\n",
        "df.Married.fillna('Yes', inplace = True)"
      ]
    },
    {
      "cell_type": "code",
      "execution_count": null,
      "metadata": {
        "colab": {
          "base_uri": "https://localhost:8080/"
        },
        "id": "pJcCw5UbtAkI",
        "outputId": "73dbe53d-0ebc-4477-cd2d-7f00cabf36ac"
      },
      "outputs": [
        {
          "output_type": "execute_result",
          "data": {
            "text/plain": [
              "0"
            ]
          },
          "metadata": {},
          "execution_count": 43
        }
      ],
      "source": [
        "df.Married.isnull().sum()"
      ]
    },
    {
      "cell_type": "code",
      "execution_count": null,
      "metadata": {
        "id": "I8sk0vIbtkbL"
      },
      "outputs": [],
      "source": [
        "# Since there are categorial features in this column, we covert it into numberical features using pandas get_dummies \n",
        "df.Married = pd.get_dummies(df.Married, drop_first = True)"
      ]
    },
    {
      "cell_type": "code",
      "source": [
        "# Since there are categorial features in this column, we covert it into numberical features using pandas get_dummies \n",
        "df_test.Married = pd.get_dummies(df_test.Married, drop_first = True)"
      ],
      "metadata": {
        "id": "G1y9cbOc7LfR"
      },
      "execution_count": null,
      "outputs": []
    },
    {
      "cell_type": "code",
      "execution_count": null,
      "metadata": {
        "colab": {
          "base_uri": "https://localhost:8080/"
        },
        "id": "9pVc3Ntkt7sV",
        "outputId": "3efd0aa8-fc8e-43bc-aa50-e14f1bf39169"
      },
      "outputs": [
        {
          "output_type": "execute_result",
          "data": {
            "text/plain": [
              "1    401\n",
              "0    213\n",
              "Name: Married, dtype: int64"
            ]
          },
          "metadata": {},
          "execution_count": 46
        }
      ],
      "source": [
        "df.Married.value_counts()\n",
        "# Yes -> 1\n",
        "# No -> 0"
      ]
    },
    {
      "cell_type": "code",
      "source": [
        "df_test.Married.value_counts()\n",
        "# Yes -> 1\n",
        "# No -> 0"
      ],
      "metadata": {
        "colab": {
          "base_uri": "https://localhost:8080/"
        },
        "id": "BmJbNBV47ZVh",
        "outputId": "d1b5733e-bf36-43b9-fe34-ca15807b67a5"
      },
      "execution_count": null,
      "outputs": [
        {
          "output_type": "execute_result",
          "data": {
            "text/plain": [
              "1    233\n",
              "0    134\n",
              "Name: Married, dtype: int64"
            ]
          },
          "metadata": {},
          "execution_count": 47
        }
      ]
    },
    {
      "cell_type": "code",
      "execution_count": null,
      "metadata": {
        "id": "jp0PkkLmtKdr"
      },
      "outputs": [],
      "source": [
        "# Change the data type of Married to integer\n",
        "df.Married = df.Married.astype('int')"
      ]
    },
    {
      "cell_type": "code",
      "source": [
        "# Change the data type of Married to integer\n",
        "df_test.Married = df_test.Married.astype('int')\n"
      ],
      "metadata": {
        "id": "74isp93m7bl7"
      },
      "execution_count": null,
      "outputs": []
    },
    {
      "cell_type": "code",
      "execution_count": null,
      "metadata": {
        "colab": {
          "base_uri": "https://localhost:8080/"
        },
        "id": "5MfLrWlOtPsw",
        "outputId": "97ab3914-0ef9-4c26-d3c5-be81c282823d"
      },
      "outputs": [
        {
          "output_type": "stream",
          "name": "stdout",
          "text": [
            "<class 'pandas.core.frame.DataFrame'>\n",
            "RangeIndex: 614 entries, 0 to 613\n",
            "Data columns (total 12 columns):\n",
            " #   Column             Non-Null Count  Dtype  \n",
            "---  ------             --------------  -----  \n",
            " 0   Gender             614 non-null    int64  \n",
            " 1   Married            614 non-null    int64  \n",
            " 2   Dependents         599 non-null    object \n",
            " 3   Education          614 non-null    object \n",
            " 4   Self_Employed      582 non-null    object \n",
            " 5   ApplicantIncome    614 non-null    int64  \n",
            " 6   CoapplicantIncome  614 non-null    float64\n",
            " 7   LoanAmount         592 non-null    float64\n",
            " 8   Loan_Amount_Term   600 non-null    float64\n",
            " 9   Credit_History     564 non-null    float64\n",
            " 10  Property_Area      614 non-null    object \n",
            " 11  Loan_Status        614 non-null    object \n",
            "dtypes: float64(4), int64(3), object(5)\n",
            "memory usage: 57.7+ KB\n"
          ]
        }
      ],
      "source": [
        "df.info()"
      ]
    },
    {
      "cell_type": "code",
      "execution_count": null,
      "metadata": {
        "colab": {
          "base_uri": "https://localhost:8080/",
          "height": 176
        },
        "id": "bnYDlvUuuGqB",
        "outputId": "0441be92-0975-4a62-aba2-8a7caa5750bc"
      },
      "outputs": [
        {
          "output_type": "execute_result",
          "data": {
            "text/html": [
              "\n",
              "  <div id=\"df-aa4a6b39-6a05-4b1f-80a3-a28720e70a22\">\n",
              "    <div class=\"colab-df-container\">\n",
              "      <div>\n",
              "<style scoped>\n",
              "    .dataframe tbody tr th:only-of-type {\n",
              "        vertical-align: middle;\n",
              "    }\n",
              "\n",
              "    .dataframe tbody tr th {\n",
              "        vertical-align: top;\n",
              "    }\n",
              "\n",
              "    .dataframe thead th {\n",
              "        text-align: right;\n",
              "    }\n",
              "</style>\n",
              "<table border=\"1\" class=\"dataframe\">\n",
              "  <thead>\n",
              "    <tr style=\"text-align: right;\">\n",
              "      <th></th>\n",
              "      <th>Gender</th>\n",
              "      <th>Married</th>\n",
              "      <th>Dependents</th>\n",
              "      <th>Education</th>\n",
              "      <th>Self_Employed</th>\n",
              "      <th>ApplicantIncome</th>\n",
              "      <th>CoapplicantIncome</th>\n",
              "      <th>LoanAmount</th>\n",
              "      <th>Loan_Amount_Term</th>\n",
              "      <th>Credit_History</th>\n",
              "      <th>Property_Area</th>\n",
              "      <th>Loan_Status</th>\n",
              "    </tr>\n",
              "  </thead>\n",
              "  <tbody>\n",
              "    <tr>\n",
              "      <th>0</th>\n",
              "      <td>1</td>\n",
              "      <td>0</td>\n",
              "      <td>0</td>\n",
              "      <td>Graduate</td>\n",
              "      <td>No</td>\n",
              "      <td>5849</td>\n",
              "      <td>0.0</td>\n",
              "      <td>NaN</td>\n",
              "      <td>360.0</td>\n",
              "      <td>1.0</td>\n",
              "      <td>Urban</td>\n",
              "      <td>Y</td>\n",
              "    </tr>\n",
              "    <tr>\n",
              "      <th>1</th>\n",
              "      <td>1</td>\n",
              "      <td>1</td>\n",
              "      <td>1</td>\n",
              "      <td>Graduate</td>\n",
              "      <td>No</td>\n",
              "      <td>4583</td>\n",
              "      <td>1508.0</td>\n",
              "      <td>128.0</td>\n",
              "      <td>360.0</td>\n",
              "      <td>1.0</td>\n",
              "      <td>Rural</td>\n",
              "      <td>N</td>\n",
              "    </tr>\n",
              "  </tbody>\n",
              "</table>\n",
              "</div>\n",
              "      <button class=\"colab-df-convert\" onclick=\"convertToInteractive('df-aa4a6b39-6a05-4b1f-80a3-a28720e70a22')\"\n",
              "              title=\"Convert this dataframe to an interactive table.\"\n",
              "              style=\"display:none;\">\n",
              "        \n",
              "  <svg xmlns=\"http://www.w3.org/2000/svg\" height=\"24px\"viewBox=\"0 0 24 24\"\n",
              "       width=\"24px\">\n",
              "    <path d=\"M0 0h24v24H0V0z\" fill=\"none\"/>\n",
              "    <path d=\"M18.56 5.44l.94 2.06.94-2.06 2.06-.94-2.06-.94-.94-2.06-.94 2.06-2.06.94zm-11 1L8.5 8.5l.94-2.06 2.06-.94-2.06-.94L8.5 2.5l-.94 2.06-2.06.94zm10 10l.94 2.06.94-2.06 2.06-.94-2.06-.94-.94-2.06-.94 2.06-2.06.94z\"/><path d=\"M17.41 7.96l-1.37-1.37c-.4-.4-.92-.59-1.43-.59-.52 0-1.04.2-1.43.59L10.3 9.45l-7.72 7.72c-.78.78-.78 2.05 0 2.83L4 21.41c.39.39.9.59 1.41.59.51 0 1.02-.2 1.41-.59l7.78-7.78 2.81-2.81c.8-.78.8-2.07 0-2.86zM5.41 20L4 18.59l7.72-7.72 1.47 1.35L5.41 20z\"/>\n",
              "  </svg>\n",
              "      </button>\n",
              "      \n",
              "  <style>\n",
              "    .colab-df-container {\n",
              "      display:flex;\n",
              "      flex-wrap:wrap;\n",
              "      gap: 12px;\n",
              "    }\n",
              "\n",
              "    .colab-df-convert {\n",
              "      background-color: #E8F0FE;\n",
              "      border: none;\n",
              "      border-radius: 50%;\n",
              "      cursor: pointer;\n",
              "      display: none;\n",
              "      fill: #1967D2;\n",
              "      height: 32px;\n",
              "      padding: 0 0 0 0;\n",
              "      width: 32px;\n",
              "    }\n",
              "\n",
              "    .colab-df-convert:hover {\n",
              "      background-color: #E2EBFA;\n",
              "      box-shadow: 0px 1px 2px rgba(60, 64, 67, 0.3), 0px 1px 3px 1px rgba(60, 64, 67, 0.15);\n",
              "      fill: #174EA6;\n",
              "    }\n",
              "\n",
              "    [theme=dark] .colab-df-convert {\n",
              "      background-color: #3B4455;\n",
              "      fill: #D2E3FC;\n",
              "    }\n",
              "\n",
              "    [theme=dark] .colab-df-convert:hover {\n",
              "      background-color: #434B5C;\n",
              "      box-shadow: 0px 1px 3px 1px rgba(0, 0, 0, 0.15);\n",
              "      filter: drop-shadow(0px 1px 2px rgba(0, 0, 0, 0.3));\n",
              "      fill: #FFFFFF;\n",
              "    }\n",
              "  </style>\n",
              "\n",
              "      <script>\n",
              "        const buttonEl =\n",
              "          document.querySelector('#df-aa4a6b39-6a05-4b1f-80a3-a28720e70a22 button.colab-df-convert');\n",
              "        buttonEl.style.display =\n",
              "          google.colab.kernel.accessAllowed ? 'block' : 'none';\n",
              "\n",
              "        async function convertToInteractive(key) {\n",
              "          const element = document.querySelector('#df-aa4a6b39-6a05-4b1f-80a3-a28720e70a22');\n",
              "          const dataTable =\n",
              "            await google.colab.kernel.invokeFunction('convertToInteractive',\n",
              "                                                     [key], {});\n",
              "          if (!dataTable) return;\n",
              "\n",
              "          const docLinkHtml = 'Like what you see? Visit the ' +\n",
              "            '<a target=\"_blank\" href=https://colab.research.google.com/notebooks/data_table.ipynb>data table notebook</a>'\n",
              "            + ' to learn more about interactive tables.';\n",
              "          element.innerHTML = '';\n",
              "          dataTable['output_type'] = 'display_data';\n",
              "          await google.colab.output.renderOutput(dataTable, element);\n",
              "          const docLink = document.createElement('div');\n",
              "          docLink.innerHTML = docLinkHtml;\n",
              "          element.appendChild(docLink);\n",
              "        }\n",
              "      </script>\n",
              "    </div>\n",
              "  </div>\n",
              "  "
            ],
            "text/plain": [
              "   Gender  Married Dependents  ... Credit_History Property_Area  Loan_Status\n",
              "0       1        0          0  ...            1.0         Urban            Y\n",
              "1       1        1          1  ...            1.0         Rural            N\n",
              "\n",
              "[2 rows x 12 columns]"
            ]
          },
          "metadata": {},
          "execution_count": 51
        }
      ],
      "source": [
        "df.head(2)"
      ]
    },
    {
      "cell_type": "code",
      "execution_count": null,
      "metadata": {
        "colab": {
          "base_uri": "https://localhost:8080/"
        },
        "id": "Ux6L4SsvuMBK",
        "outputId": "d0cde3f4-e494-4cc9-ec3c-0687da795955"
      },
      "outputs": [
        {
          "output_type": "execute_result",
          "data": {
            "text/plain": [
              "array(['0', '1', '2', '3+', nan], dtype=object)"
            ]
          },
          "metadata": {},
          "execution_count": 52
        }
      ],
      "source": [
        "# Check the unique values in 'Dependents' column\n",
        "df.Dependents.unique()"
      ]
    },
    {
      "cell_type": "code",
      "source": [
        "# Check the unique values in 'Dependents' column\n",
        "df_test.Dependents.unique()"
      ],
      "metadata": {
        "colab": {
          "base_uri": "https://localhost:8080/"
        },
        "id": "W4nyUW-87l9c",
        "outputId": "6b12051f-91c3-4d9a-ccd0-f94f13db88ca"
      },
      "execution_count": null,
      "outputs": [
        {
          "output_type": "execute_result",
          "data": {
            "text/plain": [
              "array(['0', '1', '2', '3+', nan], dtype=object)"
            ]
          },
          "metadata": {},
          "execution_count": 53
        }
      ]
    },
    {
      "cell_type": "code",
      "execution_count": null,
      "metadata": {
        "colab": {
          "base_uri": "https://localhost:8080/"
        },
        "id": "N39v8tx8uw-8",
        "outputId": "acc106f3-897d-465d-d8ec-ced46ae57fb6"
      },
      "outputs": [
        {
          "output_type": "execute_result",
          "data": {
            "text/plain": [
              "0     345\n",
              "1     102\n",
              "2     101\n",
              "3+     51\n",
              "Name: Dependents, dtype: int64"
            ]
          },
          "metadata": {},
          "execution_count": 54
        }
      ],
      "source": [
        "# Check the frequency of each category in Dependents\n",
        "df.Dependents.value_counts()"
      ]
    },
    {
      "cell_type": "code",
      "source": [
        "# Check the frequency of each category in Dependents\n",
        "df_test.Dependents.value_counts()"
      ],
      "metadata": {
        "colab": {
          "base_uri": "https://localhost:8080/"
        },
        "id": "vFWlvyRC7sxV",
        "outputId": "d4766419-afef-4c74-d170-4cc5ebeb8dc7"
      },
      "execution_count": null,
      "outputs": [
        {
          "output_type": "execute_result",
          "data": {
            "text/plain": [
              "0     200\n",
              "2      59\n",
              "1      58\n",
              "3+     40\n",
              "Name: Dependents, dtype: int64"
            ]
          },
          "metadata": {},
          "execution_count": 55
        }
      ]
    },
    {
      "cell_type": "code",
      "execution_count": null,
      "metadata": {
        "id": "91lT6bn9vIry"
      },
      "outputs": [],
      "source": [
        "# Convert '3+' to '4' using replace function to have uniformity in data \n",
        "df.Dependents.replace('3+', '4', inplace = True)"
      ]
    },
    {
      "cell_type": "code",
      "source": [
        "# Convert '3+' to '4' using replace function to have uniformity in data \n",
        "df_test.Dependents.replace('3+', '4', inplace = True)"
      ],
      "metadata": {
        "id": "tvL_XUJz7v2h"
      },
      "execution_count": null,
      "outputs": []
    },
    {
      "cell_type": "code",
      "execution_count": null,
      "metadata": {
        "colab": {
          "base_uri": "https://localhost:8080/"
        },
        "id": "haI6xiKPvalR",
        "outputId": "60ddc776-8f49-4f2b-b64b-60a0453abd81"
      },
      "outputs": [
        {
          "output_type": "execute_result",
          "data": {
            "text/plain": [
              "15"
            ]
          },
          "metadata": {},
          "execution_count": 58
        }
      ],
      "source": [
        "# Check the number of null values in Dependents\n",
        "df.Dependents.isnull().sum()"
      ]
    },
    {
      "cell_type": "code",
      "execution_count": null,
      "metadata": {
        "colab": {
          "base_uri": "https://localhost:8080/"
        },
        "id": "ydYZFCx1vvKD",
        "outputId": "ef3854ac-495f-4381-acf2-2dc9ed85e44f"
      },
      "outputs": [
        {
          "output_type": "execute_result",
          "data": {
            "text/plain": [
              "0    0\n",
              "dtype: object"
            ]
          },
          "metadata": {},
          "execution_count": 59
        }
      ],
      "source": [
        "# Find the mode of the Dependents\n",
        "df.Dependents.mode()"
      ]
    },
    {
      "cell_type": "code",
      "execution_count": null,
      "metadata": {
        "colab": {
          "base_uri": "https://localhost:8080/"
        },
        "id": "p-43dPV4wH1i",
        "outputId": "b3f445d0-42a0-46f4-8a42-7a70949b86d1"
      },
      "outputs": [
        {
          "output_type": "execute_result",
          "data": {
            "text/plain": [
              "0.0"
            ]
          },
          "metadata": {},
          "execution_count": 60
        }
      ],
      "source": [
        "# Find the median of the Dependents\n",
        "df.Dependents.median()"
      ]
    },
    {
      "cell_type": "code",
      "source": [
        "# Find the mode and median of the Dependents in testing dataset\n",
        "print(df_test.Dependents.mode())\n",
        "print(df_test.Dependents.median())"
      ],
      "metadata": {
        "colab": {
          "base_uri": "https://localhost:8080/"
        },
        "id": "0OLZf5Uy72kp",
        "outputId": "ef9cf8b9-cfde-4061-9486-745e5783bb42"
      },
      "execution_count": null,
      "outputs": [
        {
          "output_type": "stream",
          "name": "stdout",
          "text": [
            "0    0\n",
            "dtype: object\n",
            "0.0\n"
          ]
        }
      ]
    },
    {
      "cell_type": "code",
      "execution_count": null,
      "metadata": {
        "id": "vGxDILgEKhWG"
      },
      "outputs": [],
      "source": [
        "# Filling the null values of Dependents.\n",
        "# Since the mode and median of Dependents is '0', fill the null values by '0'\n",
        "df.Dependents.fillna('0', inplace = True)"
      ]
    },
    {
      "cell_type": "code",
      "source": [
        "# Filling the null values of Dependents.\n",
        "# Since the mode and median of Dependents is '0', fill the null values by '0'\n",
        "df_test.Dependents.fillna('0', inplace = True)"
      ],
      "metadata": {
        "id": "O3_cWEJT8FVS"
      },
      "execution_count": null,
      "outputs": []
    },
    {
      "cell_type": "code",
      "execution_count": null,
      "metadata": {
        "colab": {
          "base_uri": "https://localhost:8080/"
        },
        "id": "xdBGcUGow5rj",
        "outputId": "5b094dcb-49b6-45a1-e084-0e64244a159a"
      },
      "outputs": [
        {
          "output_type": "stream",
          "name": "stdout",
          "text": [
            "0\n",
            "0\n"
          ]
        }
      ],
      "source": [
        "print(df.Dependents.isnull().sum())\n",
        "print(df_test.Dependents.isnull().sum())"
      ]
    },
    {
      "cell_type": "code",
      "execution_count": null,
      "metadata": {
        "id": "l0ogdvIYxFpr"
      },
      "outputs": [],
      "source": [
        "# Convert the data type of Dependents from object to integer\n",
        "df.Dependents = df.Dependents.astype('int')"
      ]
    },
    {
      "cell_type": "code",
      "source": [
        "# Convert the data type of Dependents from object to integer\n",
        "df_test.Dependents = df_test.Dependents.astype('int')"
      ],
      "metadata": {
        "id": "yayWy2Gh8Sar"
      },
      "execution_count": null,
      "outputs": []
    },
    {
      "cell_type": "code",
      "execution_count": null,
      "metadata": {
        "colab": {
          "base_uri": "https://localhost:8080/"
        },
        "id": "zufjjDqvx6cl",
        "outputId": "3a1c655f-4b5b-423d-a757-d5b1b61c30ee"
      },
      "outputs": [
        {
          "output_type": "execute_result",
          "data": {
            "text/plain": [
              "dtype('int64')"
            ]
          },
          "metadata": {},
          "execution_count": 67
        }
      ],
      "source": [
        "df.Dependents.dtype"
      ]
    },
    {
      "cell_type": "code",
      "execution_count": null,
      "metadata": {
        "colab": {
          "base_uri": "https://localhost:8080/"
        },
        "id": "JrkarqGuyL0K",
        "outputId": "47a5e58f-dfd9-405d-fdba-99cc4b711c34"
      },
      "outputs": [
        {
          "output_type": "stream",
          "name": "stdout",
          "text": [
            "<class 'pandas.core.frame.DataFrame'>\n",
            "RangeIndex: 614 entries, 0 to 613\n",
            "Data columns (total 12 columns):\n",
            " #   Column             Non-Null Count  Dtype  \n",
            "---  ------             --------------  -----  \n",
            " 0   Gender             614 non-null    int64  \n",
            " 1   Married            614 non-null    int64  \n",
            " 2   Dependents         614 non-null    int64  \n",
            " 3   Education          614 non-null    object \n",
            " 4   Self_Employed      582 non-null    object \n",
            " 5   ApplicantIncome    614 non-null    int64  \n",
            " 6   CoapplicantIncome  614 non-null    float64\n",
            " 7   LoanAmount         592 non-null    float64\n",
            " 8   Loan_Amount_Term   600 non-null    float64\n",
            " 9   Credit_History     564 non-null    float64\n",
            " 10  Property_Area      614 non-null    object \n",
            " 11  Loan_Status        614 non-null    object \n",
            "dtypes: float64(4), int64(4), object(4)\n",
            "memory usage: 57.7+ KB\n"
          ]
        }
      ],
      "source": [
        "df.info()"
      ]
    },
    {
      "cell_type": "code",
      "execution_count": null,
      "metadata": {
        "colab": {
          "base_uri": "https://localhost:8080/"
        },
        "id": "LqUXJQPiyR9Y",
        "outputId": "49ab972f-368e-4c7f-dd52-fd9aa7fe3893"
      },
      "outputs": [
        {
          "output_type": "execute_result",
          "data": {
            "text/plain": [
              "array(['Graduate', 'Not Graduate'], dtype=object)"
            ]
          },
          "metadata": {},
          "execution_count": 69
        }
      ],
      "source": [
        "# Check the unique values of 'Education' column\n",
        "df.Education.unique()"
      ]
    },
    {
      "cell_type": "code",
      "source": [
        "# Check the unique values of 'Education' column\n",
        "df_test.Education.unique()"
      ],
      "metadata": {
        "colab": {
          "base_uri": "https://localhost:8080/"
        },
        "id": "8bhsXPRY8Wol",
        "outputId": "33c6a3ff-113e-4f06-b8d2-c511f1e3fe85"
      },
      "execution_count": null,
      "outputs": [
        {
          "output_type": "execute_result",
          "data": {
            "text/plain": [
              "array(['Graduate', 'Not Graduate'], dtype=object)"
            ]
          },
          "metadata": {},
          "execution_count": 70
        }
      ]
    },
    {
      "cell_type": "code",
      "execution_count": null,
      "metadata": {
        "colab": {
          "base_uri": "https://localhost:8080/"
        },
        "id": "rU4EEq5xLGIJ",
        "outputId": "0c81b288-0bff-4d04-de57-6e62e654088c"
      },
      "outputs": [
        {
          "output_type": "execute_result",
          "data": {
            "text/plain": [
              "Graduate        480\n",
              "Not Graduate    134\n",
              "Name: Education, dtype: int64"
            ]
          },
          "metadata": {},
          "execution_count": 71
        }
      ],
      "source": [
        "# Check the frequency of each category in Education\n",
        "df.Education.value_counts()"
      ]
    },
    {
      "cell_type": "code",
      "source": [
        "# Check the frequency of each category in Education\n",
        "df_test.Education.value_counts()"
      ],
      "metadata": {
        "colab": {
          "base_uri": "https://localhost:8080/"
        },
        "id": "gtxQcPKJ8Zj9",
        "outputId": "9cbcee47-d2cc-4421-ce4e-92f25b020779"
      },
      "execution_count": null,
      "outputs": [
        {
          "output_type": "execute_result",
          "data": {
            "text/plain": [
              "Graduate        283\n",
              "Not Graduate     84\n",
              "Name: Education, dtype: int64"
            ]
          },
          "metadata": {},
          "execution_count": 72
        }
      ]
    },
    {
      "cell_type": "code",
      "execution_count": null,
      "metadata": {
        "id": "xbOzjYNM3UWu"
      },
      "outputs": [],
      "source": [
        "# Convert Categorical features to numerical features\n",
        "# Since order of Education matters, we use Label Encoding to convert it into numerical values.\n",
        "\n",
        "# Create an object\n",
        "le = LabelEncoder()\n",
        "\n",
        "# Encode labels in column 'Education'\n",
        "df.Education = le.fit_transform(df.Education)\n"
      ]
    },
    {
      "cell_type": "code",
      "source": [
        "# Encode labels in column 'Education'\n",
        "df_test.Education = le.fit_transform(df_test.Education)\n"
      ],
      "metadata": {
        "id": "UhkGqAY68evg"
      },
      "execution_count": null,
      "outputs": []
    },
    {
      "cell_type": "code",
      "execution_count": null,
      "metadata": {
        "colab": {
          "base_uri": "https://localhost:8080/"
        },
        "id": "DLwTUoiiysTv",
        "outputId": "9ce7da0f-fefc-4a4d-bd3b-066dfdaaa668"
      },
      "outputs": [
        {
          "output_type": "execute_result",
          "data": {
            "text/plain": [
              "0    480\n",
              "1    134\n",
              "Name: Education, dtype: int64"
            ]
          },
          "metadata": {},
          "execution_count": 75
        }
      ],
      "source": [
        "df.Education.value_counts()"
      ]
    },
    {
      "cell_type": "code",
      "source": [
        "df_test.Education.value_counts()"
      ],
      "metadata": {
        "colab": {
          "base_uri": "https://localhost:8080/"
        },
        "id": "_ZLmTn1Q8iwH",
        "outputId": "4a9f1cc9-c7be-4436-8188-f4750abbad2c"
      },
      "execution_count": null,
      "outputs": [
        {
          "output_type": "execute_result",
          "data": {
            "text/plain": [
              "0    283\n",
              "1     84\n",
              "Name: Education, dtype: int64"
            ]
          },
          "metadata": {},
          "execution_count": 76
        }
      ]
    },
    {
      "cell_type": "code",
      "execution_count": null,
      "metadata": {
        "colab": {
          "base_uri": "https://localhost:8080/"
        },
        "id": "qqqSRICO5ihR",
        "outputId": "89a31e31-e25e-443d-ba83-47e117fac8ac"
      },
      "outputs": [
        {
          "output_type": "stream",
          "name": "stdout",
          "text": [
            "<class 'pandas.core.frame.DataFrame'>\n",
            "RangeIndex: 614 entries, 0 to 613\n",
            "Data columns (total 12 columns):\n",
            " #   Column             Non-Null Count  Dtype  \n",
            "---  ------             --------------  -----  \n",
            " 0   Gender             614 non-null    int64  \n",
            " 1   Married            614 non-null    int64  \n",
            " 2   Dependents         614 non-null    int64  \n",
            " 3   Education          614 non-null    int64  \n",
            " 4   Self_Employed      582 non-null    object \n",
            " 5   ApplicantIncome    614 non-null    int64  \n",
            " 6   CoapplicantIncome  614 non-null    float64\n",
            " 7   LoanAmount         592 non-null    float64\n",
            " 8   Loan_Amount_Term   600 non-null    float64\n",
            " 9   Credit_History     564 non-null    float64\n",
            " 10  Property_Area      614 non-null    object \n",
            " 11  Loan_Status        614 non-null    object \n",
            "dtypes: float64(4), int64(5), object(3)\n",
            "memory usage: 57.7+ KB\n"
          ]
        }
      ],
      "source": [
        "df.info()"
      ]
    },
    {
      "cell_type": "code",
      "execution_count": null,
      "metadata": {
        "colab": {
          "base_uri": "https://localhost:8080/"
        },
        "id": "uvDqmUkA5lnz",
        "outputId": "dced2f9c-1be4-4c70-ec21-10e042b5f739"
      },
      "outputs": [
        {
          "output_type": "execute_result",
          "data": {
            "text/plain": [
              "array(['No', 'Yes', nan], dtype=object)"
            ]
          },
          "metadata": {},
          "execution_count": 78
        }
      ],
      "source": [
        "# Check the unique values of 'Self_Employed' column.\n",
        "df.Self_Employed.unique()"
      ]
    },
    {
      "cell_type": "code",
      "source": [
        "# Check the unique values of 'Self_Employed' column.\n",
        "df_test.Self_Employed.unique()"
      ],
      "metadata": {
        "colab": {
          "base_uri": "https://localhost:8080/"
        },
        "id": "Fz4ReOP98pTc",
        "outputId": "6a313c15-9982-4c08-eded-2cf560de901c"
      },
      "execution_count": null,
      "outputs": [
        {
          "output_type": "execute_result",
          "data": {
            "text/plain": [
              "array(['No', 'Yes', nan], dtype=object)"
            ]
          },
          "metadata": {},
          "execution_count": 79
        }
      ]
    },
    {
      "cell_type": "code",
      "execution_count": null,
      "metadata": {
        "colab": {
          "base_uri": "https://localhost:8080/"
        },
        "id": "HbtfoGq17_lR",
        "outputId": "1b7157e3-0e3d-4841-c541-9e000bc4a73b"
      },
      "outputs": [
        {
          "output_type": "execute_result",
          "data": {
            "text/plain": [
              "No     500\n",
              "Yes     82\n",
              "Name: Self_Employed, dtype: int64"
            ]
          },
          "metadata": {},
          "execution_count": 80
        }
      ],
      "source": [
        "# Check the frequency of each category in Self_Employed\n",
        "df.Self_Employed.value_counts()"
      ]
    },
    {
      "cell_type": "code",
      "source": [
        "# Check the frequency of each category in Self_Employed\n",
        "df_test.Self_Employed.value_counts()"
      ],
      "metadata": {
        "colab": {
          "base_uri": "https://localhost:8080/"
        },
        "id": "Lo0qV9Ri8sPz",
        "outputId": "f9de75f0-5120-4565-a66c-4b0692b8f260"
      },
      "execution_count": null,
      "outputs": [
        {
          "output_type": "execute_result",
          "data": {
            "text/plain": [
              "No     307\n",
              "Yes     37\n",
              "Name: Self_Employed, dtype: int64"
            ]
          },
          "metadata": {},
          "execution_count": 81
        }
      ]
    },
    {
      "cell_type": "code",
      "execution_count": null,
      "metadata": {
        "colab": {
          "base_uri": "https://localhost:8080/"
        },
        "id": "Jco3riK48fSW",
        "outputId": "55672be1-d6b9-4b0d-b325-1f10ac00ffcd"
      },
      "outputs": [
        {
          "output_type": "execute_result",
          "data": {
            "text/plain": [
              "32"
            ]
          },
          "metadata": {},
          "execution_count": 82
        }
      ],
      "source": [
        "# Check the number of null values in Self_Employed\n",
        "df.Self_Employed.isnull().sum()"
      ]
    },
    {
      "cell_type": "code",
      "execution_count": null,
      "metadata": {
        "id": "LOpvKCIU9NDR"
      },
      "outputs": [],
      "source": [
        "# Fill the null values\n",
        "# Since the maximum number of people are not self employed, we fill the null values with 'No'\n",
        "df.Self_Employed.fillna('No', inplace = True)"
      ]
    },
    {
      "cell_type": "code",
      "source": [
        "# Fill the null values\n",
        "# Since the maximum number of people are not self employed, we fill the null values with 'No'\n",
        "df_test.Self_Employed.fillna('No', inplace = True)"
      ],
      "metadata": {
        "id": "J1yeR5HK8vuz"
      },
      "execution_count": null,
      "outputs": []
    },
    {
      "cell_type": "code",
      "execution_count": null,
      "metadata": {
        "id": "D5T7o93WCaBe"
      },
      "outputs": [],
      "source": [
        "# Since there are categorial features in this column, we covert it into numberical features using pandas get_dummies \n",
        "df.Self_Employed = pd.get_dummies(df.Self_Employed, drop_first = True)"
      ]
    },
    {
      "cell_type": "code",
      "source": [
        "# Since there are categorial features in this column, we covert it into numberical features using pandas get_dummies \n",
        "df_test.Self_Employed = pd.get_dummies(df_test.Self_Employed, drop_first = True)"
      ],
      "metadata": {
        "id": "4KfcnqrX80Yu"
      },
      "execution_count": null,
      "outputs": []
    },
    {
      "cell_type": "code",
      "execution_count": null,
      "metadata": {
        "colab": {
          "base_uri": "https://localhost:8080/"
        },
        "id": "p3XxRYIbm31I",
        "outputId": "95dd8734-f197-4fa1-f9ed-9d192b425ea4"
      },
      "outputs": [
        {
          "output_type": "execute_result",
          "data": {
            "text/plain": [
              "0    532\n",
              "1     82\n",
              "Name: Self_Employed, dtype: int64"
            ]
          },
          "metadata": {},
          "execution_count": 87
        }
      ],
      "source": [
        "df.Self_Employed.value_counts()"
      ]
    },
    {
      "cell_type": "code",
      "execution_count": null,
      "metadata": {
        "id": "qlphAPl_CxZk"
      },
      "outputs": [],
      "source": [
        "# Change the data type of Self_Employed to integer\n",
        "df.Self_Employed = df.Self_Employed.astype('int')"
      ]
    },
    {
      "cell_type": "code",
      "source": [
        "# Change the data type of Self_Employed to integer\n",
        "df_test.Self_Employed = df_test.Self_Employed.astype('int')"
      ],
      "metadata": {
        "id": "juxmwlB384iP"
      },
      "execution_count": null,
      "outputs": []
    },
    {
      "cell_type": "code",
      "execution_count": null,
      "metadata": {
        "colab": {
          "base_uri": "https://localhost:8080/"
        },
        "id": "vcIv6lBEDA8h",
        "outputId": "04c8bcd1-e594-46ce-de6c-23c9e3e91978"
      },
      "outputs": [
        {
          "output_type": "stream",
          "name": "stdout",
          "text": [
            "<class 'pandas.core.frame.DataFrame'>\n",
            "RangeIndex: 614 entries, 0 to 613\n",
            "Data columns (total 12 columns):\n",
            " #   Column             Non-Null Count  Dtype  \n",
            "---  ------             --------------  -----  \n",
            " 0   Gender             614 non-null    int64  \n",
            " 1   Married            614 non-null    int64  \n",
            " 2   Dependents         614 non-null    int64  \n",
            " 3   Education          614 non-null    int64  \n",
            " 4   Self_Employed      614 non-null    int64  \n",
            " 5   ApplicantIncome    614 non-null    int64  \n",
            " 6   CoapplicantIncome  614 non-null    float64\n",
            " 7   LoanAmount         592 non-null    float64\n",
            " 8   Loan_Amount_Term   600 non-null    float64\n",
            " 9   Credit_History     564 non-null    float64\n",
            " 10  Property_Area      614 non-null    object \n",
            " 11  Loan_Status        614 non-null    object \n",
            "dtypes: float64(4), int64(6), object(2)\n",
            "memory usage: 57.7+ KB\n"
          ]
        }
      ],
      "source": [
        "df.info()"
      ]
    },
    {
      "cell_type": "code",
      "execution_count": null,
      "metadata": {
        "colab": {
          "base_uri": "https://localhost:8080/"
        },
        "id": "GEnlgUQ4DSh4",
        "outputId": "8d44f9e7-f408-4619-e360-961d221bd7c6"
      },
      "outputs": [
        {
          "output_type": "execute_result",
          "data": {
            "text/plain": [
              "count      614.000000\n",
              "mean      5403.459283\n",
              "std       6109.041673\n",
              "min        150.000000\n",
              "25%       2877.500000\n",
              "50%       3812.500000\n",
              "75%       5795.000000\n",
              "max      81000.000000\n",
              "Name: ApplicantIncome, dtype: float64"
            ]
          },
          "metadata": {},
          "execution_count": 91
        }
      ],
      "source": [
        "# Find the minimum and maximum value of ApplicantIncome\n",
        "df.ApplicantIncome.describe()"
      ]
    },
    {
      "cell_type": "code",
      "execution_count": null,
      "metadata": {
        "colab": {
          "base_uri": "https://localhost:8080/",
          "height": 351
        },
        "id": "6JBywRaeD9NP",
        "outputId": "80f76a3c-2ad3-48a9-a643-a536abde3009"
      },
      "outputs": [
        {
          "output_type": "stream",
          "name": "stderr",
          "text": [
            "/usr/local/lib/python3.7/dist-packages/seaborn/_decorators.py:43: FutureWarning: Pass the following variable as a keyword arg: x. From version 0.12, the only valid positional argument will be `data`, and passing other arguments without an explicit keyword will result in an error or misinterpretation.\n",
            "  FutureWarning\n"
          ]
        },
        {
          "output_type": "execute_result",
          "data": {
            "text/plain": [
              "<matplotlib.axes._subplots.AxesSubplot at 0x7f6d511b5750>"
            ]
          },
          "metadata": {},
          "execution_count": 92
        },
        {
          "output_type": "display_data",
          "data": {
            "image/png": "[encoded data removed]",
            "text/plain": [
              "<Figure size 432x288 with 1 Axes>"
            ]
          },
          "metadata": {
            "needs_background": "light"
          }
        }
      ],
      "source": [
        "# Check for outlier in ApplicantIncome using boxplot \n",
        "sns.boxplot(df.ApplicantIncome)"
      ]
    },
    {
      "cell_type": "markdown",
      "metadata": {
        "id": "OdgEBhWpFSsk"
      },
      "source": [
        "Conclusion: We have outliers in ApplicantIncome"
      ]
    },
    {
      "cell_type": "code",
      "execution_count": null,
      "metadata": {
        "id": "x-BEYSoENPEG",
        "colab": {
          "base_uri": "https://localhost:8080/",
          "height": 351
        },
        "outputId": "9b78c89b-6d3e-47e3-ffff-92bb321f4eff"
      },
      "outputs": [
        {
          "output_type": "stream",
          "name": "stderr",
          "text": [
            "/usr/local/lib/python3.7/dist-packages/seaborn/_decorators.py:43: FutureWarning: Pass the following variable as a keyword arg: x. From version 0.12, the only valid positional argument will be `data`, and passing other arguments without an explicit keyword will result in an error or misinterpretation.\n",
            "  FutureWarning\n"
          ]
        },
        {
          "output_type": "execute_result",
          "data": {
            "text/plain": [
              "<matplotlib.axes._subplots.AxesSubplot at 0x7f6d5115c950>"
            ]
          },
          "metadata": {},
          "execution_count": 93
        },
        {
          "output_type": "display_data",
          "data": {
            "image/png": "[encoded data removed]",
            "text/plain": [
              "<Figure size 432x288 with 1 Axes>"
            ]
          },
          "metadata": {
            "needs_background": "light"
          }
        }
      ],
      "source": [
        "# Check for outlier in ApplicantIncome using boxplot \n",
        "sns.boxplot(df_test.ApplicantIncome)"
      ]
    },
    {
      "cell_type": "code",
      "source": [
        "# Changing the data type of ApplicantIncome\n",
        "df.ApplicantIncome = df.ApplicantIncome.astype('float')"
      ],
      "metadata": {
        "id": "gJ800HtaYfR9"
      },
      "execution_count": null,
      "outputs": []
    },
    {
      "cell_type": "code",
      "source": [
        "# Changing the data type of ApplicantIncome\n",
        "df_test.ApplicantIncome = df_test.ApplicantIncome.astype('float')"
      ],
      "metadata": {
        "id": "jgP4VsqrY2Be"
      },
      "execution_count": null,
      "outputs": []
    },
    {
      "cell_type": "code",
      "execution_count": null,
      "metadata": {
        "colab": {
          "base_uri": "https://localhost:8080/"
        },
        "id": "n-rqwNz8E83B",
        "outputId": "5e02c40d-c96e-4ff9-82f4-01fc145bf079"
      },
      "outputs": [
        {
          "output_type": "execute_result",
          "data": {
            "text/plain": [
              "count      614.000000\n",
              "mean      1621.245798\n",
              "std       2926.248369\n",
              "min          0.000000\n",
              "25%          0.000000\n",
              "50%       1188.500000\n",
              "75%       2297.250000\n",
              "max      41667.000000\n",
              "Name: CoapplicantIncome, dtype: float64"
            ]
          },
          "metadata": {},
          "execution_count": 96
        }
      ],
      "source": [
        "# Find the minimum and maximum value of CoapplicantIncome\n",
        "df.CoapplicantIncome.describe()"
      ]
    },
    {
      "cell_type": "code",
      "execution_count": null,
      "metadata": {
        "colab": {
          "base_uri": "https://localhost:8080/"
        },
        "id": "GQCqwDAGFl81",
        "outputId": "dfeaeed0-f7d0-4766-dcd2-b8fa35b3bde3"
      },
      "outputs": [
        {
          "output_type": "execute_result",
          "data": {
            "text/plain": [
              "0.0       273\n",
              "2500.0      5\n",
              "2083.0      5\n",
              "1666.0      5\n",
              "2250.0      3\n",
              "         ... \n",
              "2791.0      1\n",
              "1010.0      1\n",
              "1695.0      1\n",
              "2598.0      1\n",
              "240.0       1\n",
              "Name: CoapplicantIncome, Length: 287, dtype: int64"
            ]
          },
          "metadata": {},
          "execution_count": 97
        }
      ],
      "source": [
        "df.CoapplicantIncome.value_counts()"
      ]
    },
    {
      "cell_type": "markdown",
      "metadata": {
        "id": "oWLV1H_dM74L"
      },
      "source": [
        "Conclusion: Maximum of Coapplicant have no income"
      ]
    },
    {
      "cell_type": "code",
      "execution_count": null,
      "metadata": {
        "colab": {
          "base_uri": "https://localhost:8080/",
          "height": 351
        },
        "id": "EsqSZQlIVriO",
        "outputId": "c706db46-4450-4f57-e241-c72ed8384335"
      },
      "outputs": [
        {
          "output_type": "stream",
          "name": "stderr",
          "text": [
            "/usr/local/lib/python3.7/dist-packages/seaborn/_decorators.py:43: FutureWarning: Pass the following variable as a keyword arg: x. From version 0.12, the only valid positional argument will be `data`, and passing other arguments without an explicit keyword will result in an error or misinterpretation.\n",
            "  FutureWarning\n"
          ]
        },
        {
          "output_type": "execute_result",
          "data": {
            "text/plain": [
              "<matplotlib.axes._subplots.AxesSubplot at 0x7f6d50c9b390>"
            ]
          },
          "metadata": {},
          "execution_count": 98
        },
        {
          "output_type": "display_data",
          "data": {
            "image/png": "[encoded data removed]",
            "text/plain": [
              "<Figure size 432x288 with 1 Axes>"
            ]
          },
          "metadata": {
            "needs_background": "light"
          }
        }
      ],
      "source": [
        "# Check for outlier in CoapplicantIncome using boxplot \n",
        "sns.boxplot(df.CoapplicantIncome)"
      ]
    },
    {
      "cell_type": "markdown",
      "metadata": {
        "id": "eNIK1SqiV1C2"
      },
      "source": [
        "**Conclusion:** We have outliers in CoapplicantIncome"
      ]
    },
    {
      "cell_type": "code",
      "source": [
        "# Check for outlier in CoapplicantIncome using boxplot \n",
        "sns.boxplot(df_test.CoapplicantIncome)"
      ],
      "metadata": {
        "id": "t1Is403w_8I7",
        "colab": {
          "base_uri": "https://localhost:8080/",
          "height": 351
        },
        "outputId": "6de668a0-86e9-4875-dca1-5258331dddeb"
      },
      "execution_count": null,
      "outputs": [
        {
          "output_type": "stream",
          "name": "stderr",
          "text": [
            "/usr/local/lib/python3.7/dist-packages/seaborn/_decorators.py:43: FutureWarning: Pass the following variable as a keyword arg: x. From version 0.12, the only valid positional argument will be `data`, and passing other arguments without an explicit keyword will result in an error or misinterpretation.\n",
            "  FutureWarning\n"
          ]
        },
        {
          "output_type": "execute_result",
          "data": {
            "text/plain": [
              "<matplotlib.axes._subplots.AxesSubplot at 0x7f6d50bfe450>"
            ]
          },
          "metadata": {},
          "execution_count": 99
        },
        {
          "output_type": "display_data",
          "data": {
            "image/png": "[encoded data removed]",
            "text/plain": [
              "<Figure size 432x288 with 1 Axes>"
            ]
          },
          "metadata": {
            "needs_background": "light"
          }
        }
      ]
    },
    {
      "cell_type": "code",
      "execution_count": null,
      "metadata": {
        "colab": {
          "base_uri": "https://localhost:8080/"
        },
        "id": "Hrpvr97IF7GR",
        "outputId": "1f62a66a-928a-49a1-e8e2-13f52034202a"
      },
      "outputs": [
        {
          "output_type": "stream",
          "name": "stdout",
          "text": [
            "<class 'pandas.core.frame.DataFrame'>\n",
            "RangeIndex: 614 entries, 0 to 613\n",
            "Data columns (total 12 columns):\n",
            " #   Column             Non-Null Count  Dtype  \n",
            "---  ------             --------------  -----  \n",
            " 0   Gender             614 non-null    int64  \n",
            " 1   Married            614 non-null    int64  \n",
            " 2   Dependents         614 non-null    int64  \n",
            " 3   Education          614 non-null    int64  \n",
            " 4   Self_Employed      614 non-null    int64  \n",
            " 5   ApplicantIncome    614 non-null    float64\n",
            " 6   CoapplicantIncome  614 non-null    float64\n",
            " 7   LoanAmount         592 non-null    float64\n",
            " 8   Loan_Amount_Term   600 non-null    float64\n",
            " 9   Credit_History     564 non-null    float64\n",
            " 10  Property_Area      614 non-null    object \n",
            " 11  Loan_Status        614 non-null    object \n",
            "dtypes: float64(5), int64(5), object(2)\n",
            "memory usage: 57.7+ KB\n"
          ]
        }
      ],
      "source": [
        "df.info()"
      ]
    },
    {
      "cell_type": "code",
      "execution_count": null,
      "metadata": {
        "colab": {
          "base_uri": "https://localhost:8080/"
        },
        "id": "nz4sJW9cNiDC",
        "outputId": "30e37520-9da7-47f8-e993-888d1caec2bb"
      },
      "outputs": [
        {
          "output_type": "execute_result",
          "data": {
            "text/plain": [
              "array([ nan, 128.,  66., 120., 141., 267.,  95., 158., 168., 349.,  70.,\n",
              "       109., 200., 114.,  17., 125., 100.,  76., 133., 115., 104., 315.,\n",
              "       116., 112., 151., 191., 122., 110.,  35., 201.,  74., 106., 320.,\n",
              "       144., 184.,  80.,  47.,  75., 134.,  96.,  88.,  44., 286.,  97.,\n",
              "       135., 180.,  99., 165., 258., 126., 312., 136., 172.,  81., 187.,\n",
              "       113., 176., 130., 111., 167., 265.,  50., 210., 175., 131., 188.,\n",
              "        25., 137., 160., 225., 216.,  94., 139., 152., 118., 185., 154.,\n",
              "        85., 259., 194.,  93., 370., 182., 650., 102., 290.,  84., 242.,\n",
              "       129.,  30., 244., 600., 255.,  98., 275., 121.,  63., 700.,  87.,\n",
              "       101., 495.,  67.,  73., 260., 108.,  58.,  48., 164., 170.,  83.,\n",
              "        90., 166., 124.,  55.,  59., 127., 214., 240.,  72.,  60., 138.,\n",
              "        42., 280., 140., 155., 123., 279., 192., 304., 330., 150., 207.,\n",
              "       436.,  78.,  54.,  89., 143., 105., 132., 480.,  56., 159., 300.,\n",
              "       376., 117.,  71., 490., 173.,  46., 228., 308., 236., 570., 380.,\n",
              "       296., 156., 103.,  45.,  65.,  53., 360.,  62., 218., 178., 239.,\n",
              "       405., 148., 190., 149., 153., 162., 230.,  86., 234., 246., 500.,\n",
              "       186., 119., 107., 209., 208., 243.,  40., 250., 311., 400., 161.,\n",
              "       196., 324., 157., 145., 181.,  26., 211.,   9., 205.,  36.,  61.,\n",
              "       146., 292., 142., 350., 496., 253.])"
            ]
          },
          "metadata": {},
          "execution_count": 101
        }
      ],
      "source": [
        "# Check the unique values of LoanAmount\n",
        "df.LoanAmount.unique()"
      ]
    },
    {
      "cell_type": "code",
      "execution_count": null,
      "metadata": {
        "colab": {
          "base_uri": "https://localhost:8080/"
        },
        "id": "YxmEcOJ3NuJf",
        "outputId": "27a4552a-f7a5-4d65-d94b-99023911f39b"
      },
      "outputs": [
        {
          "output_type": "execute_result",
          "data": {
            "text/plain": [
              "120.0    20\n",
              "110.0    17\n",
              "100.0    15\n",
              "160.0    12\n",
              "187.0    12\n",
              "         ..\n",
              "240.0     1\n",
              "214.0     1\n",
              "59.0      1\n",
              "166.0     1\n",
              "253.0     1\n",
              "Name: LoanAmount, Length: 203, dtype: int64"
            ]
          },
          "metadata": {},
          "execution_count": 102
        }
      ],
      "source": [
        "# Find the frequency of each category in LoanAmount\n",
        "df.LoanAmount.value_counts()"
      ]
    },
    {
      "cell_type": "code",
      "execution_count": null,
      "metadata": {
        "colab": {
          "base_uri": "https://localhost:8080/"
        },
        "id": "hHXiB-R0N9Cn",
        "outputId": "0f23be76-63a7-4549-fbea-38409e2b678a"
      },
      "outputs": [
        {
          "output_type": "execute_result",
          "data": {
            "text/plain": [
              "22"
            ]
          },
          "metadata": {},
          "execution_count": 103
        }
      ],
      "source": [
        "# Number of null values in LoanAmount\n",
        "df.LoanAmount.isnull().sum()"
      ]
    },
    {
      "cell_type": "code",
      "source": [
        "# Number of null values in LoanAmount\n",
        "df_test.LoanAmount.isnull().sum()"
      ],
      "metadata": {
        "colab": {
          "base_uri": "https://localhost:8080/"
        },
        "id": "mdDZ-9Vo9fiQ",
        "outputId": "694393cf-63ab-4d7d-f744-67d5734a2236"
      },
      "execution_count": null,
      "outputs": [
        {
          "output_type": "execute_result",
          "data": {
            "text/plain": [
              "5"
            ]
          },
          "metadata": {},
          "execution_count": 104
        }
      ]
    },
    {
      "cell_type": "code",
      "execution_count": null,
      "metadata": {
        "colab": {
          "base_uri": "https://localhost:8080/"
        },
        "id": "398t_imTOlER",
        "outputId": "daad5d6c-4cba-4582-e1af-6794d7d03b24"
      },
      "outputs": [
        {
          "output_type": "stream",
          "name": "stdout",
          "text": [
            "Mean:  146.41216216216216\n",
            "Median:  128.0\n",
            "Mode:  0    120.0\n",
            "dtype: float64\n"
          ]
        }
      ],
      "source": [
        "# Find the mean, median and mode of LoanAmount\n",
        "print('Mean: ',df.LoanAmount.mean())\n",
        "print('Median: ',df.LoanAmount.median())\n",
        "print('Mode: ',df.LoanAmount.mode())"
      ]
    },
    {
      "cell_type": "code",
      "execution_count": null,
      "metadata": {
        "id": "4yjyen7SOyH-"
      },
      "outputs": [],
      "source": [
        "# Since we have outliers in LoanAmount, choosing mean for filling null values is not appropiate and hence, we use median to fill the null values\n",
        "df.LoanAmount.fillna(df.LoanAmount.median(), inplace = True)"
      ]
    },
    {
      "cell_type": "code",
      "source": [
        "# Find the mean, median and mode of LoanAmount\n",
        "print('Mean: ',df_test.LoanAmount.mean())\n",
        "print('Median: ',df_test.LoanAmount.median())\n",
        "print('Mode: ',df_test.LoanAmount.mode())"
      ],
      "metadata": {
        "colab": {
          "base_uri": "https://localhost:8080/"
        },
        "id": "z3ud1ONG-PMA",
        "outputId": "62b3833c-98df-4150-c254-f062a08f0fc9"
      },
      "execution_count": null,
      "outputs": [
        {
          "output_type": "stream",
          "name": "stdout",
          "text": [
            "Mean:  136.13259668508286\n",
            "Median:  125.0\n",
            "Mode:  0    150.0\n",
            "dtype: float64\n"
          ]
        }
      ]
    },
    {
      "cell_type": "code",
      "source": [
        "# Since we have outliers in LoanAmount, choosing mean for filling null values is not appropiate and hence, we use median to fill the null values\n",
        "df_test.LoanAmount.fillna(df_test.LoanAmount.median(), inplace = True)"
      ],
      "metadata": {
        "id": "i7cIlSCg-ORt"
      },
      "execution_count": null,
      "outputs": []
    },
    {
      "cell_type": "code",
      "source": [
        "# Check for outliers in LoanAmount using boxplot\n",
        "sns.boxplot(df.LoanAmount)"
      ],
      "metadata": {
        "colab": {
          "base_uri": "https://localhost:8080/",
          "height": 351
        },
        "id": "0Cn1s-CGkTIX",
        "outputId": "b7838806-846a-40e9-ea21-2bf2bf98b19a"
      },
      "execution_count": null,
      "outputs": [
        {
          "output_type": "stream",
          "name": "stderr",
          "text": [
            "/usr/local/lib/python3.7/dist-packages/seaborn/_decorators.py:43: FutureWarning: Pass the following variable as a keyword arg: x. From version 0.12, the only valid positional argument will be `data`, and passing other arguments without an explicit keyword will result in an error or misinterpretation.\n",
            "  FutureWarning\n"
          ]
        },
        {
          "output_type": "execute_result",
          "data": {
            "text/plain": [
              "<matplotlib.axes._subplots.AxesSubplot at 0x7f6d50b6ca10>"
            ]
          },
          "metadata": {},
          "execution_count": 109
        },
        {
          "output_type": "display_data",
          "data": {
            "image/png": "[encoded data removed]",
            "text/plain": [
              "<Figure size 432x288 with 1 Axes>"
            ]
          },
          "metadata": {
            "needs_background": "light"
          }
        }
      ]
    },
    {
      "cell_type": "code",
      "source": [
        "# Check for outliers in LoanAmount using boxplot\n",
        "sns.boxplot(df_test.LoanAmount)"
      ],
      "metadata": {
        "colab": {
          "base_uri": "https://localhost:8080/",
          "height": 351
        },
        "id": "mmufneelklJb",
        "outputId": "6e306514-c7c4-4494-bb38-094dc4a186f5"
      },
      "execution_count": null,
      "outputs": [
        {
          "output_type": "stream",
          "name": "stderr",
          "text": [
            "/usr/local/lib/python3.7/dist-packages/seaborn/_decorators.py:43: FutureWarning: Pass the following variable as a keyword arg: x. From version 0.12, the only valid positional argument will be `data`, and passing other arguments without an explicit keyword will result in an error or misinterpretation.\n",
            "  FutureWarning\n"
          ]
        },
        {
          "output_type": "execute_result",
          "data": {
            "text/plain": [
              "<matplotlib.axes._subplots.AxesSubplot at 0x7f6d50aee410>"
            ]
          },
          "metadata": {},
          "execution_count": 110
        },
        {
          "output_type": "display_data",
          "data": {
            "image/png": "[encoded data removed]",
            "text/plain": [
              "<Figure size 432x288 with 1 Axes>"
            ]
          },
          "metadata": {
            "needs_background": "light"
          }
        }
      ]
    },
    {
      "cell_type": "code",
      "execution_count": null,
      "metadata": {
        "colab": {
          "base_uri": "https://localhost:8080/"
        },
        "id": "x6vB7xjuQQLW",
        "outputId": "d84101d3-9bde-4827-ea38-454d33b0c394"
      },
      "outputs": [
        {
          "output_type": "stream",
          "name": "stdout",
          "text": [
            "<class 'pandas.core.frame.DataFrame'>\n",
            "RangeIndex: 614 entries, 0 to 613\n",
            "Data columns (total 12 columns):\n",
            " #   Column             Non-Null Count  Dtype  \n",
            "---  ------             --------------  -----  \n",
            " 0   Gender             614 non-null    int64  \n",
            " 1   Married            614 non-null    int64  \n",
            " 2   Dependents         614 non-null    int64  \n",
            " 3   Education          614 non-null    int64  \n",
            " 4   Self_Employed      614 non-null    int64  \n",
            " 5   ApplicantIncome    614 non-null    float64\n",
            " 6   CoapplicantIncome  614 non-null    float64\n",
            " 7   LoanAmount         614 non-null    float64\n",
            " 8   Loan_Amount_Term   600 non-null    float64\n",
            " 9   Credit_History     564 non-null    float64\n",
            " 10  Property_Area      614 non-null    object \n",
            " 11  Loan_Status        614 non-null    object \n",
            "dtypes: float64(5), int64(5), object(2)\n",
            "memory usage: 57.7+ KB\n"
          ]
        }
      ],
      "source": [
        "df.info()"
      ]
    },
    {
      "cell_type": "code",
      "execution_count": null,
      "metadata": {
        "colab": {
          "base_uri": "https://localhost:8080/"
        },
        "id": "fPxPhEgyQiO8",
        "outputId": "26c87727-ac79-4832-eee5-3ae642200049"
      },
      "outputs": [
        {
          "output_type": "execute_result",
          "data": {
            "text/plain": [
              "array([360., 120., 240.,  nan, 180.,  60., 300., 480.,  36.,  84.,  12.])"
            ]
          },
          "metadata": {},
          "execution_count": 112
        }
      ],
      "source": [
        "# Check the unique values of Loan_Amount_Term\n",
        "df.Loan_Amount_Term.unique()"
      ]
    },
    {
      "cell_type": "code",
      "execution_count": null,
      "metadata": {
        "colab": {
          "base_uri": "https://localhost:8080/"
        },
        "id": "48tT_dcaQsR7",
        "outputId": "d087a956-e6a5-4d14-ecc4-72d9546c6a37"
      },
      "outputs": [
        {
          "output_type": "execute_result",
          "data": {
            "text/plain": [
              "360.0    512\n",
              "180.0     44\n",
              "480.0     15\n",
              "300.0     13\n",
              "240.0      4\n",
              "84.0       4\n",
              "120.0      3\n",
              "60.0       2\n",
              "36.0       2\n",
              "12.0       1\n",
              "Name: Loan_Amount_Term, dtype: int64"
            ]
          },
          "metadata": {},
          "execution_count": 113
        }
      ],
      "source": [
        "# Find the frequency of each category in Loan_Amount_Term\n",
        "df.Loan_Amount_Term.value_counts()"
      ]
    },
    {
      "cell_type": "code",
      "execution_count": null,
      "metadata": {
        "colab": {
          "base_uri": "https://localhost:8080/"
        },
        "id": "TL6Dp0I9R7AC",
        "outputId": "64bee72f-915e-4c78-ccd0-c57189959616"
      },
      "outputs": [
        {
          "output_type": "execute_result",
          "data": {
            "text/plain": [
              "14"
            ]
          },
          "metadata": {},
          "execution_count": 114
        }
      ],
      "source": [
        "# Find the Number of null values in Loan_Amount_Term\n",
        "df.Loan_Amount_Term.isnull().sum()"
      ]
    },
    {
      "cell_type": "code",
      "execution_count": null,
      "metadata": {
        "colab": {
          "base_uri": "https://localhost:8080/"
        },
        "id": "bAYNLYmTSPTj",
        "outputId": "bf1034b3-4211-4023-91f3-50af7cc8918e"
      },
      "outputs": [
        {
          "output_type": "stream",
          "name": "stdout",
          "text": [
            "342.0\n",
            "360.0\n",
            "0    360.0\n",
            "dtype: float64\n"
          ]
        }
      ],
      "source": [
        "# Find the mean, median and mode of Loan_Amount_Term\n",
        "print(df.Loan_Amount_Term.mean())\n",
        "print(df.Loan_Amount_Term.median())\n",
        "print(df.Loan_Amount_Term.mode())"
      ]
    },
    {
      "cell_type": "code",
      "execution_count": null,
      "metadata": {
        "id": "BytNs6HMSfAZ"
      },
      "outputs": [],
      "source": [
        "# Filling the null values of Loan_Amount_Term.\n",
        "# Since the mode and median of Loan_Amount_Term is '360', fill the null values by '360'\n",
        "df.Loan_Amount_Term.fillna('360', inplace = True)"
      ]
    },
    {
      "cell_type": "code",
      "source": [
        "# Find the mean, median and mode of Loan_Amount_Term\n",
        "print(df_test.Loan_Amount_Term.mean())\n",
        "print(df_test.Loan_Amount_Term.median())\n",
        "print(df_test.Loan_Amount_Term.mode())"
      ],
      "metadata": {
        "colab": {
          "base_uri": "https://localhost:8080/"
        },
        "id": "rOK-UmQu-ae5",
        "outputId": "6724efb6-bb47-4524-9ecf-7f06ae84e5fc"
      },
      "execution_count": null,
      "outputs": [
        {
          "output_type": "stream",
          "name": "stdout",
          "text": [
            "342.53739612188366\n",
            "360.0\n",
            "0    360.0\n",
            "dtype: float64\n"
          ]
        }
      ]
    },
    {
      "cell_type": "code",
      "source": [
        "# Filling the null values of Loan_Amount_Term.\n",
        "# Since the mode and median of Loan_Amount_Term is '360', fill the null values by '360'\n",
        "df_test.Loan_Amount_Term.fillna('360', inplace = True)"
      ],
      "metadata": {
        "id": "ZU-FhIu4-gnh"
      },
      "execution_count": null,
      "outputs": []
    },
    {
      "cell_type": "code",
      "execution_count": null,
      "metadata": {
        "id": "-w_9eFsHS4e0"
      },
      "outputs": [],
      "source": [
        "# Change the data type of Loan_Amount_Term to integer\n",
        "df.Loan_Amount_Term = df.Loan_Amount_Term.astype('int')"
      ]
    },
    {
      "cell_type": "code",
      "source": [
        "# Change the data type of Loan_Amount_Term to integer\n",
        "df_test.Loan_Amount_Term = df_test.Loan_Amount_Term.astype('int')"
      ],
      "metadata": {
        "id": "L9bpTl_E-jnJ"
      },
      "execution_count": null,
      "outputs": []
    },
    {
      "cell_type": "code",
      "execution_count": null,
      "metadata": {
        "colab": {
          "base_uri": "https://localhost:8080/"
        },
        "id": "6WOz7r5wTrSn",
        "outputId": "ccb5ac86-9216-456e-bd63-a76712be7227"
      },
      "outputs": [
        {
          "output_type": "execute_result",
          "data": {
            "text/plain": [
              "360    526\n",
              "180     44\n",
              "480     15\n",
              "300     13\n",
              "240      4\n",
              "84       4\n",
              "120      3\n",
              "60       2\n",
              "36       2\n",
              "12       1\n",
              "Name: Loan_Amount_Term, dtype: int64"
            ]
          },
          "metadata": {},
          "execution_count": 121
        }
      ],
      "source": [
        "df.Loan_Amount_Term.value_counts()"
      ]
    },
    {
      "cell_type": "code",
      "execution_count": null,
      "metadata": {
        "id": "-pfJG61lTI9h"
      },
      "outputs": [],
      "source": [
        "# Convert the term of loan from months to years by divind each term by 12\n",
        "df.Loan_Amount_Term = df.Loan_Amount_Term//12"
      ]
    },
    {
      "cell_type": "code",
      "source": [
        "# Convert the term of loan from months to years by divind each term by 12\n",
        "df_test.Loan_Amount_Term = df_test.Loan_Amount_Term//12"
      ],
      "metadata": {
        "id": "As4lLZnT-okC"
      },
      "execution_count": null,
      "outputs": []
    },
    {
      "cell_type": "code",
      "execution_count": null,
      "metadata": {
        "colab": {
          "base_uri": "https://localhost:8080/"
        },
        "id": "LUxNEXK0T1va",
        "outputId": "9a672b49-a114-4794-f080-7a22d48adf97"
      },
      "outputs": [
        {
          "output_type": "execute_result",
          "data": {
            "text/plain": [
              "30    526\n",
              "15     44\n",
              "40     15\n",
              "25     13\n",
              "20      4\n",
              "7       4\n",
              "10      3\n",
              "5       2\n",
              "3       2\n",
              "1       1\n",
              "Name: Loan_Amount_Term, dtype: int64"
            ]
          },
          "metadata": {},
          "execution_count": 124
        }
      ],
      "source": [
        "df.Loan_Amount_Term.value_counts()"
      ]
    },
    {
      "cell_type": "code",
      "source": [
        "df_test.Loan_Amount_Term.value_counts()"
      ],
      "metadata": {
        "colab": {
          "base_uri": "https://localhost:8080/"
        },
        "id": "ZUV3wwPD-spI",
        "outputId": "1d15d567-4234-41a1-da5f-7bdd756a19f1"
      },
      "execution_count": null,
      "outputs": [
        {
          "output_type": "execute_result",
          "data": {
            "text/plain": [
              "30    317\n",
              "15     22\n",
              "40      8\n",
              "25      7\n",
              "20      4\n",
              "7       3\n",
              "5       1\n",
              "1       1\n",
              "29      1\n",
              "3       1\n",
              "10      1\n",
              "0       1\n",
              "Name: Loan_Amount_Term, dtype: int64"
            ]
          },
          "metadata": {},
          "execution_count": 125
        }
      ]
    },
    {
      "cell_type": "code",
      "execution_count": null,
      "metadata": {
        "id": "rhA0bZy8UAGS"
      },
      "outputs": [],
      "source": [
        "# Change the column name of Loan_Amount_Term to Loan_Amount_Term(in years)\n",
        "df.rename(columns= {'Loan_Amount_Term':'Loan_Amount_Term(in years)'}, inplace = True)"
      ]
    },
    {
      "cell_type": "code",
      "source": [
        "# Change the column name of Loan_Amount_Term to Loan_Amount_Term(in years)\n",
        "df_test.rename(columns= {'Loan_Amount_Term':'Loan_Amount_Term(in years)'}, inplace = True)"
      ],
      "metadata": {
        "id": "Ght7gyq1_Dj8"
      },
      "execution_count": null,
      "outputs": []
    },
    {
      "cell_type": "code",
      "execution_count": null,
      "metadata": {
        "colab": {
          "base_uri": "https://localhost:8080/"
        },
        "id": "E6bD6H0dUkSQ",
        "outputId": "92acbe06-1f71-4b37-ee69-6efcef167282"
      },
      "outputs": [
        {
          "output_type": "stream",
          "name": "stdout",
          "text": [
            "<class 'pandas.core.frame.DataFrame'>\n",
            "RangeIndex: 614 entries, 0 to 613\n",
            "Data columns (total 12 columns):\n",
            " #   Column                      Non-Null Count  Dtype  \n",
            "---  ------                      --------------  -----  \n",
            " 0   Gender                      614 non-null    int64  \n",
            " 1   Married                     614 non-null    int64  \n",
            " 2   Dependents                  614 non-null    int64  \n",
            " 3   Education                   614 non-null    int64  \n",
            " 4   Self_Employed               614 non-null    int64  \n",
            " 5   ApplicantIncome             614 non-null    float64\n",
            " 6   CoapplicantIncome           614 non-null    float64\n",
            " 7   LoanAmount                  614 non-null    float64\n",
            " 8   Loan_Amount_Term(in years)  614 non-null    int64  \n",
            " 9   Credit_History              564 non-null    float64\n",
            " 10  Property_Area               614 non-null    object \n",
            " 11  Loan_Status                 614 non-null    object \n",
            "dtypes: float64(4), int64(6), object(2)\n",
            "memory usage: 57.7+ KB\n"
          ]
        }
      ],
      "source": [
        "df.info()"
      ]
    },
    {
      "cell_type": "code",
      "execution_count": null,
      "metadata": {
        "colab": {
          "base_uri": "https://localhost:8080/"
        },
        "id": "RUnz8hVTUn6w",
        "outputId": "5818f68a-f477-4bfa-8fd6-43dd06e329d1"
      },
      "outputs": [
        {
          "output_type": "execute_result",
          "data": {
            "text/plain": [
              "array([ 1.,  0., nan])"
            ]
          },
          "metadata": {},
          "execution_count": 129
        }
      ],
      "source": [
        "# Check the unique values of Credit_History\n",
        "df.Credit_History.unique()"
      ]
    },
    {
      "cell_type": "code",
      "source": [
        "# Check the unique values of Credit_History\n",
        "df_test.Credit_History.unique()"
      ],
      "metadata": {
        "colab": {
          "base_uri": "https://localhost:8080/"
        },
        "id": "7bqTcCnp_HJX",
        "outputId": "76ada571-fed3-4670-d1e8-b52328f6f29d"
      },
      "execution_count": null,
      "outputs": [
        {
          "output_type": "execute_result",
          "data": {
            "text/plain": [
              "array([ 1., nan,  0.])"
            ]
          },
          "metadata": {},
          "execution_count": 130
        }
      ]
    },
    {
      "cell_type": "code",
      "execution_count": null,
      "metadata": {
        "colab": {
          "base_uri": "https://localhost:8080/"
        },
        "id": "R0tPskzIVbQo",
        "outputId": "b54e194b-ada5-437b-f9f1-470271c0fcfd"
      },
      "outputs": [
        {
          "output_type": "execute_result",
          "data": {
            "text/plain": [
              "1.0    475\n",
              "0.0     89\n",
              "Name: Credit_History, dtype: int64"
            ]
          },
          "metadata": {},
          "execution_count": 131
        }
      ],
      "source": [
        "# Find the frequency of each category in Credit_History\n",
        "df.Credit_History.value_counts()"
      ]
    },
    {
      "cell_type": "code",
      "source": [
        "# Find the frequency of each category in Credit_History\n",
        "df_test.Credit_History.value_counts()"
      ],
      "metadata": {
        "colab": {
          "base_uri": "https://localhost:8080/"
        },
        "id": "2OiSvXO1CMgB",
        "outputId": "ca7c7af0-a8b1-4caf-b5e2-9b854e5a067f"
      },
      "execution_count": null,
      "outputs": [
        {
          "output_type": "execute_result",
          "data": {
            "text/plain": [
              "1.0    279\n",
              "0.0     59\n",
              "Name: Credit_History, dtype: int64"
            ]
          },
          "metadata": {},
          "execution_count": 132
        }
      ]
    },
    {
      "cell_type": "code",
      "execution_count": null,
      "metadata": {
        "colab": {
          "base_uri": "https://localhost:8080/"
        },
        "id": "VzH7wr2iVuxS",
        "outputId": "c3de0a03-3e02-43cd-f430-796ef15952b0"
      },
      "outputs": [
        {
          "output_type": "execute_result",
          "data": {
            "text/plain": [
              "50"
            ]
          },
          "metadata": {},
          "execution_count": 133
        }
      ],
      "source": [
        "# Check the number of null values in Credit_History\n",
        "df.Credit_History.isnull().sum()"
      ]
    },
    {
      "cell_type": "code",
      "execution_count": null,
      "metadata": {
        "id": "_KlXRGl1V0bm"
      },
      "outputs": [],
      "source": [
        "# Since the mode of Credit_History is '1.0', fill the null values with '1.0'\n",
        "df.Credit_History.fillna(1.0, inplace = True)"
      ]
    },
    {
      "cell_type": "code",
      "source": [
        "# Since the mode of Credit_History is '1.0', fill the null values with '1.0'\n",
        "df_test.Credit_History.fillna(1.0, inplace = True)"
      ],
      "metadata": {
        "id": "csgRvd-yCHeH"
      },
      "execution_count": null,
      "outputs": []
    },
    {
      "cell_type": "code",
      "source": [
        "# Find the frequency of each category in Credit_History\n",
        "df_test.Credit_History.value_counts()"
      ],
      "metadata": {
        "colab": {
          "base_uri": "https://localhost:8080/"
        },
        "id": "6rmn0NVL_LLn",
        "outputId": "5c93eece-e6cd-445e-a298-d3bd2c0a4532"
      },
      "execution_count": null,
      "outputs": [
        {
          "output_type": "execute_result",
          "data": {
            "text/plain": [
              "1.0    308\n",
              "0.0     59\n",
              "Name: Credit_History, dtype: int64"
            ]
          },
          "metadata": {},
          "execution_count": 136
        }
      ]
    },
    {
      "cell_type": "code",
      "execution_count": null,
      "metadata": {
        "id": "-4OUiLoCWhJ4"
      },
      "outputs": [],
      "source": [
        "# Change the data type of Credit_History to integer\n",
        "df.Credit_History = df.Credit_History.astype('int')"
      ]
    },
    {
      "cell_type": "code",
      "source": [
        "# Change the data type of Credit_History to integer\n",
        "df_test.Credit_History = df_test.Credit_History.astype('int')"
      ],
      "metadata": {
        "id": "eAca3BPk_Nqb"
      },
      "execution_count": null,
      "outputs": []
    },
    {
      "cell_type": "code",
      "execution_count": null,
      "metadata": {
        "colab": {
          "base_uri": "https://localhost:8080/"
        },
        "id": "BneLaR7OW041",
        "outputId": "ced53f58-1ca5-4641-9c6a-d2ccd4871d57"
      },
      "outputs": [
        {
          "output_type": "execute_result",
          "data": {
            "text/plain": [
              "1    525\n",
              "0     89\n",
              "Name: Credit_History, dtype: int64"
            ]
          },
          "metadata": {},
          "execution_count": 139
        }
      ],
      "source": [
        "df.Credit_History.value_counts()"
      ]
    },
    {
      "cell_type": "code",
      "execution_count": null,
      "metadata": {
        "colab": {
          "base_uri": "https://localhost:8080/"
        },
        "id": "F-i6vYXiW4z0",
        "outputId": "939ec983-ebf4-4001-e1f8-6a5ed6221871"
      },
      "outputs": [
        {
          "output_type": "stream",
          "name": "stdout",
          "text": [
            "<class 'pandas.core.frame.DataFrame'>\n",
            "RangeIndex: 614 entries, 0 to 613\n",
            "Data columns (total 12 columns):\n",
            " #   Column                      Non-Null Count  Dtype  \n",
            "---  ------                      --------------  -----  \n",
            " 0   Gender                      614 non-null    int64  \n",
            " 1   Married                     614 non-null    int64  \n",
            " 2   Dependents                  614 non-null    int64  \n",
            " 3   Education                   614 non-null    int64  \n",
            " 4   Self_Employed               614 non-null    int64  \n",
            " 5   ApplicantIncome             614 non-null    float64\n",
            " 6   CoapplicantIncome           614 non-null    float64\n",
            " 7   LoanAmount                  614 non-null    float64\n",
            " 8   Loan_Amount_Term(in years)  614 non-null    int64  \n",
            " 9   Credit_History              614 non-null    int64  \n",
            " 10  Property_Area               614 non-null    object \n",
            " 11  Loan_Status                 614 non-null    object \n",
            "dtypes: float64(3), int64(7), object(2)\n",
            "memory usage: 57.7+ KB\n"
          ]
        }
      ],
      "source": [
        "df.info()"
      ]
    },
    {
      "cell_type": "code",
      "execution_count": null,
      "metadata": {
        "colab": {
          "base_uri": "https://localhost:8080/"
        },
        "id": "RzyQu7MtW68O",
        "outputId": "b1324bab-e00f-423c-d747-201c8b7862d1"
      },
      "outputs": [
        {
          "output_type": "execute_result",
          "data": {
            "text/plain": [
              "array(['Urban', 'Rural', 'Semiurban'], dtype=object)"
            ]
          },
          "metadata": {},
          "execution_count": 141
        }
      ],
      "source": [
        "# Check the unique values of Property_Area\n",
        "df.Property_Area.unique()"
      ]
    },
    {
      "cell_type": "code",
      "source": [
        "# Check the unique values of Property_Area\n",
        "df_test.Property_Area.unique()"
      ],
      "metadata": {
        "colab": {
          "base_uri": "https://localhost:8080/"
        },
        "id": "upI7hIki_R9a",
        "outputId": "86c0ee19-c876-4224-af86-8fd3c2364f70"
      },
      "execution_count": null,
      "outputs": [
        {
          "output_type": "execute_result",
          "data": {
            "text/plain": [
              "array(['Urban', 'Semiurban', 'Rural'], dtype=object)"
            ]
          },
          "metadata": {},
          "execution_count": 142
        }
      ]
    },
    {
      "cell_type": "code",
      "execution_count": null,
      "metadata": {
        "colab": {
          "base_uri": "https://localhost:8080/"
        },
        "id": "KMyYGiMhX169",
        "outputId": "757a5a2e-4722-40d1-ad4c-eecf22e1b020"
      },
      "outputs": [
        {
          "output_type": "execute_result",
          "data": {
            "text/plain": [
              "Semiurban    233\n",
              "Urban        202\n",
              "Rural        179\n",
              "Name: Property_Area, dtype: int64"
            ]
          },
          "metadata": {},
          "execution_count": 143
        }
      ],
      "source": [
        "# Check for the frequency of each category\n",
        "df.Property_Area.value_counts()"
      ]
    },
    {
      "cell_type": "code",
      "execution_count": null,
      "metadata": {
        "colab": {
          "base_uri": "https://localhost:8080/"
        },
        "id": "9HaC2PBXXU1k",
        "outputId": "31739077-bb45-4da6-a863-11890989a354"
      },
      "outputs": [
        {
          "output_type": "execute_result",
          "data": {
            "text/plain": [
              "0"
            ]
          },
          "metadata": {},
          "execution_count": 144
        }
      ],
      "source": [
        "# Check for the number of null values\n",
        "df.Property_Area.isnull().sum()"
      ]
    },
    {
      "cell_type": "code",
      "execution_count": null,
      "metadata": {
        "id": "xJ8hRMH2XHoS"
      },
      "outputs": [],
      "source": [
        "# Since there are categorial features in this column, covert it into numberical features using replace function\n",
        "# Urban -> 0\n",
        "# Rural -> 1\n",
        "# Semiurban -> 2\n",
        "\n",
        "df.Property_Area.replace(['Urban', 'Rural', 'Semiurban'], [0,1,2], inplace = True)"
      ]
    },
    {
      "cell_type": "code",
      "source": [
        "# Since there are categorial features in this column, covert it into numberical features using replace function\n",
        "# Urban -> 0\n",
        "# Rural -> 1\n",
        "# Semiurban -> 2\n",
        "\n",
        "df_test.Property_Area.replace(['Urban', 'Rural', 'Semiurban'], [0,1,2], inplace = True)"
      ],
      "metadata": {
        "id": "p1fn96aB_VgR"
      },
      "execution_count": null,
      "outputs": []
    },
    {
      "cell_type": "code",
      "execution_count": null,
      "metadata": {
        "colab": {
          "base_uri": "https://localhost:8080/"
        },
        "id": "GjlenlYTXM38",
        "outputId": "e630859a-2efd-4d6a-9fa6-d54501fa3104"
      },
      "outputs": [
        {
          "output_type": "execute_result",
          "data": {
            "text/plain": [
              "2    233\n",
              "0    202\n",
              "1    179\n",
              "Name: Property_Area, dtype: int64"
            ]
          },
          "metadata": {},
          "execution_count": 147
        }
      ],
      "source": [
        "df.Property_Area.value_counts()"
      ]
    },
    {
      "cell_type": "code",
      "execution_count": null,
      "metadata": {
        "colab": {
          "base_uri": "https://localhost:8080/"
        },
        "id": "loDTP_JEYJ-b",
        "outputId": "857160fb-e79c-4c9c-a942-1771fd4ec2c1"
      },
      "outputs": [
        {
          "output_type": "stream",
          "name": "stdout",
          "text": [
            "<class 'pandas.core.frame.DataFrame'>\n",
            "RangeIndex: 614 entries, 0 to 613\n",
            "Data columns (total 12 columns):\n",
            " #   Column                      Non-Null Count  Dtype  \n",
            "---  ------                      --------------  -----  \n",
            " 0   Gender                      614 non-null    int64  \n",
            " 1   Married                     614 non-null    int64  \n",
            " 2   Dependents                  614 non-null    int64  \n",
            " 3   Education                   614 non-null    int64  \n",
            " 4   Self_Employed               614 non-null    int64  \n",
            " 5   ApplicantIncome             614 non-null    float64\n",
            " 6   CoapplicantIncome           614 non-null    float64\n",
            " 7   LoanAmount                  614 non-null    float64\n",
            " 8   Loan_Amount_Term(in years)  614 non-null    int64  \n",
            " 9   Credit_History              614 non-null    int64  \n",
            " 10  Property_Area               614 non-null    int64  \n",
            " 11  Loan_Status                 614 non-null    object \n",
            "dtypes: float64(3), int64(8), object(1)\n",
            "memory usage: 57.7+ KB\n"
          ]
        }
      ],
      "source": [
        "df.info()"
      ]
    },
    {
      "cell_type": "code",
      "execution_count": null,
      "metadata": {
        "colab": {
          "base_uri": "https://localhost:8080/"
        },
        "id": "2odkLgozYNZI",
        "outputId": "7cf11e91-2cec-42be-9c74-a2bae9cef3cf"
      },
      "outputs": [
        {
          "output_type": "execute_result",
          "data": {
            "text/plain": [
              "array(['Y', 'N'], dtype=object)"
            ]
          },
          "metadata": {},
          "execution_count": 149
        }
      ],
      "source": [
        "# Check the unique values of Loan_Status\n",
        "df.Loan_Status.unique()"
      ]
    },
    {
      "cell_type": "code",
      "execution_count": null,
      "metadata": {
        "colab": {
          "base_uri": "https://localhost:8080/"
        },
        "id": "rPct6WamYU4W",
        "outputId": "be085195-a1a7-4865-e397-a915d33eb77f"
      },
      "outputs": [
        {
          "output_type": "execute_result",
          "data": {
            "text/plain": [
              "Y    422\n",
              "N    192\n",
              "Name: Loan_Status, dtype: int64"
            ]
          },
          "metadata": {},
          "execution_count": 150
        }
      ],
      "source": [
        "# Check for the frequency of each category\n",
        "df.Loan_Status.value_counts()"
      ]
    },
    {
      "cell_type": "code",
      "execution_count": null,
      "metadata": {
        "id": "25MvHS5RYaLg"
      },
      "outputs": [],
      "source": [
        "# Since there are categorial features in this column, we covert it into numberical features using pandas get_dummies \n",
        "df.Loan_Status = pd.get_dummies(df.Loan_Status, drop_first = True)"
      ]
    },
    {
      "cell_type": "code",
      "execution_count": null,
      "metadata": {
        "id": "fXyUY51cZKuo"
      },
      "outputs": [],
      "source": [
        "# Change the data type of Loan_Status to integer\n",
        "df.Loan_Status = df.Loan_Status.astype('int')"
      ]
    },
    {
      "cell_type": "code",
      "execution_count": null,
      "metadata": {
        "colab": {
          "base_uri": "https://localhost:8080/"
        },
        "id": "ySSrhSQ7YwIO",
        "outputId": "d32091fd-78d0-48f4-dbce-d8bda2e68687"
      },
      "outputs": [
        {
          "output_type": "stream",
          "name": "stdout",
          "text": [
            "<class 'pandas.core.frame.DataFrame'>\n",
            "RangeIndex: 614 entries, 0 to 613\n",
            "Data columns (total 12 columns):\n",
            " #   Column                      Non-Null Count  Dtype  \n",
            "---  ------                      --------------  -----  \n",
            " 0   Gender                      614 non-null    int64  \n",
            " 1   Married                     614 non-null    int64  \n",
            " 2   Dependents                  614 non-null    int64  \n",
            " 3   Education                   614 non-null    int64  \n",
            " 4   Self_Employed               614 non-null    int64  \n",
            " 5   ApplicantIncome             614 non-null    float64\n",
            " 6   CoapplicantIncome           614 non-null    float64\n",
            " 7   LoanAmount                  614 non-null    float64\n",
            " 8   Loan_Amount_Term(in years)  614 non-null    int64  \n",
            " 9   Credit_History              614 non-null    int64  \n",
            " 10  Property_Area               614 non-null    int64  \n",
            " 11  Loan_Status                 614 non-null    int64  \n",
            "dtypes: float64(3), int64(9)\n",
            "memory usage: 57.7 KB\n"
          ]
        }
      ],
      "source": [
        "df.info()"
      ]
    },
    {
      "cell_type": "code",
      "source": [
        "df_test.info()"
      ],
      "metadata": {
        "colab": {
          "base_uri": "https://localhost:8080/"
        },
        "id": "RDInacxo_aCx",
        "outputId": "d4bcc0b0-3a34-46b2-9467-5f0874c640d2"
      },
      "execution_count": null,
      "outputs": [
        {
          "output_type": "stream",
          "name": "stdout",
          "text": [
            "<class 'pandas.core.frame.DataFrame'>\n",
            "RangeIndex: 367 entries, 0 to 366\n",
            "Data columns (total 11 columns):\n",
            " #   Column                      Non-Null Count  Dtype  \n",
            "---  ------                      --------------  -----  \n",
            " 0   Gender                      367 non-null    int64  \n",
            " 1   Married                     367 non-null    int64  \n",
            " 2   Dependents                  367 non-null    int64  \n",
            " 3   Education                   367 non-null    int64  \n",
            " 4   Self_Employed               367 non-null    int64  \n",
            " 5   ApplicantIncome             367 non-null    float64\n",
            " 6   CoapplicantIncome           367 non-null    int64  \n",
            " 7   LoanAmount                  367 non-null    float64\n",
            " 8   Loan_Amount_Term(in years)  367 non-null    int64  \n",
            " 9   Credit_History              367 non-null    int64  \n",
            " 10  Property_Area               367 non-null    int64  \n",
            "dtypes: float64(2), int64(9)\n",
            "memory usage: 31.7 KB\n"
          ]
        }
      ]
    },
    {
      "cell_type": "markdown",
      "metadata": {
        "id": "uT-L8JZKaNfv"
      },
      "source": [
        "* **DATA VISUALISATION**"
      ]
    },
    {
      "cell_type": "markdown",
      "metadata": {
        "id": "HYrmgf4iaksD"
      },
      "source": [
        "**Q1. What's the ratio of Male to Female?**"
      ]
    },
    {
      "cell_type": "code",
      "execution_count": null,
      "metadata": {
        "colab": {
          "base_uri": "https://localhost:8080/"
        },
        "id": "O7FY6NjTZFPo",
        "outputId": "ef7fd73f-941d-4396-a962-704bcdde976e"
      },
      "outputs": [
        {
          "output_type": "stream",
          "name": "stdout",
          "text": [
            "502 : 112\n"
          ]
        }
      ],
      "source": [
        "print(df.Gender.value_counts()[1], ':', df.Gender.value_counts()[0])"
      ]
    },
    {
      "cell_type": "markdown",
      "metadata": {
        "id": "JKY1_Mryaj1G"
      },
      "source": [
        "**Conclusion:** The ratio of Male to Female in  the dataset is 502 : 112"
      ]
    },
    {
      "cell_type": "markdown",
      "metadata": {
        "id": "IETDQIVmbrpc"
      },
      "source": [
        "**Q2. How many Males are married and non-married?**"
      ]
    },
    {
      "cell_type": "code",
      "execution_count": null,
      "metadata": {
        "id": "O3euSqOvbjYW"
      },
      "outputs": [],
      "source": [
        "# Splitting the data into groups based on Gender and Married and apply size function to count the distinct rows\n",
        "g = df.groupby(['Gender', 'Married']).size()"
      ]
    },
    {
      "cell_type": "code",
      "execution_count": null,
      "metadata": {
        "colab": {
          "base_uri": "https://localhost:8080/"
        },
        "id": "bU8zCXKxcW-Z",
        "outputId": "7841bb7c-4b88-440e-b12e-383833dbccab"
      },
      "outputs": [
        {
          "output_type": "execute_result",
          "data": {
            "text/plain": [
              "Gender  Married\n",
              "0       0           80\n",
              "        1           32\n",
              "1       0          133\n",
              "        1          369\n",
              "dtype: int64"
            ]
          },
          "metadata": {},
          "execution_count": 157
        }
      ],
      "source": [
        "# Viewing the grouped size\n",
        "g"
      ]
    },
    {
      "cell_type": "code",
      "execution_count": null,
      "metadata": {
        "colab": {
          "base_uri": "https://localhost:8080/",
          "height": 293
        },
        "id": "EeDygDtPlZx-",
        "outputId": "7dddc984-cca8-4ce1-9383-beeea304ba6d"
      },
      "outputs": [
        {
          "output_type": "execute_result",
          "data": {
            "text/plain": [
              "<matplotlib.axes._subplots.AxesSubplot at 0x7f6d50ae5bd0>"
            ]
          },
          "metadata": {},
          "execution_count": 158
        },
        {
          "output_type": "display_data",
          "data": {
            "image/png": "[encoded data removed]",
            "text/plain": [
              "<Figure size 432x288 with 1 Axes>"
            ]
          },
          "metadata": {
            "needs_background": "light"
          }
        }
      ],
      "source": [
        "# Plotting the grouped data of Males\n",
        "g[1].plot.bar()"
      ]
    },
    {
      "cell_type": "markdown",
      "metadata": {
        "id": "vaIVouLplHqw"
      },
      "source": [
        "**Conclusion:** There are 369 males that are married and 133 males that are non-married"
      ]
    },
    {
      "cell_type": "markdown",
      "metadata": {
        "id": "PRaBW1l-oaIi"
      },
      "source": [
        "**Q3. How many Females are married and non-married?**"
      ]
    },
    {
      "cell_type": "code",
      "execution_count": null,
      "metadata": {
        "colab": {
          "base_uri": "https://localhost:8080/",
          "height": 293
        },
        "id": "7H3sXpTfiyWD",
        "outputId": "7fd39d6d-4e35-41fc-94f3-ea4528750708"
      },
      "outputs": [
        {
          "output_type": "execute_result",
          "data": {
            "text/plain": [
              "<matplotlib.axes._subplots.AxesSubplot at 0x7f6d509ea3d0>"
            ]
          },
          "metadata": {},
          "execution_count": 159
        },
        {
          "output_type": "display_data",
          "data": {
            "image/png": "[encoded data removed]",
            "text/plain": [
              "<Figure size 432x288 with 1 Axes>"
            ]
          },
          "metadata": {
            "needs_background": "light"
          }
        }
      ],
      "source": [
        "# Plotting the grouped data of Females\n",
        "g[0].plot.bar()"
      ]
    },
    {
      "cell_type": "markdown",
      "metadata": {
        "id": "2XdVhA-6onNq"
      },
      "source": [
        "**Conclusion:** There are 80 married and 32 non-married females in the dataset."
      ]
    },
    {
      "cell_type": "markdown",
      "metadata": {
        "id": "esCrESfUo0wX"
      },
      "source": [
        "**Q4. How many Males and Females are graduated and non-graduated with respect to their Marital status?**"
      ]
    },
    {
      "cell_type": "code",
      "execution_count": null,
      "metadata": {
        "id": "zLA0ur2uoitO"
      },
      "outputs": [],
      "source": [
        "# Splitting the data into groups based on Gender, Married & Education and apply size function to count the distinct rows\n",
        "g1 = df.groupby(['Gender', 'Married', 'Education']).size()"
      ]
    },
    {
      "cell_type": "code",
      "execution_count": null,
      "metadata": {
        "colab": {
          "base_uri": "https://localhost:8080/"
        },
        "id": "qqReP1t-pGZI",
        "outputId": "41323c47-8921-4783-a508-2367a5c29d56"
      },
      "outputs": [
        {
          "output_type": "execute_result",
          "data": {
            "text/plain": [
              "Gender  Married  Education\n",
              "0       0        0             66\n",
              "                 1             14\n",
              "        1        0             26\n",
              "                 1              6\n",
              "1       0        0            102\n",
              "                 1             31\n",
              "        1        0            286\n",
              "                 1             83\n",
              "dtype: int64"
            ]
          },
          "metadata": {},
          "execution_count": 161
        }
      ],
      "source": [
        "# Viewing the grouped size\n",
        "g1\n",
        "\n",
        "# Gender : 1-> male, 0-> female\n",
        "# Married: 1-> Yes, 0-> No\n",
        "# Education 1-> Not Graduate , 0-> Graduate        \n"
      ]
    },
    {
      "cell_type": "markdown",
      "metadata": {
        "id": "K0aM2xGEpt4H"
      },
      "source": [
        "**Conclusion:** From the above data it can be concluded that \n",
        "\n",
        "*   66 non-married females are Graduate and 14 are non-graduate.\n",
        "*   26 married females are Graduate and 6 are non-graduate.\n",
        "\n",
        "*   102 non-married males are Graduate and 31 are non-graduate.\n",
        "*   286 married males are Graduate and 83 are non-graduate.\n",
        "\n",
        "\n",
        "\n"
      ]
    },
    {
      "cell_type": "markdown",
      "metadata": {
        "id": "3JFFKOIKqy3F"
      },
      "source": [
        "**Q5. Which type of encoding will be required to perform on the \"Education\" column?**\n",
        "\n",
        "Ans. From above, the encoding used was Label Encoding since order of education matters."
      ]
    },
    {
      "cell_type": "markdown",
      "metadata": {
        "id": "HVaKsyExrdqB"
      },
      "source": [
        "**Q6. Is it a male or a female whose loan amount is the highest?**"
      ]
    },
    {
      "cell_type": "code",
      "execution_count": null,
      "metadata": {
        "id": "Cpn2eBotrLh3"
      },
      "outputs": [],
      "source": [
        "# Organize the data into group based on Gender and perform aggregation function (max) on loan amount.  \n",
        "g2 = df.groupby('Gender')['LoanAmount'].agg('max')"
      ]
    },
    {
      "cell_type": "code",
      "execution_count": null,
      "metadata": {
        "colab": {
          "base_uri": "https://localhost:8080/"
        },
        "id": "Mfg-judWrLXE",
        "outputId": "1c06072a-ca15-45e3-ce67-2bd2bfd5276b"
      },
      "outputs": [
        {
          "output_type": "execute_result",
          "data": {
            "text/plain": [
              "Gender\n",
              "0    600.0\n",
              "1    700.0\n",
              "Name: LoanAmount, dtype: float64"
            ]
          },
          "metadata": {},
          "execution_count": 163
        }
      ],
      "source": [
        "g2"
      ]
    },
    {
      "cell_type": "markdown",
      "metadata": {
        "id": "AmjdseMPs6b3"
      },
      "source": [
        "**Conclusion:** Male has the highest loan amount."
      ]
    },
    {
      "cell_type": "markdown",
      "metadata": {
        "id": "EgCaxCNMtOYW"
      },
      "source": [
        "**Q7. The specification and information about the applicant who has the highest income.**"
      ]
    },
    {
      "cell_type": "code",
      "execution_count": null,
      "metadata": {
        "colab": {
          "base_uri": "https://localhost:8080/",
          "height": 162
        },
        "id": "7IDWOdHGsJ5C",
        "outputId": "00317cab-31ef-4b1a-b791-eb1c44c3d3ee"
      },
      "outputs": [
        {
          "output_type": "execute_result",
          "data": {
            "text/html": [
              "\n",
              "  <div id=\"df-78aa1d13-ff12-4237-8010-8961af4711e8\">\n",
              "    <div class=\"colab-df-container\">\n",
              "      <div>\n",
              "<style scoped>\n",
              "    .dataframe tbody tr th:only-of-type {\n",
              "        vertical-align: middle;\n",
              "    }\n",
              "\n",
              "    .dataframe tbody tr th {\n",
              "        vertical-align: top;\n",
              "    }\n",
              "\n",
              "    .dataframe thead th {\n",
              "        text-align: right;\n",
              "    }\n",
              "</style>\n",
              "<table border=\"1\" class=\"dataframe\">\n",
              "  <thead>\n",
              "    <tr style=\"text-align: right;\">\n",
              "      <th></th>\n",
              "      <th>Gender</th>\n",
              "      <th>Married</th>\n",
              "      <th>Dependents</th>\n",
              "      <th>Education</th>\n",
              "      <th>Self_Employed</th>\n",
              "      <th>ApplicantIncome</th>\n",
              "      <th>CoapplicantIncome</th>\n",
              "      <th>LoanAmount</th>\n",
              "      <th>Loan_Amount_Term(in years)</th>\n",
              "      <th>Credit_History</th>\n",
              "      <th>Property_Area</th>\n",
              "      <th>Loan_Status</th>\n",
              "    </tr>\n",
              "  </thead>\n",
              "  <tbody>\n",
              "    <tr>\n",
              "      <th>409</th>\n",
              "      <td>1</td>\n",
              "      <td>1</td>\n",
              "      <td>4</td>\n",
              "      <td>0</td>\n",
              "      <td>0</td>\n",
              "      <td>81000.0</td>\n",
              "      <td>0.0</td>\n",
              "      <td>360.0</td>\n",
              "      <td>30</td>\n",
              "      <td>0</td>\n",
              "      <td>1</td>\n",
              "      <td>0</td>\n",
              "    </tr>\n",
              "  </tbody>\n",
              "</table>\n",
              "</div>\n",
              "      <button class=\"colab-df-convert\" onclick=\"convertToInteractive('df-78aa1d13-ff12-4237-8010-8961af4711e8')\"\n",
              "              title=\"Convert this dataframe to an interactive table.\"\n",
              "              style=\"display:none;\">\n",
              "        \n",
              "  <svg xmlns=\"http://www.w3.org/2000/svg\" height=\"24px\"viewBox=\"0 0 24 24\"\n",
              "       width=\"24px\">\n",
              "    <path d=\"M0 0h24v24H0V0z\" fill=\"none\"/>\n",
              "    <path d=\"M18.56 5.44l.94 2.06.94-2.06 2.06-.94-2.06-.94-.94-2.06-.94 2.06-2.06.94zm-11 1L8.5 8.5l.94-2.06 2.06-.94-2.06-.94L8.5 2.5l-.94 2.06-2.06.94zm10 10l.94 2.06.94-2.06 2.06-.94-2.06-.94-.94-2.06-.94 2.06-2.06.94z\"/><path d=\"M17.41 7.96l-1.37-1.37c-.4-.4-.92-.59-1.43-.59-.52 0-1.04.2-1.43.59L10.3 9.45l-7.72 7.72c-.78.78-.78 2.05 0 2.83L4 21.41c.39.39.9.59 1.41.59.51 0 1.02-.2 1.41-.59l7.78-7.78 2.81-2.81c.8-.78.8-2.07 0-2.86zM5.41 20L4 18.59l7.72-7.72 1.47 1.35L5.41 20z\"/>\n",
              "  </svg>\n",
              "      </button>\n",
              "      \n",
              "  <style>\n",
              "    .colab-df-container {\n",
              "      display:flex;\n",
              "      flex-wrap:wrap;\n",
              "      gap: 12px;\n",
              "    }\n",
              "\n",
              "    .colab-df-convert {\n",
              "      background-color: #E8F0FE;\n",
              "      border: none;\n",
              "      border-radius: 50%;\n",
              "      cursor: pointer;\n",
              "      display: none;\n",
              "      fill: #1967D2;\n",
              "      height: 32px;\n",
              "      padding: 0 0 0 0;\n",
              "      width: 32px;\n",
              "    }\n",
              "\n",
              "    .colab-df-convert:hover {\n",
              "      background-color: #E2EBFA;\n",
              "      box-shadow: 0px 1px 2px rgba(60, 64, 67, 0.3), 0px 1px 3px 1px rgba(60, 64, 67, 0.15);\n",
              "      fill: #174EA6;\n",
              "    }\n",
              "\n",
              "    [theme=dark] .colab-df-convert {\n",
              "      background-color: #3B4455;\n",
              "      fill: #D2E3FC;\n",
              "    }\n",
              "\n",
              "    [theme=dark] .colab-df-convert:hover {\n",
              "      background-color: #434B5C;\n",
              "      box-shadow: 0px 1px 3px 1px rgba(0, 0, 0, 0.15);\n",
              "      filter: drop-shadow(0px 1px 2px rgba(0, 0, 0, 0.3));\n",
              "      fill: #FFFFFF;\n",
              "    }\n",
              "  </style>\n",
              "\n",
              "      <script>\n",
              "        const buttonEl =\n",
              "          document.querySelector('#df-78aa1d13-ff12-4237-8010-8961af4711e8 button.colab-df-convert');\n",
              "        buttonEl.style.display =\n",
              "          google.colab.kernel.accessAllowed ? 'block' : 'none';\n",
              "\n",
              "        async function convertToInteractive(key) {\n",
              "          const element = document.querySelector('#df-78aa1d13-ff12-4237-8010-8961af4711e8');\n",
              "          const dataTable =\n",
              "            await google.colab.kernel.invokeFunction('convertToInteractive',\n",
              "                                                     [key], {});\n",
              "          if (!dataTable) return;\n",
              "\n",
              "          const docLinkHtml = 'Like what you see? Visit the ' +\n",
              "            '<a target=\"_blank\" href=https://colab.research.google.com/notebooks/data_table.ipynb>data table notebook</a>'\n",
              "            + ' to learn more about interactive tables.';\n",
              "          element.innerHTML = '';\n",
              "          dataTable['output_type'] = 'display_data';\n",
              "          await google.colab.output.renderOutput(dataTable, element);\n",
              "          const docLink = document.createElement('div');\n",
              "          docLink.innerHTML = docLinkHtml;\n",
              "          element.appendChild(docLink);\n",
              "        }\n",
              "      </script>\n",
              "    </div>\n",
              "  </div>\n",
              "  "
            ],
            "text/plain": [
              "     Gender  Married  Dependents  ...  Credit_History  Property_Area  Loan_Status\n",
              "409       1        1           4  ...               0              1            0\n",
              "\n",
              "[1 rows x 12 columns]"
            ]
          },
          "metadata": {},
          "execution_count": 164
        }
      ],
      "source": [
        "df[df.ApplicantIncome == max(df.ApplicantIncome)]"
      ]
    },
    {
      "cell_type": "markdown",
      "metadata": {
        "id": "PtXPjdwHmYwN"
      },
      "source": [
        "**Conclusion:** The person who has the highest income i.e. 81000 is male and married. He is graudated but not self-Employed. He has taken a loan amount of 360,000 for a term period of 30 years. He has the property in Rural area. "
      ]
    },
    {
      "cell_type": "markdown",
      "source": [
        "* **Dealing with outliers**"
      ],
      "metadata": {
        "id": "CJ0bljbKZu-g"
      }
    },
    {
      "cell_type": "code",
      "source": [
        "# Since we have outliers in ApplicantIncome, normalize it using MinMaxScaler\n",
        "scaler = MinMaxScaler()\n",
        "df['ApplicantIncome']= scaler.fit_transform(df[['ApplicantIncome']])\n",
        "df['ApplicantIncome']"
      ],
      "metadata": {
        "colab": {
          "base_uri": "https://localhost:8080/"
        },
        "id": "ZovwGpFMaNtC",
        "outputId": "713ee2e6-c795-4f8a-c108-d022b404c2e6"
      },
      "execution_count": null,
      "outputs": [
        {
          "output_type": "execute_result",
          "data": {
            "text/plain": [
              "0      0.070489\n",
              "1      0.054830\n",
              "2      0.035250\n",
              "3      0.030093\n",
              "4      0.072356\n",
              "         ...   \n",
              "609    0.034014\n",
              "610    0.048930\n",
              "611    0.097984\n",
              "612    0.091936\n",
              "613    0.054830\n",
              "Name: ApplicantIncome, Length: 614, dtype: float64"
            ]
          },
          "metadata": {},
          "execution_count": 165
        }
      ]
    },
    {
      "cell_type": "code",
      "source": [
        "# Since we have outliers in ApplicantIncome, normalize it using MinMaxScaler\n",
        "scaler = MinMaxScaler()\n",
        "df_test['ApplicantIncome']= scaler.fit_transform(df_test[['ApplicantIncome']])\n",
        "df_test['ApplicantIncome']"
      ],
      "metadata": {
        "colab": {
          "base_uri": "https://localhost:8080/"
        },
        "id": "NOmZ1RoUabHu",
        "outputId": "93a0f28f-f4eb-44e9-cae5-a645640f14ca"
      },
      "execution_count": null,
      "outputs": [
        {
          "output_type": "execute_result",
          "data": {
            "text/plain": [
              "0      0.078865\n",
              "1      0.042411\n",
              "2      0.068938\n",
              "3      0.032263\n",
              "4      0.045168\n",
              "         ...   \n",
              "362    0.055274\n",
              "363    0.057329\n",
              "364    0.044810\n",
              "365    0.068938\n",
              "366    0.126846\n",
              "Name: ApplicantIncome, Length: 367, dtype: float64"
            ]
          },
          "metadata": {},
          "execution_count": 166
        }
      ]
    },
    {
      "cell_type": "code",
      "source": [
        "# Since we have outliers in CoapplicantIncome, normalize it using MinMaxScaler\n",
        "scaler = MinMaxScaler()\n",
        "df['CoapplicantIncome']= scaler.fit_transform(df[['CoapplicantIncome']])\n",
        "df['CoapplicantIncome']"
      ],
      "metadata": {
        "colab": {
          "base_uri": "https://localhost:8080/"
        },
        "id": "5svD-J_6ZuGS",
        "outputId": "b5ca51c1-5c13-4caf-f433-0804ad365191"
      },
      "execution_count": null,
      "outputs": [
        {
          "output_type": "execute_result",
          "data": {
            "text/plain": [
              "0      0.000000\n",
              "1      0.036192\n",
              "2      0.000000\n",
              "3      0.056592\n",
              "4      0.000000\n",
              "         ...   \n",
              "609    0.000000\n",
              "610    0.000000\n",
              "611    0.005760\n",
              "612    0.000000\n",
              "613    0.000000\n",
              "Name: CoapplicantIncome, Length: 614, dtype: float64"
            ]
          },
          "metadata": {},
          "execution_count": 167
        }
      ]
    },
    {
      "cell_type": "code",
      "source": [
        "# Since we have outliers in CoapplicantIncome, normalize it using MinMaxScaler\n",
        "scaler = MinMaxScaler()\n",
        "df_test['CoapplicantIncome']= scaler.fit_transform(df_test[['CoapplicantIncome']])\n",
        "df_test['CoapplicantIncome']"
      ],
      "metadata": {
        "colab": {
          "base_uri": "https://localhost:8080/"
        },
        "id": "9ms16wKFaD8i",
        "outputId": "cd00fd3d-cfd5-4256-da20-240ad7afe66d"
      },
      "execution_count": null,
      "outputs": [
        {
          "output_type": "execute_result",
          "data": {
            "text/plain": [
              "0      0.000000\n",
              "1      0.062500\n",
              "2      0.075000\n",
              "3      0.106083\n",
              "4      0.000000\n",
              "         ...   \n",
              "362    0.074042\n",
              "363    0.029542\n",
              "364    0.083042\n",
              "365    0.099708\n",
              "366    0.000000\n",
              "Name: CoapplicantIncome, Length: 367, dtype: float64"
            ]
          },
          "metadata": {},
          "execution_count": 168
        }
      ]
    },
    {
      "cell_type": "code",
      "source": [
        "# Since we have outliers in LoanAmount, normalize it using MinMaxScaler\n",
        "scaler = MinMaxScaler()\n",
        "df['LoanAmount']= scaler.fit_transform(df[['LoanAmount']])\n",
        "df['LoanAmount']"
      ],
      "metadata": {
        "colab": {
          "base_uri": "https://localhost:8080/"
        },
        "id": "orWhCMUKalrp",
        "outputId": "425fa942-2c99-4c76-eeb0-8926edd5697b"
      },
      "execution_count": null,
      "outputs": [
        {
          "output_type": "execute_result",
          "data": {
            "text/plain": [
              "0      0.172214\n",
              "1      0.172214\n",
              "2      0.082489\n",
              "3      0.160637\n",
              "4      0.191027\n",
              "         ...   \n",
              "609    0.089725\n",
              "610    0.044863\n",
              "611    0.353111\n",
              "612    0.257598\n",
              "613    0.179450\n",
              "Name: LoanAmount, Length: 614, dtype: float64"
            ]
          },
          "metadata": {},
          "execution_count": 169
        }
      ]
    },
    {
      "cell_type": "code",
      "source": [
        "# Since we have outliers in LoanAmount, normalize it using MinMaxScaler\n",
        "scaler = MinMaxScaler()\n",
        "df_test['LoanAmount']= scaler.fit_transform(df_test[['LoanAmount']])\n",
        "df_test['LoanAmount']"
      ],
      "metadata": {
        "colab": {
          "base_uri": "https://localhost:8080/"
        },
        "id": "Td58yMG2ag9V",
        "outputId": "b83c52d5-f605-433a-f42a-2459b05131dc"
      },
      "execution_count": null,
      "outputs": [
        {
          "output_type": "execute_result",
          "data": {
            "text/plain": [
              "0      0.157088\n",
              "1      0.187739\n",
              "2      0.344828\n",
              "3      0.137931\n",
              "4      0.095785\n",
              "         ...   \n",
              "362    0.162835\n",
              "363    0.166667\n",
              "364    0.187739\n",
              "365    0.249042\n",
              "366    0.134100\n",
              "Name: LoanAmount, Length: 367, dtype: float64"
            ]
          },
          "metadata": {},
          "execution_count": 170
        }
      ]
    },
    {
      "cell_type": "markdown",
      "metadata": {
        "id": "JCmYZ_ZrxBa8"
      },
      "source": [
        "#**FEATURE SELECTION**"
      ]
    },
    {
      "cell_type": "markdown",
      "metadata": {
        "id": "r1XZ9nrwuHY1"
      },
      "source": [
        "* **METHOD 1 - CORRELATION**\n",
        "\n"
      ]
    },
    {
      "cell_type": "code",
      "execution_count": null,
      "metadata": {
        "colab": {
          "base_uri": "https://localhost:8080/",
          "height": 524
        },
        "id": "pEX75WScmTko",
        "outputId": "2cfbff52-4c02-4104-dc62-4b7c42723c06"
      },
      "outputs": [
        {
          "output_type": "execute_result",
          "data": {
            "text/html": [
              "\n",
              "  <div id=\"df-0975bc43-6f83-4139-ac83-6b2d559810fc\">\n",
              "    <div class=\"colab-df-container\">\n",
              "      <div>\n",
              "<style scoped>\n",
              "    .dataframe tbody tr th:only-of-type {\n",
              "        vertical-align: middle;\n",
              "    }\n",
              "\n",
              "    .dataframe tbody tr th {\n",
              "        vertical-align: top;\n",
              "    }\n",
              "\n",
              "    .dataframe thead th {\n",
              "        text-align: right;\n",
              "    }\n",
              "</style>\n",
              "<table border=\"1\" class=\"dataframe\">\n",
              "  <thead>\n",
              "    <tr style=\"text-align: right;\">\n",
              "      <th></th>\n",
              "      <th>Gender</th>\n",
              "      <th>Married</th>\n",
              "      <th>Dependents</th>\n",
              "      <th>Education</th>\n",
              "      <th>Self_Employed</th>\n",
              "      <th>ApplicantIncome</th>\n",
              "      <th>CoapplicantIncome</th>\n",
              "      <th>LoanAmount</th>\n",
              "      <th>Loan_Amount_Term(in years)</th>\n",
              "      <th>Credit_History</th>\n",
              "      <th>Property_Area</th>\n",
              "      <th>Loan_Status</th>\n",
              "    </tr>\n",
              "  </thead>\n",
              "  <tbody>\n",
              "    <tr>\n",
              "      <th>Gender</th>\n",
              "      <td>1.000000</td>\n",
              "      <td>0.364569</td>\n",
              "      <td>0.165877</td>\n",
              "      <td>0.045364</td>\n",
              "      <td>-0.000525</td>\n",
              "      <td>0.058809</td>\n",
              "      <td>0.082912</td>\n",
              "      <td>0.106904</td>\n",
              "      <td>-0.074030</td>\n",
              "      <td>0.009170</td>\n",
              "      <td>-0.082045</td>\n",
              "      <td>0.017987</td>\n",
              "    </tr>\n",
              "    <tr>\n",
              "      <th>Married</th>\n",
              "      <td>0.364569</td>\n",
              "      <td>1.000000</td>\n",
              "      <td>0.308408</td>\n",
              "      <td>0.012304</td>\n",
              "      <td>0.004489</td>\n",
              "      <td>0.051708</td>\n",
              "      <td>0.075948</td>\n",
              "      <td>0.146546</td>\n",
              "      <td>-0.100912</td>\n",
              "      <td>0.010938</td>\n",
              "      <td>0.003071</td>\n",
              "      <td>0.091478</td>\n",
              "    </tr>\n",
              "    <tr>\n",
              "      <th>Dependents</th>\n",
              "      <td>0.165877</td>\n",
              "      <td>0.308408</td>\n",
              "      <td>1.000000</td>\n",
              "      <td>0.059001</td>\n",
              "      <td>0.048028</td>\n",
              "      <td>0.134080</td>\n",
              "      <td>0.034780</td>\n",
              "      <td>0.170584</td>\n",
              "      <td>-0.104059</td>\n",
              "      <td>-0.047203</td>\n",
              "      <td>0.008561</td>\n",
              "      <td>0.002474</td>\n",
              "    </tr>\n",
              "    <tr>\n",
              "      <th>Education</th>\n",
              "      <td>0.045364</td>\n",
              "      <td>0.012304</td>\n",
              "      <td>0.059001</td>\n",
              "      <td>1.000000</td>\n",
              "      <td>-0.010383</td>\n",
              "      <td>-0.140760</td>\n",
              "      <td>-0.062290</td>\n",
              "      <td>-0.168759</td>\n",
              "      <td>-0.073928</td>\n",
              "      <td>-0.073658</td>\n",
              "      <td>-0.003592</td>\n",
              "      <td>-0.085884</td>\n",
              "    </tr>\n",
              "    <tr>\n",
              "      <th>Self_Employed</th>\n",
              "      <td>-0.000525</td>\n",
              "      <td>0.004489</td>\n",
              "      <td>0.048028</td>\n",
              "      <td>-0.010383</td>\n",
              "      <td>1.000000</td>\n",
              "      <td>0.127180</td>\n",
              "      <td>-0.016100</td>\n",
              "      <td>0.115100</td>\n",
              "      <td>-0.033739</td>\n",
              "      <td>-0.001550</td>\n",
              "      <td>0.021996</td>\n",
              "      <td>-0.003700</td>\n",
              "    </tr>\n",
              "    <tr>\n",
              "      <th>ApplicantIncome</th>\n",
              "      <td>0.058809</td>\n",
              "      <td>0.051708</td>\n",
              "      <td>0.134080</td>\n",
              "      <td>-0.140760</td>\n",
              "      <td>0.127180</td>\n",
              "      <td>1.000000</td>\n",
              "      <td>-0.116605</td>\n",
              "      <td>0.565181</td>\n",
              "      <td>-0.046531</td>\n",
              "      <td>-0.018615</td>\n",
              "      <td>-0.007894</td>\n",
              "      <td>-0.004710</td>\n",
              "    </tr>\n",
              "    <tr>\n",
              "      <th>CoapplicantIncome</th>\n",
              "      <td>0.082912</td>\n",
              "      <td>0.075948</td>\n",
              "      <td>0.034780</td>\n",
              "      <td>-0.062290</td>\n",
              "      <td>-0.016100</td>\n",
              "      <td>-0.116605</td>\n",
              "      <td>1.000000</td>\n",
              "      <td>0.189218</td>\n",
              "      <td>-0.059383</td>\n",
              "      <td>0.011134</td>\n",
              "      <td>-0.028356</td>\n",
              "      <td>-0.059187</td>\n",
              "    </tr>\n",
              "    <tr>\n",
              "      <th>LoanAmount</th>\n",
              "      <td>0.106904</td>\n",
              "      <td>0.146546</td>\n",
              "      <td>0.170584</td>\n",
              "      <td>-0.168759</td>\n",
              "      <td>0.115100</td>\n",
              "      <td>0.565181</td>\n",
              "      <td>0.189218</td>\n",
              "      <td>1.000000</td>\n",
              "      <td>0.036960</td>\n",
              "      <td>-0.000607</td>\n",
              "      <td>0.016808</td>\n",
              "      <td>-0.033214</td>\n",
              "    </tr>\n",
              "    <tr>\n",
              "      <th>Loan_Amount_Term(in years)</th>\n",
              "      <td>-0.074030</td>\n",
              "      <td>-0.100912</td>\n",
              "      <td>-0.104059</td>\n",
              "      <td>-0.073928</td>\n",
              "      <td>-0.033739</td>\n",
              "      <td>-0.046531</td>\n",
              "      <td>-0.059383</td>\n",
              "      <td>0.036960</td>\n",
              "      <td>1.000000</td>\n",
              "      <td>-0.004705</td>\n",
              "      <td>0.086879</td>\n",
              "      <td>-0.022549</td>\n",
              "    </tr>\n",
              "    <tr>\n",
              "      <th>Credit_History</th>\n",
              "      <td>0.009170</td>\n",
              "      <td>0.010938</td>\n",
              "      <td>-0.047203</td>\n",
              "      <td>-0.073658</td>\n",
              "      <td>-0.001550</td>\n",
              "      <td>-0.018615</td>\n",
              "      <td>0.011134</td>\n",
              "      <td>-0.000607</td>\n",
              "      <td>-0.004705</td>\n",
              "      <td>1.000000</td>\n",
              "      <td>0.030248</td>\n",
              "      <td>0.540556</td>\n",
              "    </tr>\n",
              "    <tr>\n",
              "      <th>Property_Area</th>\n",
              "      <td>-0.082045</td>\n",
              "      <td>0.003071</td>\n",
              "      <td>0.008561</td>\n",
              "      <td>-0.003592</td>\n",
              "      <td>0.021996</td>\n",
              "      <td>-0.007894</td>\n",
              "      <td>-0.028356</td>\n",
              "      <td>0.016808</td>\n",
              "      <td>0.086879</td>\n",
              "      <td>0.030248</td>\n",
              "      <td>1.000000</td>\n",
              "      <td>0.103253</td>\n",
              "    </tr>\n",
              "    <tr>\n",
              "      <th>Loan_Status</th>\n",
              "      <td>0.017987</td>\n",
              "      <td>0.091478</td>\n",
              "      <td>0.002474</td>\n",
              "      <td>-0.085884</td>\n",
              "      <td>-0.003700</td>\n",
              "      <td>-0.004710</td>\n",
              "      <td>-0.059187</td>\n",
              "      <td>-0.033214</td>\n",
              "      <td>-0.022549</td>\n",
              "      <td>0.540556</td>\n",
              "      <td>0.103253</td>\n",
              "      <td>1.000000</td>\n",
              "    </tr>\n",
              "  </tbody>\n",
              "</table>\n",
              "</div>\n",
              "      <button class=\"colab-df-convert\" onclick=\"convertToInteractive('df-0975bc43-6f83-4139-ac83-6b2d559810fc')\"\n",
              "              title=\"Convert this dataframe to an interactive table.\"\n",
              "              style=\"display:none;\">\n",
              "        \n",
              "  <svg xmlns=\"http://www.w3.org/2000/svg\" height=\"24px\"viewBox=\"0 0 24 24\"\n",
              "       width=\"24px\">\n",
              "    <path d=\"M0 0h24v24H0V0z\" fill=\"none\"/>\n",
              "    <path d=\"M18.56 5.44l.94 2.06.94-2.06 2.06-.94-2.06-.94-.94-2.06-.94 2.06-2.06.94zm-11 1L8.5 8.5l.94-2.06 2.06-.94-2.06-.94L8.5 2.5l-.94 2.06-2.06.94zm10 10l.94 2.06.94-2.06 2.06-.94-2.06-.94-.94-2.06-.94 2.06-2.06.94z\"/><path d=\"M17.41 7.96l-1.37-1.37c-.4-.4-.92-.59-1.43-.59-.52 0-1.04.2-1.43.59L10.3 9.45l-7.72 7.72c-.78.78-.78 2.05 0 2.83L4 21.41c.39.39.9.59 1.41.59.51 0 1.02-.2 1.41-.59l7.78-7.78 2.81-2.81c.8-.78.8-2.07 0-2.86zM5.41 20L4 18.59l7.72-7.72 1.47 1.35L5.41 20z\"/>\n",
              "  </svg>\n",
              "      </button>\n",
              "      \n",
              "  <style>\n",
              "    .colab-df-container {\n",
              "      display:flex;\n",
              "      flex-wrap:wrap;\n",
              "      gap: 12px;\n",
              "    }\n",
              "\n",
              "    .colab-df-convert {\n",
              "      background-color: #E8F0FE;\n",
              "      border: none;\n",
              "      border-radius: 50%;\n",
              "      cursor: pointer;\n",
              "      display: none;\n",
              "      fill: #1967D2;\n",
              "      height: 32px;\n",
              "      padding: 0 0 0 0;\n",
              "      width: 32px;\n",
              "    }\n",
              "\n",
              "    .colab-df-convert:hover {\n",
              "      background-color: #E2EBFA;\n",
              "      box-shadow: 0px 1px 2px rgba(60, 64, 67, 0.3), 0px 1px 3px 1px rgba(60, 64, 67, 0.15);\n",
              "      fill: #174EA6;\n",
              "    }\n",
              "\n",
              "    [theme=dark] .colab-df-convert {\n",
              "      background-color: #3B4455;\n",
              "      fill: #D2E3FC;\n",
              "    }\n",
              "\n",
              "    [theme=dark] .colab-df-convert:hover {\n",
              "      background-color: #434B5C;\n",
              "      box-shadow: 0px 1px 3px 1px rgba(0, 0, 0, 0.15);\n",
              "      filter: drop-shadow(0px 1px 2px rgba(0, 0, 0, 0.3));\n",
              "      fill: #FFFFFF;\n",
              "    }\n",
              "  </style>\n",
              "\n",
              "      <script>\n",
              "        const buttonEl =\n",
              "          document.querySelector('#df-0975bc43-6f83-4139-ac83-6b2d559810fc button.colab-df-convert');\n",
              "        buttonEl.style.display =\n",
              "          google.colab.kernel.accessAllowed ? 'block' : 'none';\n",
              "\n",
              "        async function convertToInteractive(key) {\n",
              "          const element = document.querySelector('#df-0975bc43-6f83-4139-ac83-6b2d559810fc');\n",
              "          const dataTable =\n",
              "            await google.colab.kernel.invokeFunction('convertToInteractive',\n",
              "                                                     [key], {});\n",
              "          if (!dataTable) return;\n",
              "\n",
              "          const docLinkHtml = 'Like what you see? Visit the ' +\n",
              "            '<a target=\"_blank\" href=https://colab.research.google.com/notebooks/data_table.ipynb>data table notebook</a>'\n",
              "            + ' to learn more about interactive tables.';\n",
              "          element.innerHTML = '';\n",
              "          dataTable['output_type'] = 'display_data';\n",
              "          await google.colab.output.renderOutput(dataTable, element);\n",
              "          const docLink = document.createElement('div');\n",
              "          docLink.innerHTML = docLinkHtml;\n",
              "          element.appendChild(docLink);\n",
              "        }\n",
              "      </script>\n",
              "    </div>\n",
              "  </div>\n",
              "  "
            ],
            "text/plain": [
              "                              Gender   Married  ...  Property_Area  Loan_Status\n",
              "Gender                      1.000000  0.364569  ...      -0.082045     0.017987\n",
              "Married                     0.364569  1.000000  ...       0.003071     0.091478\n",
              "Dependents                  0.165877  0.308408  ...       0.008561     0.002474\n",
              "Education                   0.045364  0.012304  ...      -0.003592    -0.085884\n",
              "Self_Employed              -0.000525  0.004489  ...       0.021996    -0.003700\n",
              "ApplicantIncome             0.058809  0.051708  ...      -0.007894    -0.004710\n",
              "CoapplicantIncome           0.082912  0.075948  ...      -0.028356    -0.059187\n",
              "LoanAmount                  0.106904  0.146546  ...       0.016808    -0.033214\n",
              "Loan_Amount_Term(in years) -0.074030 -0.100912  ...       0.086879    -0.022549\n",
              "Credit_History              0.009170  0.010938  ...       0.030248     0.540556\n",
              "Property_Area              -0.082045  0.003071  ...       1.000000     0.103253\n",
              "Loan_Status                 0.017987  0.091478  ...       0.103253     1.000000\n",
              "\n",
              "[12 rows x 12 columns]"
            ]
          },
          "metadata": {},
          "execution_count": 171
        }
      ],
      "source": [
        "# Returns the pairwise correlation of all the numerical columns. It helps us to check the relavancy of each feature.\n",
        "df.corr()"
      ]
    },
    {
      "cell_type": "code",
      "execution_count": null,
      "metadata": {
        "colab": {
          "base_uri": "https://localhost:8080/",
          "height": 1000
        },
        "id": "CA39oLxsuVOI",
        "outputId": "e4f523de-be88-4480-aade-5174ec34aa6f"
      },
      "outputs": [
        {
          "output_type": "execute_result",
          "data": {
            "text/plain": [
              "<matplotlib.axes._subplots.AxesSubplot at 0x7f6d51208850>"
            ]
          },
          "metadata": {},
          "execution_count": 172
        },
        {
          "output_type": "display_data",
          "data": {
            "image/png": "[encoded data removed]",
            "text/plain": [
              "<Figure size 1440x1440 with 2 Axes>"
            ]
          },
          "metadata": {
            "needs_background": "light"
          }
        }
      ],
      "source": [
        "# Arrange the size of the graph\n",
        "plt.figure(figsize = (20,20))\n",
        "\n",
        "# Plotting the correlation using heatmap\n",
        "sns.heatmap(df.corr(), annot = True)\n"
      ]
    },
    {
      "cell_type": "markdown",
      "metadata": {
        "id": "pKsiMOB-w-5K"
      },
      "source": [
        "* **Conclusion:** The above plot shows the following:\n",
        "1. Credit History is the highest correlated feature, among all the features, with respect to loan status.\n",
        "2. Property Area is the next highly correlated feature with respect to loan status. It signifies that it also matters where the applicant's property is located in deciding whether a loan will be provided or not\n",
        "3. Education, Self Employed, Applicant Income, Coapplicant Income, Loan Amount and Loan Amount Term are negatively correlated to the Loan Status. \n",
        "4. However, it should be noted that correlation doesn't imply causation. \n",
        "5. This method is not much powerful hence, we will use another method for feature selection"
      ]
    },
    {
      "cell_type": "markdown",
      "metadata": {
        "id": "R8638JH_zW3T"
      },
      "source": [
        "* **METHOD 2 - FEATURE IMPORTANCE**"
      ]
    },
    {
      "cell_type": "code",
      "execution_count": null,
      "metadata": {
        "id": "6cnmEhuewe0A"
      },
      "outputs": [],
      "source": [
        "# Splitting the features and the target variable\n",
        "X = df.drop('Loan_Status', axis = 1)\n",
        "Y = df.Loan_Status"
      ]
    },
    {
      "cell_type": "code",
      "execution_count": null,
      "metadata": {
        "colab": {
          "base_uri": "https://localhost:8080/",
          "height": 505
        },
        "id": "o3YoUKwA8Y9J",
        "outputId": "d5a425f6-14b9-4f28-c3b8-51fb24c32f8b"
      },
      "outputs": [
        {
          "output_type": "execute_result",
          "data": {
            "text/html": [
              "\n",
              "  <div id=\"df-4d07c58b-d4f2-40d6-947f-112f9fec1a02\">\n",
              "    <div class=\"colab-df-container\">\n",
              "      <div>\n",
              "<style scoped>\n",
              "    .dataframe tbody tr th:only-of-type {\n",
              "        vertical-align: middle;\n",
              "    }\n",
              "\n",
              "    .dataframe tbody tr th {\n",
              "        vertical-align: top;\n",
              "    }\n",
              "\n",
              "    .dataframe thead th {\n",
              "        text-align: right;\n",
              "    }\n",
              "</style>\n",
              "<table border=\"1\" class=\"dataframe\">\n",
              "  <thead>\n",
              "    <tr style=\"text-align: right;\">\n",
              "      <th></th>\n",
              "      <th>Gender</th>\n",
              "      <th>Married</th>\n",
              "      <th>Dependents</th>\n",
              "      <th>Education</th>\n",
              "      <th>Self_Employed</th>\n",
              "      <th>ApplicantIncome</th>\n",
              "      <th>CoapplicantIncome</th>\n",
              "      <th>LoanAmount</th>\n",
              "      <th>Loan_Amount_Term(in years)</th>\n",
              "      <th>Credit_History</th>\n",
              "      <th>Property_Area</th>\n",
              "    </tr>\n",
              "  </thead>\n",
              "  <tbody>\n",
              "    <tr>\n",
              "      <th>0</th>\n",
              "      <td>1</td>\n",
              "      <td>0</td>\n",
              "      <td>0</td>\n",
              "      <td>0</td>\n",
              "      <td>0</td>\n",
              "      <td>0.070489</td>\n",
              "      <td>0.000000</td>\n",
              "      <td>0.172214</td>\n",
              "      <td>30</td>\n",
              "      <td>1</td>\n",
              "      <td>0</td>\n",
              "    </tr>\n",
              "    <tr>\n",
              "      <th>1</th>\n",
              "      <td>1</td>\n",
              "      <td>1</td>\n",
              "      <td>1</td>\n",
              "      <td>0</td>\n",
              "      <td>0</td>\n",
              "      <td>0.054830</td>\n",
              "      <td>0.036192</td>\n",
              "      <td>0.172214</td>\n",
              "      <td>30</td>\n",
              "      <td>1</td>\n",
              "      <td>1</td>\n",
              "    </tr>\n",
              "    <tr>\n",
              "      <th>2</th>\n",
              "      <td>1</td>\n",
              "      <td>1</td>\n",
              "      <td>0</td>\n",
              "      <td>0</td>\n",
              "      <td>1</td>\n",
              "      <td>0.035250</td>\n",
              "      <td>0.000000</td>\n",
              "      <td>0.082489</td>\n",
              "      <td>30</td>\n",
              "      <td>1</td>\n",
              "      <td>0</td>\n",
              "    </tr>\n",
              "    <tr>\n",
              "      <th>3</th>\n",
              "      <td>1</td>\n",
              "      <td>1</td>\n",
              "      <td>0</td>\n",
              "      <td>1</td>\n",
              "      <td>0</td>\n",
              "      <td>0.030093</td>\n",
              "      <td>0.056592</td>\n",
              "      <td>0.160637</td>\n",
              "      <td>30</td>\n",
              "      <td>1</td>\n",
              "      <td>0</td>\n",
              "    </tr>\n",
              "    <tr>\n",
              "      <th>4</th>\n",
              "      <td>1</td>\n",
              "      <td>0</td>\n",
              "      <td>0</td>\n",
              "      <td>0</td>\n",
              "      <td>0</td>\n",
              "      <td>0.072356</td>\n",
              "      <td>0.000000</td>\n",
              "      <td>0.191027</td>\n",
              "      <td>30</td>\n",
              "      <td>1</td>\n",
              "      <td>0</td>\n",
              "    </tr>\n",
              "    <tr>\n",
              "      <th>...</th>\n",
              "      <td>...</td>\n",
              "      <td>...</td>\n",
              "      <td>...</td>\n",
              "      <td>...</td>\n",
              "      <td>...</td>\n",
              "      <td>...</td>\n",
              "      <td>...</td>\n",
              "      <td>...</td>\n",
              "      <td>...</td>\n",
              "      <td>...</td>\n",
              "      <td>...</td>\n",
              "    </tr>\n",
              "    <tr>\n",
              "      <th>609</th>\n",
              "      <td>0</td>\n",
              "      <td>0</td>\n",
              "      <td>0</td>\n",
              "      <td>0</td>\n",
              "      <td>0</td>\n",
              "      <td>0.034014</td>\n",
              "      <td>0.000000</td>\n",
              "      <td>0.089725</td>\n",
              "      <td>30</td>\n",
              "      <td>1</td>\n",
              "      <td>1</td>\n",
              "    </tr>\n",
              "    <tr>\n",
              "      <th>610</th>\n",
              "      <td>1</td>\n",
              "      <td>1</td>\n",
              "      <td>4</td>\n",
              "      <td>0</td>\n",
              "      <td>0</td>\n",
              "      <td>0.048930</td>\n",
              "      <td>0.000000</td>\n",
              "      <td>0.044863</td>\n",
              "      <td>15</td>\n",
              "      <td>1</td>\n",
              "      <td>1</td>\n",
              "    </tr>\n",
              "    <tr>\n",
              "      <th>611</th>\n",
              "      <td>1</td>\n",
              "      <td>1</td>\n",
              "      <td>1</td>\n",
              "      <td>0</td>\n",
              "      <td>0</td>\n",
              "      <td>0.097984</td>\n",
              "      <td>0.005760</td>\n",
              "      <td>0.353111</td>\n",
              "      <td>30</td>\n",
              "      <td>1</td>\n",
              "      <td>0</td>\n",
              "    </tr>\n",
              "    <tr>\n",
              "      <th>612</th>\n",
              "      <td>1</td>\n",
              "      <td>1</td>\n",
              "      <td>2</td>\n",
              "      <td>0</td>\n",
              "      <td>0</td>\n",
              "      <td>0.091936</td>\n",
              "      <td>0.000000</td>\n",
              "      <td>0.257598</td>\n",
              "      <td>30</td>\n",
              "      <td>1</td>\n",
              "      <td>0</td>\n",
              "    </tr>\n",
              "    <tr>\n",
              "      <th>613</th>\n",
              "      <td>0</td>\n",
              "      <td>0</td>\n",
              "      <td>0</td>\n",
              "      <td>0</td>\n",
              "      <td>1</td>\n",
              "      <td>0.054830</td>\n",
              "      <td>0.000000</td>\n",
              "      <td>0.179450</td>\n",
              "      <td>30</td>\n",
              "      <td>0</td>\n",
              "      <td>2</td>\n",
              "    </tr>\n",
              "  </tbody>\n",
              "</table>\n",
              "<p>614 rows × 11 columns</p>\n",
              "</div>\n",
              "      <button class=\"colab-df-convert\" onclick=\"convertToInteractive('df-4d07c58b-d4f2-40d6-947f-112f9fec1a02')\"\n",
              "              title=\"Convert this dataframe to an interactive table.\"\n",
              "              style=\"display:none;\">\n",
              "        \n",
              "  <svg xmlns=\"http://www.w3.org/2000/svg\" height=\"24px\"viewBox=\"0 0 24 24\"\n",
              "       width=\"24px\">\n",
              "    <path d=\"M0 0h24v24H0V0z\" fill=\"none\"/>\n",
              "    <path d=\"M18.56 5.44l.94 2.06.94-2.06 2.06-.94-2.06-.94-.94-2.06-.94 2.06-2.06.94zm-11 1L8.5 8.5l.94-2.06 2.06-.94-2.06-.94L8.5 2.5l-.94 2.06-2.06.94zm10 10l.94 2.06.94-2.06 2.06-.94-2.06-.94-.94-2.06-.94 2.06-2.06.94z\"/><path d=\"M17.41 7.96l-1.37-1.37c-.4-.4-.92-.59-1.43-.59-.52 0-1.04.2-1.43.59L10.3 9.45l-7.72 7.72c-.78.78-.78 2.05 0 2.83L4 21.41c.39.39.9.59 1.41.59.51 0 1.02-.2 1.41-.59l7.78-7.78 2.81-2.81c.8-.78.8-2.07 0-2.86zM5.41 20L4 18.59l7.72-7.72 1.47 1.35L5.41 20z\"/>\n",
              "  </svg>\n",
              "      </button>\n",
              "      \n",
              "  <style>\n",
              "    .colab-df-container {\n",
              "      display:flex;\n",
              "      flex-wrap:wrap;\n",
              "      gap: 12px;\n",
              "    }\n",
              "\n",
              "    .colab-df-convert {\n",
              "      background-color: #E8F0FE;\n",
              "      border: none;\n",
              "      border-radius: 50%;\n",
              "      cursor: pointer;\n",
              "      display: none;\n",
              "      fill: #1967D2;\n",
              "      height: 32px;\n",
              "      padding: 0 0 0 0;\n",
              "      width: 32px;\n",
              "    }\n",
              "\n",
              "    .colab-df-convert:hover {\n",
              "      background-color: #E2EBFA;\n",
              "      box-shadow: 0px 1px 2px rgba(60, 64, 67, 0.3), 0px 1px 3px 1px rgba(60, 64, 67, 0.15);\n",
              "      fill: #174EA6;\n",
              "    }\n",
              "\n",
              "    [theme=dark] .colab-df-convert {\n",
              "      background-color: #3B4455;\n",
              "      fill: #D2E3FC;\n",
              "    }\n",
              "\n",
              "    [theme=dark] .colab-df-convert:hover {\n",
              "      background-color: #434B5C;\n",
              "      box-shadow: 0px 1px 3px 1px rgba(0, 0, 0, 0.15);\n",
              "      filter: drop-shadow(0px 1px 2px rgba(0, 0, 0, 0.3));\n",
              "      fill: #FFFFFF;\n",
              "    }\n",
              "  </style>\n",
              "\n",
              "      <script>\n",
              "        const buttonEl =\n",
              "          document.querySelector('#df-4d07c58b-d4f2-40d6-947f-112f9fec1a02 button.colab-df-convert');\n",
              "        buttonEl.style.display =\n",
              "          google.colab.kernel.accessAllowed ? 'block' : 'none';\n",
              "\n",
              "        async function convertToInteractive(key) {\n",
              "          const element = document.querySelector('#df-4d07c58b-d4f2-40d6-947f-112f9fec1a02');\n",
              "          const dataTable =\n",
              "            await google.colab.kernel.invokeFunction('convertToInteractive',\n",
              "                                                     [key], {});\n",
              "          if (!dataTable) return;\n",
              "\n",
              "          const docLinkHtml = 'Like what you see? Visit the ' +\n",
              "            '<a target=\"_blank\" href=https://colab.research.google.com/notebooks/data_table.ipynb>data table notebook</a>'\n",
              "            + ' to learn more about interactive tables.';\n",
              "          element.innerHTML = '';\n",
              "          dataTable['output_type'] = 'display_data';\n",
              "          await google.colab.output.renderOutput(dataTable, element);\n",
              "          const docLink = document.createElement('div');\n",
              "          docLink.innerHTML = docLinkHtml;\n",
              "          element.appendChild(docLink);\n",
              "        }\n",
              "      </script>\n",
              "    </div>\n",
              "  </div>\n",
              "  "
            ],
            "text/plain": [
              "     Gender  Married  ...  Credit_History  Property_Area\n",
              "0         1        0  ...               1              0\n",
              "1         1        1  ...               1              1\n",
              "2         1        1  ...               1              0\n",
              "3         1        1  ...               1              0\n",
              "4         1        0  ...               1              0\n",
              "..      ...      ...  ...             ...            ...\n",
              "609       0        0  ...               1              1\n",
              "610       1        1  ...               1              1\n",
              "611       1        1  ...               1              0\n",
              "612       1        1  ...               1              0\n",
              "613       0        0  ...               0              2\n",
              "\n",
              "[614 rows x 11 columns]"
            ]
          },
          "metadata": {},
          "execution_count": 174
        }
      ],
      "source": [
        "X"
      ]
    },
    {
      "cell_type": "code",
      "execution_count": null,
      "metadata": {
        "colab": {
          "base_uri": "https://localhost:8080/"
        },
        "id": "Vn-Rlhp78cnE",
        "outputId": "8e70146b-bffd-485d-abcd-480d6b540195"
      },
      "outputs": [
        {
          "output_type": "execute_result",
          "data": {
            "text/plain": [
              "0      1\n",
              "1      0\n",
              "2      1\n",
              "3      1\n",
              "4      1\n",
              "      ..\n",
              "609    1\n",
              "610    1\n",
              "611    1\n",
              "612    1\n",
              "613    0\n",
              "Name: Loan_Status, Length: 614, dtype: int64"
            ]
          },
          "metadata": {},
          "execution_count": 175
        }
      ],
      "source": [
        "Y"
      ]
    },
    {
      "cell_type": "code",
      "execution_count": null,
      "metadata": {
        "colab": {
          "base_uri": "https://localhost:8080/"
        },
        "id": "9Kwf-vLC8fnb",
        "outputId": "b7f49f19-388e-4d39-d28c-bbc82e20c0ec"
      },
      "outputs": [
        {
          "output_type": "execute_result",
          "data": {
            "text/plain": [
              "array([0.02001764, 0.01915225, 0.05968279, 0.02106914, 0.02195842,\n",
              "       0.18448821, 0.11758596, 0.17987065, 0.04539395, 0.28035736,\n",
              "       0.05042363])"
            ]
          },
          "metadata": {},
          "execution_count": 176
        }
      ],
      "source": [
        "# Building the model\n",
        "model = ExtraTreesClassifier()\n",
        "\n",
        "# Fitting the model \n",
        "model.fit(X,Y)\n",
        "\n",
        "# Computing the importance/strength of each feature\n",
        "model.feature_importances_"
      ]
    },
    {
      "cell_type": "code",
      "execution_count": null,
      "metadata": {
        "colab": {
          "base_uri": "https://localhost:8080/",
          "height": 282
        },
        "id": "x_1eWIQC-LKE",
        "outputId": "8696b97a-2f09-48a1-e037-b5a6eb7d738c"
      },
      "outputs": [
        {
          "output_type": "execute_result",
          "data": {
            "text/plain": [
              "<matplotlib.axes._subplots.AxesSubplot at 0x7f6d47ef1ed0>"
            ]
          },
          "metadata": {},
          "execution_count": 177
        },
        {
          "output_type": "display_data",
          "data": {
            "image/png": "[encoded data removed]",
            "text/plain": [
              "<Figure size 432x288 with 1 Axes>"
            ]
          },
          "metadata": {
            "needs_background": "light"
          }
        }
      ],
      "source": [
        "# Storing the importance of features in series. \n",
        "important_features = pd.Series(model.feature_importances_ , index = X.columns)\n",
        "\n",
        "# Visualizing top 10 features with respect to the target\n",
        "important_features.nlargest(10).plot(kind = 'barh')"
      ]
    },
    {
      "cell_type": "markdown",
      "metadata": {
        "id": "aqmNyLpaDh-L"
      },
      "source": [
        "**Conclusion:** \n",
        "1. The graph shows the importance of top 10 features in ascending order with Education as least important and Credit_History as highly important feature. \n",
        "2. Top 7 important features we will consider: Credit_History, ApplicantIncome, LoanAmount, CoapplicantIncome, Dependents, Property_Area, Loan_Amount_term(in years)."
      ]
    },
    {
      "cell_type": "code",
      "execution_count": null,
      "metadata": {
        "colab": {
          "base_uri": "https://localhost:8080/"
        },
        "id": "LzdO3iu-B4Us",
        "outputId": "63a31c49-0649-4520-b6a1-f7ae73323ec4"
      },
      "outputs": [
        {
          "output_type": "execute_result",
          "data": {
            "text/plain": [
              "['Credit_History',\n",
              " 'ApplicantIncome',\n",
              " 'LoanAmount',\n",
              " 'CoapplicantIncome',\n",
              " 'Dependents',\n",
              " 'Property_Area',\n",
              " 'Loan_Amount_Term(in years)']"
            ]
          },
          "metadata": {},
          "execution_count": 178
        }
      ],
      "source": [
        "# Creating a list of important features\n",
        "list(important_features.nlargest(7).index)"
      ]
    },
    {
      "cell_type": "code",
      "execution_count": null,
      "metadata": {
        "colab": {
          "base_uri": "https://localhost:8080/",
          "height": 468
        },
        "id": "U1lyVgTXF7_1",
        "outputId": "a97cf26e-5cea-4ca3-a45a-cb9cd1c580a0"
      },
      "outputs": [
        {
          "output_type": "execute_result",
          "data": {
            "text/html": [
              "\n",
              "  <div id=\"df-dc25aa02-92f4-4e6f-b24e-32293478ecd2\">\n",
              "    <div class=\"colab-df-container\">\n",
              "      <div>\n",
              "<style scoped>\n",
              "    .dataframe tbody tr th:only-of-type {\n",
              "        vertical-align: middle;\n",
              "    }\n",
              "\n",
              "    .dataframe tbody tr th {\n",
              "        vertical-align: top;\n",
              "    }\n",
              "\n",
              "    .dataframe thead th {\n",
              "        text-align: right;\n",
              "    }\n",
              "</style>\n",
              "<table border=\"1\" class=\"dataframe\">\n",
              "  <thead>\n",
              "    <tr style=\"text-align: right;\">\n",
              "      <th></th>\n",
              "      <th>Credit_History</th>\n",
              "      <th>ApplicantIncome</th>\n",
              "      <th>LoanAmount</th>\n",
              "      <th>CoapplicantIncome</th>\n",
              "      <th>Dependents</th>\n",
              "      <th>Property_Area</th>\n",
              "      <th>Loan_Amount_Term(in years)</th>\n",
              "    </tr>\n",
              "  </thead>\n",
              "  <tbody>\n",
              "    <tr>\n",
              "      <th>0</th>\n",
              "      <td>1</td>\n",
              "      <td>0.070489</td>\n",
              "      <td>0.172214</td>\n",
              "      <td>0.000000</td>\n",
              "      <td>0</td>\n",
              "      <td>0</td>\n",
              "      <td>30</td>\n",
              "    </tr>\n",
              "    <tr>\n",
              "      <th>1</th>\n",
              "      <td>1</td>\n",
              "      <td>0.054830</td>\n",
              "      <td>0.172214</td>\n",
              "      <td>0.036192</td>\n",
              "      <td>1</td>\n",
              "      <td>1</td>\n",
              "      <td>30</td>\n",
              "    </tr>\n",
              "    <tr>\n",
              "      <th>2</th>\n",
              "      <td>1</td>\n",
              "      <td>0.035250</td>\n",
              "      <td>0.082489</td>\n",
              "      <td>0.000000</td>\n",
              "      <td>0</td>\n",
              "      <td>0</td>\n",
              "      <td>30</td>\n",
              "    </tr>\n",
              "    <tr>\n",
              "      <th>3</th>\n",
              "      <td>1</td>\n",
              "      <td>0.030093</td>\n",
              "      <td>0.160637</td>\n",
              "      <td>0.056592</td>\n",
              "      <td>0</td>\n",
              "      <td>0</td>\n",
              "      <td>30</td>\n",
              "    </tr>\n",
              "    <tr>\n",
              "      <th>4</th>\n",
              "      <td>1</td>\n",
              "      <td>0.072356</td>\n",
              "      <td>0.191027</td>\n",
              "      <td>0.000000</td>\n",
              "      <td>0</td>\n",
              "      <td>0</td>\n",
              "      <td>30</td>\n",
              "    </tr>\n",
              "    <tr>\n",
              "      <th>...</th>\n",
              "      <td>...</td>\n",
              "      <td>...</td>\n",
              "      <td>...</td>\n",
              "      <td>...</td>\n",
              "      <td>...</td>\n",
              "      <td>...</td>\n",
              "      <td>...</td>\n",
              "    </tr>\n",
              "    <tr>\n",
              "      <th>609</th>\n",
              "      <td>1</td>\n",
              "      <td>0.034014</td>\n",
              "      <td>0.089725</td>\n",
              "      <td>0.000000</td>\n",
              "      <td>0</td>\n",
              "      <td>1</td>\n",
              "      <td>30</td>\n",
              "    </tr>\n",
              "    <tr>\n",
              "      <th>610</th>\n",
              "      <td>1</td>\n",
              "      <td>0.048930</td>\n",
              "      <td>0.044863</td>\n",
              "      <td>0.000000</td>\n",
              "      <td>4</td>\n",
              "      <td>1</td>\n",
              "      <td>15</td>\n",
              "    </tr>\n",
              "    <tr>\n",
              "      <th>611</th>\n",
              "      <td>1</td>\n",
              "      <td>0.097984</td>\n",
              "      <td>0.353111</td>\n",
              "      <td>0.005760</td>\n",
              "      <td>1</td>\n",
              "      <td>0</td>\n",
              "      <td>30</td>\n",
              "    </tr>\n",
              "    <tr>\n",
              "      <th>612</th>\n",
              "      <td>1</td>\n",
              "      <td>0.091936</td>\n",
              "      <td>0.257598</td>\n",
              "      <td>0.000000</td>\n",
              "      <td>2</td>\n",
              "      <td>0</td>\n",
              "      <td>30</td>\n",
              "    </tr>\n",
              "    <tr>\n",
              "      <th>613</th>\n",
              "      <td>0</td>\n",
              "      <td>0.054830</td>\n",
              "      <td>0.179450</td>\n",
              "      <td>0.000000</td>\n",
              "      <td>0</td>\n",
              "      <td>2</td>\n",
              "      <td>30</td>\n",
              "    </tr>\n",
              "  </tbody>\n",
              "</table>\n",
              "<p>614 rows × 7 columns</p>\n",
              "</div>\n",
              "      <button class=\"colab-df-convert\" onclick=\"convertToInteractive('df-dc25aa02-92f4-4e6f-b24e-32293478ecd2')\"\n",
              "              title=\"Convert this dataframe to an interactive table.\"\n",
              "              style=\"display:none;\">\n",
              "        \n",
              "  <svg xmlns=\"http://www.w3.org/2000/svg\" height=\"24px\"viewBox=\"0 0 24 24\"\n",
              "       width=\"24px\">\n",
              "    <path d=\"M0 0h24v24H0V0z\" fill=\"none\"/>\n",
              "    <path d=\"M18.56 5.44l.94 2.06.94-2.06 2.06-.94-2.06-.94-.94-2.06-.94 2.06-2.06.94zm-11 1L8.5 8.5l.94-2.06 2.06-.94-2.06-.94L8.5 2.5l-.94 2.06-2.06.94zm10 10l.94 2.06.94-2.06 2.06-.94-2.06-.94-.94-2.06-.94 2.06-2.06.94z\"/><path d=\"M17.41 7.96l-1.37-1.37c-.4-.4-.92-.59-1.43-.59-.52 0-1.04.2-1.43.59L10.3 9.45l-7.72 7.72c-.78.78-.78 2.05 0 2.83L4 21.41c.39.39.9.59 1.41.59.51 0 1.02-.2 1.41-.59l7.78-7.78 2.81-2.81c.8-.78.8-2.07 0-2.86zM5.41 20L4 18.59l7.72-7.72 1.47 1.35L5.41 20z\"/>\n",
              "  </svg>\n",
              "      </button>\n",
              "      \n",
              "  <style>\n",
              "    .colab-df-container {\n",
              "      display:flex;\n",
              "      flex-wrap:wrap;\n",
              "      gap: 12px;\n",
              "    }\n",
              "\n",
              "    .colab-df-convert {\n",
              "      background-color: #E8F0FE;\n",
              "      border: none;\n",
              "      border-radius: 50%;\n",
              "      cursor: pointer;\n",
              "      display: none;\n",
              "      fill: #1967D2;\n",
              "      height: 32px;\n",
              "      padding: 0 0 0 0;\n",
              "      width: 32px;\n",
              "    }\n",
              "\n",
              "    .colab-df-convert:hover {\n",
              "      background-color: #E2EBFA;\n",
              "      box-shadow: 0px 1px 2px rgba(60, 64, 67, 0.3), 0px 1px 3px 1px rgba(60, 64, 67, 0.15);\n",
              "      fill: #174EA6;\n",
              "    }\n",
              "\n",
              "    [theme=dark] .colab-df-convert {\n",
              "      background-color: #3B4455;\n",
              "      fill: #D2E3FC;\n",
              "    }\n",
              "\n",
              "    [theme=dark] .colab-df-convert:hover {\n",
              "      background-color: #434B5C;\n",
              "      box-shadow: 0px 1px 3px 1px rgba(0, 0, 0, 0.15);\n",
              "      filter: drop-shadow(0px 1px 2px rgba(0, 0, 0, 0.3));\n",
              "      fill: #FFFFFF;\n",
              "    }\n",
              "  </style>\n",
              "\n",
              "      <script>\n",
              "        const buttonEl =\n",
              "          document.querySelector('#df-dc25aa02-92f4-4e6f-b24e-32293478ecd2 button.colab-df-convert');\n",
              "        buttonEl.style.display =\n",
              "          google.colab.kernel.accessAllowed ? 'block' : 'none';\n",
              "\n",
              "        async function convertToInteractive(key) {\n",
              "          const element = document.querySelector('#df-dc25aa02-92f4-4e6f-b24e-32293478ecd2');\n",
              "          const dataTable =\n",
              "            await google.colab.kernel.invokeFunction('convertToInteractive',\n",
              "                                                     [key], {});\n",
              "          if (!dataTable) return;\n",
              "\n",
              "          const docLinkHtml = 'Like what you see? Visit the ' +\n",
              "            '<a target=\"_blank\" href=https://colab.research.google.com/notebooks/data_table.ipynb>data table notebook</a>'\n",
              "            + ' to learn more about interactive tables.';\n",
              "          element.innerHTML = '';\n",
              "          dataTable['output_type'] = 'display_data';\n",
              "          await google.colab.output.renderOutput(dataTable, element);\n",
              "          const docLink = document.createElement('div');\n",
              "          docLink.innerHTML = docLinkHtml;\n",
              "          element.appendChild(docLink);\n",
              "        }\n",
              "      </script>\n",
              "    </div>\n",
              "  </div>\n",
              "  "
            ],
            "text/plain": [
              "     Credit_History  ApplicantIncome  ...  Property_Area  Loan_Amount_Term(in years)\n",
              "0                 1         0.070489  ...              0                          30\n",
              "1                 1         0.054830  ...              1                          30\n",
              "2                 1         0.035250  ...              0                          30\n",
              "3                 1         0.030093  ...              0                          30\n",
              "4                 1         0.072356  ...              0                          30\n",
              "..              ...              ...  ...            ...                         ...\n",
              "609               1         0.034014  ...              1                          30\n",
              "610               1         0.048930  ...              1                          15\n",
              "611               1         0.097984  ...              0                          30\n",
              "612               1         0.091936  ...              0                          30\n",
              "613               0         0.054830  ...              2                          30\n",
              "\n",
              "[614 rows x 7 columns]"
            ]
          },
          "metadata": {},
          "execution_count": 179
        }
      ],
      "source": [
        "# Creating a new X with top 7 features\n",
        "new_X = df[list(important_features.nlargest(7).index)]\n",
        "new_X"
      ]
    },
    {
      "cell_type": "code",
      "source": [
        "# Creating a new_df_test with top 7 features (same as training dataset)\n",
        "new_df_test = df_test[list(important_features.nlargest(7).index)]"
      ],
      "metadata": {
        "id": "QS7BJJqWCyPe"
      },
      "execution_count": null,
      "outputs": []
    },
    {
      "cell_type": "markdown",
      "metadata": {
        "id": "kpYXhz-O3Gsg"
      },
      "source": [
        "# **SPLITTING THE DATA TO TRAINING AND TESTING DATASETS**"
      ]
    },
    {
      "cell_type": "code",
      "execution_count": null,
      "metadata": {
        "id": "AsszGVwD3Wv7"
      },
      "outputs": [],
      "source": [
        "# Splitting the data using train_test_split\n",
        "X_train, X_test, Y_train, Y_test = train_test_split(new_X, Y, test_size = 0.20, random_state = 42)"
      ]
    },
    {
      "cell_type": "code",
      "execution_count": null,
      "metadata": {
        "colab": {
          "base_uri": "https://localhost:8080/"
        },
        "id": "BJWGMsc23W6v",
        "outputId": "610a1233-d891-40b7-98ab-8afd40a76a31"
      },
      "outputs": [
        {
          "output_type": "stream",
          "name": "stdout",
          "text": [
            "491\n",
            "123\n",
            "491\n",
            "123\n"
          ]
        }
      ],
      "source": [
        "print(len(X_train))\n",
        "print(len(X_test))\n",
        "print(len(Y_train))\n",
        "print(len(Y_test))"
      ]
    },
    {
      "cell_type": "markdown",
      "metadata": {
        "id": "enIUFR1_Hp3A"
      },
      "source": [
        "# **CHOOSING AN APPROPIATE MODEL**"
      ]
    },
    {
      "cell_type": "markdown",
      "metadata": {
        "id": "aaAuaXFSH2iM"
      },
      "source": [
        "* **MODEL 1 - RANDOM FOREST CALSSIFIER**\n",
        "\n",
        "A random forest is a meta estimator that fits a number of decision tree classifiers on various sub-samples of the dataset and uses averaging to improve the predictive accuracy and control over-fitting\n",
        "\n"
      ]
    },
    {
      "cell_type": "code",
      "execution_count": null,
      "metadata": {
        "id": "hRF-DcuASRCc"
      },
      "outputs": [],
      "source": [
        "# Instantiating RandomForestClassifier\n",
        "model1 = RandomForestClassifier() "
      ]
    },
    {
      "cell_type": "markdown",
      "metadata": {
        "id": "bu6M7PcyJgDa"
      },
      "source": [
        "**Performing the Hyperparameter Tuning to get the best parametric value for the model using RandomisezSeacrhCV**"
      ]
    },
    {
      "cell_type": "code",
      "execution_count": null,
      "metadata": {
        "id": "pDqxVjAUGgEg"
      },
      "outputs": [],
      "source": [
        "# Number of trees in a Random Forest\n",
        "n_estimators = [i for i in range(100, 1300, 100)]\n",
        "\n",
        "# The number of features to consider when looking for the best split:\n",
        "max_features = ['auto', 'log2']\n",
        "\n",
        "# The maximum depth of the tree\n",
        "max_depth = [i for i in np.linspace(start = 5, stop = 40, num = 6)]\n",
        "\n",
        "# The minimum number of samples required to split an internal node:\n",
        "min_samples_split = [2,10,15,25,50,100]\n",
        "\n",
        "# The minimum number of samples required to be at a leaf node\n",
        "min_samples_leaf = [1,5,10,15]\\\n",
        "\n",
        "# The function to measure the quality of a split\n",
        "criterion = ['gini', 'entropy']\n"
      ]
    },
    {
      "cell_type": "code",
      "execution_count": null,
      "metadata": {
        "id": "JRLNQgbhKqzZ"
      },
      "outputs": [],
      "source": [
        "# Creating a hyperparameter grid\n",
        "random_grid = {\n",
        "    'n_estimators':n_estimators,\n",
        "    'max_features':max_features,\n",
        "    'max_depth': max_depth,\n",
        "    'min_samples_split':min_samples_split,\n",
        "    'min_samples_leaf':min_samples_leaf, \n",
        "    'criterion':criterion\n",
        "}"
      ]
    },
    {
      "cell_type": "code",
      "execution_count": null,
      "metadata": {
        "id": "cwG1M6GaN6es"
      },
      "outputs": [],
      "source": [
        "# Instantiating RandomizedSearchCV object\n",
        "rf_random = RandomizedSearchCV(estimator = model1,\n",
        "                               param_distributions = random_grid,\n",
        "                               scoring = 'accuracy',\n",
        "                               n_jobs = 1,\n",
        "                               random_state = 42,\n",
        "                               verbose = 2,\n",
        "                               cv = 5)"
      ]
    },
    {
      "cell_type": "markdown",
      "metadata": {
        "id": "UeNrPPLXXzcr"
      },
      "source": [
        "* **Training the Model**"
      ]
    },
    {
      "cell_type": "code",
      "execution_count": null,
      "metadata": {
        "colab": {
          "base_uri": "https://localhost:8080/"
        },
        "id": "zIzAMEmEVzaQ",
        "outputId": "1f68b0a9-a0b7-4a41-f583-28b39d02bac1"
      },
      "outputs": [
        {
          "output_type": "stream",
          "name": "stdout",
          "text": [
            "Fitting 5 folds for each of 10 candidates, totalling 50 fits\n",
            "[CV] END criterion=gini, max_depth=12.0, max_features=auto, min_samples_leaf=15, min_samples_split=100, n_estimators=900; total time=   1.5s\n",
            "[CV] END criterion=gini, max_depth=12.0, max_features=auto, min_samples_leaf=15, min_samples_split=100, n_estimators=900; total time=   1.4s\n",
            "[CV] END criterion=gini, max_depth=12.0, max_features=auto, min_samples_leaf=15, min_samples_split=100, n_estimators=900; total time=   1.4s\n",
            "[CV] END criterion=gini, max_depth=12.0, max_features=auto, min_samples_leaf=15, min_samples_split=100, n_estimators=900; total time=   1.4s\n",
            "[CV] END criterion=gini, max_depth=12.0, max_features=auto, min_samples_leaf=15, min_samples_split=100, n_estimators=900; total time=   1.4s\n",
            "[CV] END criterion=entropy, max_depth=26.0, max_features=auto, min_samples_leaf=10, min_samples_split=100, n_estimators=300; total time=   0.5s\n",
            "[CV] END criterion=entropy, max_depth=26.0, max_features=auto, min_samples_leaf=10, min_samples_split=100, n_estimators=300; total time=   0.5s\n",
            "[CV] END criterion=entropy, max_depth=26.0, max_features=auto, min_samples_leaf=10, min_samples_split=100, n_estimators=300; total time=   0.5s\n",
            "[CV] END criterion=entropy, max_depth=26.0, max_features=auto, min_samples_leaf=10, min_samples_split=100, n_estimators=300; total time=   0.5s\n",
            "[CV] END criterion=entropy, max_depth=26.0, max_features=auto, min_samples_leaf=10, min_samples_split=100, n_estimators=300; total time=   0.5s\n",
            "[CV] END criterion=entropy, max_depth=26.0, max_features=auto, min_samples_leaf=1, min_samples_split=25, n_estimators=700; total time=   1.2s\n",
            "[CV] END criterion=entropy, max_depth=26.0, max_features=auto, min_samples_leaf=1, min_samples_split=25, n_estimators=700; total time=   1.2s\n",
            "[CV] END criterion=entropy, max_depth=26.0, max_features=auto, min_samples_leaf=1, min_samples_split=25, n_estimators=700; total time=   1.3s\n",
            "[CV] END criterion=entropy, max_depth=26.0, max_features=auto, min_samples_leaf=1, min_samples_split=25, n_estimators=700; total time=   1.3s\n",
            "[CV] END criterion=entropy, max_depth=26.0, max_features=auto, min_samples_leaf=1, min_samples_split=25, n_estimators=700; total time=   1.3s\n",
            "[CV] END criterion=entropy, max_depth=26.0, max_features=auto, min_samples_leaf=1, min_samples_split=2, n_estimators=800; total time=   1.6s\n",
            "[CV] END criterion=entropy, max_depth=26.0, max_features=auto, min_samples_leaf=1, min_samples_split=2, n_estimators=800; total time=   1.6s\n",
            "[CV] END criterion=entropy, max_depth=26.0, max_features=auto, min_samples_leaf=1, min_samples_split=2, n_estimators=800; total time=   1.5s\n",
            "[CV] END criterion=entropy, max_depth=26.0, max_features=auto, min_samples_leaf=1, min_samples_split=2, n_estimators=800; total time=   1.6s\n",
            "[CV] END criterion=entropy, max_depth=26.0, max_features=auto, min_samples_leaf=1, min_samples_split=2, n_estimators=800; total time=   1.5s\n",
            "[CV] END criterion=entropy, max_depth=5.0, max_features=log2, min_samples_leaf=1, min_samples_split=15, n_estimators=500; total time=   0.9s\n",
            "[CV] END criterion=entropy, max_depth=5.0, max_features=log2, min_samples_leaf=1, min_samples_split=15, n_estimators=500; total time=   0.8s\n",
            "[CV] END criterion=entropy, max_depth=5.0, max_features=log2, min_samples_leaf=1, min_samples_split=15, n_estimators=500; total time=   0.9s\n",
            "[CV] END criterion=entropy, max_depth=5.0, max_features=log2, min_samples_leaf=1, min_samples_split=15, n_estimators=500; total time=   0.9s\n",
            "[CV] END criterion=entropy, max_depth=5.0, max_features=log2, min_samples_leaf=1, min_samples_split=15, n_estimators=500; total time=   0.8s\n",
            "[CV] END criterion=gini, max_depth=40.0, max_features=auto, min_samples_leaf=10, min_samples_split=100, n_estimators=900; total time=   1.4s\n",
            "[CV] END criterion=gini, max_depth=40.0, max_features=auto, min_samples_leaf=10, min_samples_split=100, n_estimators=900; total time=   1.4s\n",
            "[CV] END criterion=gini, max_depth=40.0, max_features=auto, min_samples_leaf=10, min_samples_split=100, n_estimators=900; total time=   1.4s\n",
            "[CV] END criterion=gini, max_depth=40.0, max_features=auto, min_samples_leaf=10, min_samples_split=100, n_estimators=900; total time=   1.4s\n",
            "[CV] END criterion=gini, max_depth=40.0, max_features=auto, min_samples_leaf=10, min_samples_split=100, n_estimators=900; total time=   1.4s\n",
            "[CV] END criterion=entropy, max_depth=26.0, max_features=log2, min_samples_leaf=15, min_samples_split=25, n_estimators=1100; total time=   1.8s\n",
            "[CV] END criterion=entropy, max_depth=26.0, max_features=log2, min_samples_leaf=15, min_samples_split=25, n_estimators=1100; total time=   1.8s\n",
            "[CV] END criterion=entropy, max_depth=26.0, max_features=log2, min_samples_leaf=15, min_samples_split=25, n_estimators=1100; total time=   1.8s\n",
            "[CV] END criterion=entropy, max_depth=26.0, max_features=log2, min_samples_leaf=15, min_samples_split=25, n_estimators=1100; total time=   2.4s\n",
            "[CV] END criterion=entropy, max_depth=26.0, max_features=log2, min_samples_leaf=15, min_samples_split=25, n_estimators=1100; total time=   1.8s\n",
            "[CV] END criterion=entropy, max_depth=33.0, max_features=log2, min_samples_leaf=15, min_samples_split=2, n_estimators=200; total time=   0.3s\n",
            "[CV] END criterion=entropy, max_depth=33.0, max_features=log2, min_samples_leaf=15, min_samples_split=2, n_estimators=200; total time=   0.3s\n",
            "[CV] END criterion=entropy, max_depth=33.0, max_features=log2, min_samples_leaf=15, min_samples_split=2, n_estimators=200; total time=   0.3s\n",
            "[CV] END criterion=entropy, max_depth=33.0, max_features=log2, min_samples_leaf=15, min_samples_split=2, n_estimators=200; total time=   0.3s\n",
            "[CV] END criterion=entropy, max_depth=33.0, max_features=log2, min_samples_leaf=15, min_samples_split=2, n_estimators=200; total time=   0.3s\n",
            "[CV] END criterion=gini, max_depth=5.0, max_features=log2, min_samples_leaf=10, min_samples_split=15, n_estimators=1100; total time=   1.8s\n",
            "[CV] END criterion=gini, max_depth=5.0, max_features=log2, min_samples_leaf=10, min_samples_split=15, n_estimators=1100; total time=   1.8s\n",
            "[CV] END criterion=gini, max_depth=5.0, max_features=log2, min_samples_leaf=10, min_samples_split=15, n_estimators=1100; total time=   1.8s\n",
            "[CV] END criterion=gini, max_depth=5.0, max_features=log2, min_samples_leaf=10, min_samples_split=15, n_estimators=1100; total time=   1.8s\n",
            "[CV] END criterion=gini, max_depth=5.0, max_features=log2, min_samples_leaf=10, min_samples_split=15, n_estimators=1100; total time=   1.8s\n",
            "[CV] END criterion=entropy, max_depth=26.0, max_features=auto, min_samples_leaf=10, min_samples_split=2, n_estimators=700; total time=   1.2s\n",
            "[CV] END criterion=entropy, max_depth=26.0, max_features=auto, min_samples_leaf=10, min_samples_split=2, n_estimators=700; total time=   1.3s\n",
            "[CV] END criterion=entropy, max_depth=26.0, max_features=auto, min_samples_leaf=10, min_samples_split=2, n_estimators=700; total time=   1.2s\n",
            "[CV] END criterion=entropy, max_depth=26.0, max_features=auto, min_samples_leaf=10, min_samples_split=2, n_estimators=700; total time=   2.1s\n",
            "[CV] END criterion=entropy, max_depth=26.0, max_features=auto, min_samples_leaf=10, min_samples_split=2, n_estimators=700; total time=   4.1s\n"
          ]
        },
        {
          "output_type": "execute_result",
          "data": {
            "text/plain": [
              "RandomizedSearchCV(cv=5, estimator=RandomForestClassifier(), n_jobs=1,\n",
              "                   param_distributions={'criterion': ['gini', 'entropy'],\n",
              "                                        'max_depth': [5.0, 12.0, 19.0, 26.0,\n",
              "                                                      33.0, 40.0],\n",
              "                                        'max_features': ['auto', 'log2'],\n",
              "                                        'min_samples_leaf': [1, 5, 10, 15],\n",
              "                                        'min_samples_split': [2, 10, 15, 25, 50,\n",
              "                                                              100],\n",
              "                                        'n_estimators': [100, 200, 300, 400,\n",
              "                                                         500, 600, 700, 800,\n",
              "                                                         900, 1000, 1100,\n",
              "                                                         1200]},\n",
              "                   random_state=42, scoring='accuracy', verbose=2)"
            ]
          },
          "metadata": {},
          "execution_count": 187
        }
      ],
      "source": [
        "# Fit the model\n",
        "rf_random.fit(X_train, Y_train)"
      ]
    },
    {
      "cell_type": "code",
      "execution_count": null,
      "metadata": {
        "colab": {
          "base_uri": "https://localhost:8080/"
        },
        "id": "GuTfCT3UVImG",
        "outputId": "21b9c375-ac0e-4854-baf3-3e589df98754"
      },
      "outputs": [
        {
          "output_type": "execute_result",
          "data": {
            "text/plain": [
              "{'criterion': 'entropy',\n",
              " 'max_depth': 26.0,\n",
              " 'max_features': 'auto',\n",
              " 'min_samples_leaf': 10,\n",
              " 'min_samples_split': 100,\n",
              " 'n_estimators': 300}"
            ]
          },
          "metadata": {},
          "execution_count": 188
        }
      ],
      "source": [
        "# Returns the best parameters.\n",
        "rf_random.best_params_"
      ]
    },
    {
      "cell_type": "markdown",
      "metadata": {
        "id": "xiqImLESYQub"
      },
      "source": [
        "* **Testing the Model**"
      ]
    },
    {
      "cell_type": "code",
      "execution_count": null,
      "metadata": {
        "id": "xTGcgjdEYPxG"
      },
      "outputs": [],
      "source": [
        "# Predicting the values of target variable on X_test \n",
        "Y_pred = rf_random.predict(X_test)"
      ]
    },
    {
      "cell_type": "code",
      "execution_count": null,
      "metadata": {
        "colab": {
          "base_uri": "https://localhost:8080/"
        },
        "id": "7BYL1pX266b2",
        "outputId": "752653c2-9eab-43a3-e865-3cc68ae12b39"
      },
      "outputs": [
        {
          "output_type": "execute_result",
          "data": {
            "text/html": [
              "\n",
              "  <div id=\"df-2a0234de-320c-43cc-9ff5-19f5d0112d3c\">\n",
              "    <div class=\"colab-df-container\">\n",
              "      <div>\n",
              "<style scoped>\n",
              "    .dataframe tbody tr th:only-of-type {\n",
              "        vertical-align: middle;\n",
              "    }\n",
              "\n",
              "    .dataframe tbody tr th {\n",
              "        vertical-align: top;\n",
              "    }\n",
              "\n",
              "    .dataframe thead th {\n",
              "        text-align: right;\n",
              "    }\n",
              "</style>\n",
              "<table border=\"1\" class=\"dataframe\">\n",
              "  <thead>\n",
              "    <tr style=\"text-align: right;\">\n",
              "      <th></th>\n",
              "      <th>Actual</th>\n",
              "      <th>Predicted</th>\n",
              "    </tr>\n",
              "  </thead>\n",
              "  <tbody>\n",
              "    <tr>\n",
              "      <th>350</th>\n",
              "      <td>1</td>\n",
              "      <td>1</td>\n",
              "    </tr>\n",
              "    <tr>\n",
              "      <th>377</th>\n",
              "      <td>1</td>\n",
              "      <td>1</td>\n",
              "    </tr>\n",
              "    <tr>\n",
              "      <th>163</th>\n",
              "      <td>1</td>\n",
              "      <td>1</td>\n",
              "    </tr>\n",
              "    <tr>\n",
              "      <th>609</th>\n",
              "      <td>1</td>\n",
              "      <td>1</td>\n",
              "    </tr>\n",
              "    <tr>\n",
              "      <th>132</th>\n",
              "      <td>1</td>\n",
              "      <td>1</td>\n",
              "    </tr>\n",
              "    <tr>\n",
              "      <th>...</th>\n",
              "      <td>...</td>\n",
              "      <td>...</td>\n",
              "    </tr>\n",
              "    <tr>\n",
              "      <th>231</th>\n",
              "      <td>1</td>\n",
              "      <td>1</td>\n",
              "    </tr>\n",
              "    <tr>\n",
              "      <th>312</th>\n",
              "      <td>1</td>\n",
              "      <td>1</td>\n",
              "    </tr>\n",
              "    <tr>\n",
              "      <th>248</th>\n",
              "      <td>1</td>\n",
              "      <td>1</td>\n",
              "    </tr>\n",
              "    <tr>\n",
              "      <th>11</th>\n",
              "      <td>1</td>\n",
              "      <td>1</td>\n",
              "    </tr>\n",
              "    <tr>\n",
              "      <th>333</th>\n",
              "      <td>1</td>\n",
              "      <td>1</td>\n",
              "    </tr>\n",
              "  </tbody>\n",
              "</table>\n",
              "<p>123 rows × 2 columns</p>\n",
              "</div>\n",
              "      <button class=\"colab-df-convert\" onclick=\"convertToInteractive('df-2a0234de-320c-43cc-9ff5-19f5d0112d3c')\"\n",
              "              title=\"Convert this dataframe to an interactive table.\"\n",
              "              style=\"display:none;\">\n",
              "        \n",
              "  <svg xmlns=\"http://www.w3.org/2000/svg\" height=\"24px\"viewBox=\"0 0 24 24\"\n",
              "       width=\"24px\">\n",
              "    <path d=\"M0 0h24v24H0V0z\" fill=\"none\"/>\n",
              "    <path d=\"M18.56 5.44l.94 2.06.94-2.06 2.06-.94-2.06-.94-.94-2.06-.94 2.06-2.06.94zm-11 1L8.5 8.5l.94-2.06 2.06-.94-2.06-.94L8.5 2.5l-.94 2.06-2.06.94zm10 10l.94 2.06.94-2.06 2.06-.94-2.06-.94-.94-2.06-.94 2.06-2.06.94z\"/><path d=\"M17.41 7.96l-1.37-1.37c-.4-.4-.92-.59-1.43-.59-.52 0-1.04.2-1.43.59L10.3 9.45l-7.72 7.72c-.78.78-.78 2.05 0 2.83L4 21.41c.39.39.9.59 1.41.59.51 0 1.02-.2 1.41-.59l7.78-7.78 2.81-2.81c.8-.78.8-2.07 0-2.86zM5.41 20L4 18.59l7.72-7.72 1.47 1.35L5.41 20z\"/>\n",
              "  </svg>\n",
              "      </button>\n",
              "      \n",
              "  <style>\n",
              "    .colab-df-container {\n",
              "      display:flex;\n",
              "      flex-wrap:wrap;\n",
              "      gap: 12px;\n",
              "    }\n",
              "\n",
              "    .colab-df-convert {\n",
              "      background-color: #E8F0FE;\n",
              "      border: none;\n",
              "      border-radius: 50%;\n",
              "      cursor: pointer;\n",
              "      display: none;\n",
              "      fill: #1967D2;\n",
              "      height: 32px;\n",
              "      padding: 0 0 0 0;\n",
              "      width: 32px;\n",
              "    }\n",
              "\n",
              "    .colab-df-convert:hover {\n",
              "      background-color: #E2EBFA;\n",
              "      box-shadow: 0px 1px 2px rgba(60, 64, 67, 0.3), 0px 1px 3px 1px rgba(60, 64, 67, 0.15);\n",
              "      fill: #174EA6;\n",
              "    }\n",
              "\n",
              "    [theme=dark] .colab-df-convert {\n",
              "      background-color: #3B4455;\n",
              "      fill: #D2E3FC;\n",
              "    }\n",
              "\n",
              "    [theme=dark] .colab-df-convert:hover {\n",
              "      background-color: #434B5C;\n",
              "      box-shadow: 0px 1px 3px 1px rgba(0, 0, 0, 0.15);\n",
              "      filter: drop-shadow(0px 1px 2px rgba(0, 0, 0, 0.3));\n",
              "      fill: #FFFFFF;\n",
              "    }\n",
              "  </style>\n",
              "\n",
              "      <script>\n",
              "        const buttonEl =\n",
              "          document.querySelector('#df-2a0234de-320c-43cc-9ff5-19f5d0112d3c button.colab-df-convert');\n",
              "        buttonEl.style.display =\n",
              "          google.colab.kernel.accessAllowed ? 'block' : 'none';\n",
              "\n",
              "        async function convertToInteractive(key) {\n",
              "          const element = document.querySelector('#df-2a0234de-320c-43cc-9ff5-19f5d0112d3c');\n",
              "          const dataTable =\n",
              "            await google.colab.kernel.invokeFunction('convertToInteractive',\n",
              "                                                     [key], {});\n",
              "          if (!dataTable) return;\n",
              "\n",
              "          const docLinkHtml = 'Like what you see? Visit the ' +\n",
              "            '<a target=\"_blank\" href=https://colab.research.google.com/notebooks/data_table.ipynb>data table notebook</a>'\n",
              "            + ' to learn more about interactive tables.';\n",
              "          element.innerHTML = '';\n",
              "          dataTable['output_type'] = 'display_data';\n",
              "          await google.colab.output.renderOutput(dataTable, element);\n",
              "          const docLink = document.createElement('div');\n",
              "          docLink.innerHTML = docLinkHtml;\n",
              "          element.appendChild(docLink);\n",
              "        }\n",
              "      </script>\n",
              "    </div>\n",
              "  </div>\n",
              "  "
            ],
            "text/plain": [
              "     Actual  Predicted\n",
              "350       1          1\n",
              "377       1          1\n",
              "163       1          1\n",
              "609       1          1\n",
              "132       1          1\n",
              "..      ...        ...\n",
              "231       1          1\n",
              "312       1          1\n",
              "248       1          1\n",
              "11        1          1\n",
              "333       1          1\n",
              "\n",
              "[123 rows x 2 columns]"
            ]
          },
          "metadata": {},
          "execution_count": 190
        }
      ],
      "source": [
        "# Comparing actual results with predicted results \n",
        "final = pd.DataFrame({'Actual': Y_test, 'Predicted': Y_pred})\n",
        "final"
      ]
    },
    {
      "cell_type": "markdown",
      "metadata": {
        "id": "mJ_LnciiAGwJ"
      },
      "source": [
        "* **Checking the Performance/accuracy**"
      ]
    },
    {
      "cell_type": "code",
      "execution_count": null,
      "metadata": {
        "colab": {
          "base_uri": "https://localhost:8080/"
        },
        "id": "3iZVDcZS8e3H",
        "outputId": "cc4ade6c-952c-4d55-dec6-6c62a30b31b5"
      },
      "outputs": [
        {
          "output_type": "execute_result",
          "data": {
            "text/plain": [
              "array([[18, 25],\n",
              "       [ 1, 79]])"
            ]
          },
          "metadata": {},
          "execution_count": 191
        }
      ],
      "source": [
        "# Check the accuracy using confusion_matrix\n",
        "confusion_matrix(Y_test, Y_pred)"
      ]
    },
    {
      "cell_type": "code",
      "execution_count": null,
      "metadata": {
        "colab": {
          "base_uri": "https://localhost:8080/"
        },
        "id": "0cZEqW1dAWgh",
        "outputId": "6e050a9d-19dd-484a-c088-0aa63f62e7dd"
      },
      "outputs": [
        {
          "output_type": "execute_result",
          "data": {
            "text/plain": [
              "0.7886178861788617"
            ]
          },
          "metadata": {},
          "execution_count": 192
        }
      ],
      "source": [
        "# Calculating accuracy -> by dividing the sum of diagonal elements with the sum of all the elements of confusion_matrix\n",
        "accuracy = (18+79)/(18+25+1+79)\n",
        "accuracy"
      ]
    },
    {
      "cell_type": "code",
      "execution_count": null,
      "metadata": {
        "colab": {
          "base_uri": "https://localhost:8080/"
        },
        "id": "iEq0SvNKAwrD",
        "outputId": "f0d2310f-fdb8-492d-c1a1-62241321a4f1"
      },
      "outputs": [
        {
          "output_type": "execute_result",
          "data": {
            "application/vnd.google.colaboratory.intrinsic+json": {
              "type": "string"
            },
            "text/plain": [
              "'              precision    recall  f1-score   support\\n\\n           0       0.95      0.42      0.58        43\\n           1       0.76      0.99      0.86        80\\n\\n    accuracy                           0.79       123\\n   macro avg       0.85      0.70      0.72       123\\nweighted avg       0.83      0.79      0.76       123\\n'"
            ]
          },
          "metadata": {},
          "execution_count": 193
        }
      ],
      "source": [
        "# Check the accuracy using classification_report\n",
        "classification_report(Y_test, Y_pred)\n"
      ]
    },
    {
      "cell_type": "markdown",
      "metadata": {
        "id": "z8cevPS_BKkR"
      },
      "source": [
        "              precision    recall  f1-score   support\n",
        "\n",
        "           0       0.95      0.42      0.58        43\n",
        "           1       0.76      0.99      0.86        80\n",
        "    accuracy                           0.79       123\n",
        "\n",
        "   macro avg       0.85      0.70      0.72       123\n",
        "weighted avg       0.83      0.79      0.76       123\n"
      ]
    },
    {
      "cell_type": "markdown",
      "metadata": {
        "id": "3lWIqqOvBgQ4"
      },
      "source": [
        "* **Conclusion:**\n",
        "1. We get Accuracy = 0.79 using both confusion_matrix and classification_report. \n",
        "2. It says that the our model will predict correctly 79% of the time. "
      ]
    },
    {
      "cell_type": "markdown",
      "metadata": {
        "id": "fvk9gmX3CHsS"
      },
      "source": [
        "* **MODEL 2 - DECISION TREE CLASSIFIER**\n",
        "\n",
        "Decision Tree is a Supervised Machine Learning Algorithm that uses a set of rules to make decisions, similarly to how humans make decisions. "
      ]
    },
    {
      "cell_type": "code",
      "execution_count": null,
      "metadata": {
        "id": "2s5364W2B4-n"
      },
      "outputs": [],
      "source": [
        "# Instantiating DecisionTreeClassifier\n",
        "model2 = DecisionTreeClassifier()"
      ]
    },
    {
      "cell_type": "markdown",
      "metadata": {
        "id": "pdfKqUozHqJz"
      },
      "source": [
        "* **Training the Model**"
      ]
    },
    {
      "cell_type": "code",
      "execution_count": null,
      "metadata": {
        "colab": {
          "base_uri": "https://localhost:8080/"
        },
        "id": "oOyBDmlkC_PC",
        "outputId": "d32387e0-a0bc-4edc-9388-0acc983aa740"
      },
      "outputs": [
        {
          "output_type": "execute_result",
          "data": {
            "text/plain": [
              "DecisionTreeClassifier()"
            ]
          },
          "metadata": {},
          "execution_count": 195
        }
      ],
      "source": [
        "# Fitting the model\n",
        "model2.fit(X_train, Y_train)"
      ]
    },
    {
      "cell_type": "markdown",
      "metadata": {
        "id": "VGETO80IHfOY"
      },
      "source": [
        "* **Testing the Model**"
      ]
    },
    {
      "cell_type": "code",
      "execution_count": null,
      "metadata": {
        "id": "NpaCMjIwDG7l"
      },
      "outputs": [],
      "source": [
        "# Predicting the values of X_test\n",
        "Y_pred2 = model2.predict(X_test)"
      ]
    },
    {
      "cell_type": "markdown",
      "metadata": {
        "id": "80xgRN_4HWCi"
      },
      "source": [
        "* **Checking the Performance/accuracy**"
      ]
    },
    {
      "cell_type": "code",
      "execution_count": null,
      "metadata": {
        "colab": {
          "base_uri": "https://localhost:8080/"
        },
        "id": "o8BGOn2vDpCw",
        "outputId": "318d61bf-489e-4cfc-e4d2-bcb0f443bf37"
      },
      "outputs": [
        {
          "output_type": "execute_result",
          "data": {
            "text/plain": [
              "array([[23, 20],\n",
              "       [13, 67]])"
            ]
          },
          "metadata": {},
          "execution_count": 197
        }
      ],
      "source": [
        "# Check the accuracy using confusion_matrix\n",
        "confusion_matrix(Y_test, Y_pred2)"
      ]
    },
    {
      "cell_type": "code",
      "execution_count": null,
      "metadata": {
        "colab": {
          "base_uri": "https://localhost:8080/"
        },
        "id": "elJqp5QID24A",
        "outputId": "a2b96852-4051-4d1d-d321-4830730f625f"
      },
      "outputs": [
        {
          "output_type": "execute_result",
          "data": {
            "text/plain": [
              "0.7235772357723578"
            ]
          },
          "metadata": {},
          "execution_count": 198
        }
      ],
      "source": [
        "# Calculating accuracy -> by dividing the sum of diagonal elements with the sum of all the elements of confusion_matrix\n",
        "accuracy = (21+68)/(21+22+12+68)\n",
        "accuracy"
      ]
    },
    {
      "cell_type": "code",
      "execution_count": null,
      "metadata": {
        "colab": {
          "base_uri": "https://localhost:8080/"
        },
        "id": "wXiRRvyvEtj8",
        "outputId": "8e3bf880-fe09-409c-8ae4-df10769bed77"
      },
      "outputs": [
        {
          "output_type": "execute_result",
          "data": {
            "application/vnd.google.colaboratory.intrinsic+json": {
              "type": "string"
            },
            "text/plain": [
              "'              precision    recall  f1-score   support\\n\\n           0       0.64      0.53      0.58        43\\n           1       0.77      0.84      0.80        80\\n\\n    accuracy                           0.73       123\\n   macro avg       0.70      0.69      0.69       123\\nweighted avg       0.72      0.73      0.73       123\\n'"
            ]
          },
          "metadata": {},
          "execution_count": 199
        }
      ],
      "source": [
        "# Check the accuracy using classification_report\n",
        "classification_report(Y_test, Y_pred2)"
      ]
    },
    {
      "cell_type": "markdown",
      "metadata": {
        "id": "sG0WfJpGEjoW"
      },
      "source": [
        "* **Conclusion:**\n",
        "1. We get Accuracy = 0.72 using both confusion_matrix and classification_report.\n",
        "2. It says that the our model will predict correctly 72% of the time."
      ]
    },
    {
      "cell_type": "markdown",
      "metadata": {
        "id": "-eS0CPfPE4Te"
      },
      "source": [
        "* **MODEL 3 - LOGISTIC REGRESSION**\n",
        "\n",
        "Logistic regression, despite its name, is a linear model for classification rather than regression. In this model, the probabilities describing the possible outcomes of a single trial are modeled using a sigmoid function."
      ]
    },
    {
      "cell_type": "code",
      "execution_count": null,
      "metadata": {
        "id": "39CdGi70D84Y"
      },
      "outputs": [],
      "source": [
        "# Instantiating LogisticRegression\n",
        "model3 = LogisticRegression()"
      ]
    },
    {
      "cell_type": "markdown",
      "metadata": {
        "id": "Lj3h2OlUHsQK"
      },
      "source": [
        "* **Training the Model**"
      ]
    },
    {
      "cell_type": "code",
      "execution_count": null,
      "metadata": {
        "colab": {
          "base_uri": "https://localhost:8080/"
        },
        "id": "vhtTYTTIFjQ5",
        "outputId": "e9ee1d3e-b235-4599-8ff8-18685f76901c"
      },
      "outputs": [
        {
          "output_type": "execute_result",
          "data": {
            "text/plain": [
              "LogisticRegression()"
            ]
          },
          "metadata": {},
          "execution_count": 201
        }
      ],
      "source": [
        "# Fitting the model\n",
        "model3.fit(X_train, Y_train)"
      ]
    },
    {
      "cell_type": "markdown",
      "metadata": {
        "id": "X5pY3Ar5HjUm"
      },
      "source": [
        "* **Testing the Model**"
      ]
    },
    {
      "cell_type": "code",
      "execution_count": null,
      "metadata": {
        "id": "CpJTzjDXF0po"
      },
      "outputs": [],
      "source": [
        "# Predicting the values of X_test\n",
        "Y_pred3 = model2.predict(X_test)"
      ]
    },
    {
      "cell_type": "markdown",
      "metadata": {
        "id": "WN62Os8mHYQ5"
      },
      "source": [
        "* **Checking the Performance/accuracy**"
      ]
    },
    {
      "cell_type": "code",
      "execution_count": null,
      "metadata": {
        "colab": {
          "base_uri": "https://localhost:8080/"
        },
        "id": "yMEkR2N4GFur",
        "outputId": "b569f4be-4c39-4c49-bb45-c52abf99e6f2"
      },
      "outputs": [
        {
          "output_type": "execute_result",
          "data": {
            "text/plain": [
              "array([[23, 20],\n",
              "       [13, 67]])"
            ]
          },
          "metadata": {},
          "execution_count": 203
        }
      ],
      "source": [
        "# Check the accuracy using confusion_matrix\n",
        "confusion_matrix(Y_test, Y_pred3)"
      ]
    },
    {
      "cell_type": "code",
      "execution_count": null,
      "metadata": {
        "colab": {
          "base_uri": "https://localhost:8080/"
        },
        "id": "cqtyvh2lGIzb",
        "outputId": "3999723e-ff99-4e2d-8333-2258139daf59"
      },
      "outputs": [
        {
          "output_type": "execute_result",
          "data": {
            "text/plain": [
              "0.7235772357723578"
            ]
          },
          "metadata": {},
          "execution_count": 204
        }
      ],
      "source": [
        "# Calculating accuracy -> by dividing the sum of diagonal elements with the sum of all the elements of confusion_matrix\n",
        "accuracy = (21+68)/(21+22+12+68)\n",
        "accuracy"
      ]
    },
    {
      "cell_type": "code",
      "execution_count": null,
      "metadata": {
        "colab": {
          "base_uri": "https://localhost:8080/",
          "height": 70
        },
        "id": "SkBBFI9MGUTJ",
        "outputId": "ee3b9e6a-ac96-46d1-e3bd-3cc2853cbba8"
      },
      "outputs": [
        {
          "output_type": "execute_result",
          "data": {
            "application/vnd.google.colaboratory.intrinsic+json": {
              "type": "string"
            },
            "text/plain": [
              "'              precision    recall  f1-score   support\\n\\n           0       0.64      0.53      0.58        43\\n           1       0.77      0.84      0.80        80\\n\\n    accuracy                           0.73       123\\n   macro avg       0.70      0.69      0.69       123\\nweighted avg       0.72      0.73      0.73       123\\n'"
            ]
          },
          "metadata": {},
          "execution_count": 205
        }
      ],
      "source": [
        "# Check the accuracy using classification_report\n",
        "classification_report(Y_test, Y_pred3)"
      ]
    },
    {
      "cell_type": "markdown",
      "metadata": {
        "id": "y5jHKYS0GlrS"
      },
      "source": [
        "* **Conclusion:**\n",
        "1. We get Accuracy = 0.72 using both confusion_matrix and classification_report.\n",
        "2. It says that the our model will predict correctly 72% of the time.\n",
        "3. LogisticRegression Confusion_matrix is very similar to DecisionTreeClassifier and hence, the accuracy of both the models are similar\n"
      ]
    },
    {
      "cell_type": "markdown",
      "metadata": {
        "id": "10Y_ItpkI0mq"
      },
      "source": [
        "# **QUESTION/ANSWERS**"
      ]
    },
    {
      "cell_type": "markdown",
      "metadata": {
        "id": "u6AkgTbFJCZB"
      },
      "source": [
        "**Q8. What all features are you going to consider for the model training and why? (Give the appropriate reason for\n",
        "choosing such features among others)**\n",
        "\n",
        "* Top 7 important features we are considering are Credit_History, ApplicantIncome, LoanAmount, CoapplicantIncome, Dependents, Property_Area, Loan_Amount_term(in years).\n",
        "* This is because in Feature Selection these features has the highest strength among all the features and helps the most in predicting the target variable."
      ]
    },
    {
      "cell_type": "markdown",
      "metadata": {
        "id": "jb489Q7GJOu3"
      },
      "source": [
        "**Q9. Which model are you going to choose and define the reason for going with the same model?**\n",
        "\n",
        "The model I chose here is RandomForestClassifier. This is because of the following resons:\n",
        "* It is a classification algorithm and classification algorithm is used when the output of the dataset is in categorical form. \n",
        "* In this dataset, the accuracy of this model is highest (= 0.79) vis-a-vis other model i.e. DecisionTreeClassifier and LogisticRegression where accuracy is 0.70 and 0.71 respectively.\n",
        "* It is highly accurate because of the multiple decision trees participating in the process.\n",
        "* It overcomes the overfitting problem."
      ]
    },
    {
      "cell_type": "markdown",
      "metadata": {
        "id": "GwYIeUTQMPxn"
      },
      "source": [
        "**Q10. Have you performed the Hyper Parameter Tuning?**\n",
        "\n",
        "Yes, the Hyper Paramter Tuning has been performed to determine the best parameters for the model. "
      ]
    },
    {
      "cell_type": "markdown",
      "metadata": {
        "id": "xpeveIodMPJI"
      },
      "source": [
        "**Q11. Compare the Actual results with the Predicted results**"
      ]
    },
    {
      "cell_type": "code",
      "execution_count": null,
      "metadata": {
        "colab": {
          "base_uri": "https://localhost:8080/",
          "height": 423
        },
        "id": "JUawLlihGxDq",
        "outputId": "8c874abd-1b82-441b-d6de-973be33bb75d"
      },
      "outputs": [
        {
          "output_type": "execute_result",
          "data": {
            "text/html": [
              "\n",
              "  <div id=\"df-4805468f-31dc-4304-bd5c-3046170af4bd\">\n",
              "    <div class=\"colab-df-container\">\n",
              "      <div>\n",
              "<style scoped>\n",
              "    .dataframe tbody tr th:only-of-type {\n",
              "        vertical-align: middle;\n",
              "    }\n",
              "\n",
              "    .dataframe tbody tr th {\n",
              "        vertical-align: top;\n",
              "    }\n",
              "\n",
              "    .dataframe thead th {\n",
              "        text-align: right;\n",
              "    }\n",
              "</style>\n",
              "<table border=\"1\" class=\"dataframe\">\n",
              "  <thead>\n",
              "    <tr style=\"text-align: right;\">\n",
              "      <th></th>\n",
              "      <th>Actual</th>\n",
              "      <th>Predicted</th>\n",
              "    </tr>\n",
              "  </thead>\n",
              "  <tbody>\n",
              "    <tr>\n",
              "      <th>350</th>\n",
              "      <td>1</td>\n",
              "      <td>1</td>\n",
              "    </tr>\n",
              "    <tr>\n",
              "      <th>377</th>\n",
              "      <td>1</td>\n",
              "      <td>1</td>\n",
              "    </tr>\n",
              "    <tr>\n",
              "      <th>163</th>\n",
              "      <td>1</td>\n",
              "      <td>1</td>\n",
              "    </tr>\n",
              "    <tr>\n",
              "      <th>609</th>\n",
              "      <td>1</td>\n",
              "      <td>1</td>\n",
              "    </tr>\n",
              "    <tr>\n",
              "      <th>132</th>\n",
              "      <td>1</td>\n",
              "      <td>1</td>\n",
              "    </tr>\n",
              "    <tr>\n",
              "      <th>...</th>\n",
              "      <td>...</td>\n",
              "      <td>...</td>\n",
              "    </tr>\n",
              "    <tr>\n",
              "      <th>231</th>\n",
              "      <td>1</td>\n",
              "      <td>1</td>\n",
              "    </tr>\n",
              "    <tr>\n",
              "      <th>312</th>\n",
              "      <td>1</td>\n",
              "      <td>1</td>\n",
              "    </tr>\n",
              "    <tr>\n",
              "      <th>248</th>\n",
              "      <td>1</td>\n",
              "      <td>1</td>\n",
              "    </tr>\n",
              "    <tr>\n",
              "      <th>11</th>\n",
              "      <td>1</td>\n",
              "      <td>1</td>\n",
              "    </tr>\n",
              "    <tr>\n",
              "      <th>333</th>\n",
              "      <td>1</td>\n",
              "      <td>1</td>\n",
              "    </tr>\n",
              "  </tbody>\n",
              "</table>\n",
              "<p>123 rows × 2 columns</p>\n",
              "</div>\n",
              "      <button class=\"colab-df-convert\" onclick=\"convertToInteractive('df-4805468f-31dc-4304-bd5c-3046170af4bd')\"\n",
              "              title=\"Convert this dataframe to an interactive table.\"\n",
              "              style=\"display:none;\">\n",
              "        \n",
              "  <svg xmlns=\"http://www.w3.org/2000/svg\" height=\"24px\"viewBox=\"0 0 24 24\"\n",
              "       width=\"24px\">\n",
              "    <path d=\"M0 0h24v24H0V0z\" fill=\"none\"/>\n",
              "    <path d=\"M18.56 5.44l.94 2.06.94-2.06 2.06-.94-2.06-.94-.94-2.06-.94 2.06-2.06.94zm-11 1L8.5 8.5l.94-2.06 2.06-.94-2.06-.94L8.5 2.5l-.94 2.06-2.06.94zm10 10l.94 2.06.94-2.06 2.06-.94-2.06-.94-.94-2.06-.94 2.06-2.06.94z\"/><path d=\"M17.41 7.96l-1.37-1.37c-.4-.4-.92-.59-1.43-.59-.52 0-1.04.2-1.43.59L10.3 9.45l-7.72 7.72c-.78.78-.78 2.05 0 2.83L4 21.41c.39.39.9.59 1.41.59.51 0 1.02-.2 1.41-.59l7.78-7.78 2.81-2.81c.8-.78.8-2.07 0-2.86zM5.41 20L4 18.59l7.72-7.72 1.47 1.35L5.41 20z\"/>\n",
              "  </svg>\n",
              "      </button>\n",
              "      \n",
              "  <style>\n",
              "    .colab-df-container {\n",
              "      display:flex;\n",
              "      flex-wrap:wrap;\n",
              "      gap: 12px;\n",
              "    }\n",
              "\n",
              "    .colab-df-convert {\n",
              "      background-color: #E8F0FE;\n",
              "      border: none;\n",
              "      border-radius: 50%;\n",
              "      cursor: pointer;\n",
              "      display: none;\n",
              "      fill: #1967D2;\n",
              "      height: 32px;\n",
              "      padding: 0 0 0 0;\n",
              "      width: 32px;\n",
              "    }\n",
              "\n",
              "    .colab-df-convert:hover {\n",
              "      background-color: #E2EBFA;\n",
              "      box-shadow: 0px 1px 2px rgba(60, 64, 67, 0.3), 0px 1px 3px 1px rgba(60, 64, 67, 0.15);\n",
              "      fill: #174EA6;\n",
              "    }\n",
              "\n",
              "    [theme=dark] .colab-df-convert {\n",
              "      background-color: #3B4455;\n",
              "      fill: #D2E3FC;\n",
              "    }\n",
              "\n",
              "    [theme=dark] .colab-df-convert:hover {\n",
              "      background-color: #434B5C;\n",
              "      box-shadow: 0px 1px 3px 1px rgba(0, 0, 0, 0.15);\n",
              "      filter: drop-shadow(0px 1px 2px rgba(0, 0, 0, 0.3));\n",
              "      fill: #FFFFFF;\n",
              "    }\n",
              "  </style>\n",
              "\n",
              "      <script>\n",
              "        const buttonEl =\n",
              "          document.querySelector('#df-4805468f-31dc-4304-bd5c-3046170af4bd button.colab-df-convert');\n",
              "        buttonEl.style.display =\n",
              "          google.colab.kernel.accessAllowed ? 'block' : 'none';\n",
              "\n",
              "        async function convertToInteractive(key) {\n",
              "          const element = document.querySelector('#df-4805468f-31dc-4304-bd5c-3046170af4bd');\n",
              "          const dataTable =\n",
              "            await google.colab.kernel.invokeFunction('convertToInteractive',\n",
              "                                                     [key], {});\n",
              "          if (!dataTable) return;\n",
              "\n",
              "          const docLinkHtml = 'Like what you see? Visit the ' +\n",
              "            '<a target=\"_blank\" href=https://colab.research.google.com/notebooks/data_table.ipynb>data table notebook</a>'\n",
              "            + ' to learn more about interactive tables.';\n",
              "          element.innerHTML = '';\n",
              "          dataTable['output_type'] = 'display_data';\n",
              "          await google.colab.output.renderOutput(dataTable, element);\n",
              "          const docLink = document.createElement('div');\n",
              "          docLink.innerHTML = docLinkHtml;\n",
              "          element.appendChild(docLink);\n",
              "        }\n",
              "      </script>\n",
              "    </div>\n",
              "  </div>\n",
              "  "
            ],
            "text/plain": [
              "     Actual  Predicted\n",
              "350       1          1\n",
              "377       1          1\n",
              "163       1          1\n",
              "609       1          1\n",
              "132       1          1\n",
              "..      ...        ...\n",
              "231       1          1\n",
              "312       1          1\n",
              "248       1          1\n",
              "11        1          1\n",
              "333       1          1\n",
              "\n",
              "[123 rows x 2 columns]"
            ]
          },
          "metadata": {},
          "execution_count": 206
        }
      ],
      "source": [
        "# Comparing actual results with predicted results \n",
        "final = pd.DataFrame({'Actual': Y_test, 'Predicted': Y_pred})\n",
        "final"
      ]
    },
    {
      "cell_type": "markdown",
      "metadata": {
        "id": "ITEZvnrrN4y4"
      },
      "source": [
        "**Q12. What's the accuracy of your model?**\n",
        "\n",
        "0.79"
      ]
    },
    {
      "cell_type": "markdown",
      "metadata": {
        "id": "e6e63ok-PryL"
      },
      "source": [
        "# **PICKLE/DUMP THE MODEL**"
      ]
    },
    {
      "cell_type": "code",
      "source": [
        "# Pickling the model\n",
        "filename='loan_pred_model'\n",
        "pickle.dump(rf_random,open(filename,'wb'))"
      ],
      "metadata": {
        "id": "SRSymnHz3jI0"
      },
      "execution_count": null,
      "outputs": []
    },
    {
      "cell_type": "code",
      "execution_count": null,
      "metadata": {
        "colab": {
          "base_uri": "https://localhost:8080/"
        },
        "id": "-89POdrNRCsF",
        "outputId": "01375d01-5b0a-467a-c89c-64cdc9389011"
      },
      "outputs": [
        {
          "output_type": "execute_result",
          "data": {
            "text/plain": [
              "array([1, 1, 1, 1, 1, 1, 1, 0, 1, 1, 1, 1, 1, 0, 1, 1, 1, 1, 1, 1, 1, 1,\n",
              "       1, 1, 1, 0, 1, 1, 1, 1, 1, 1, 1, 1, 1, 0, 1, 1, 1, 1, 1, 1, 1, 1,\n",
              "       1, 1, 1, 1, 1, 1, 1, 1, 1, 1, 1, 0, 1, 1, 0, 1, 1, 1, 1, 0, 1, 1,\n",
              "       0, 0, 1, 0, 1, 1, 1, 1, 1, 1, 1, 1, 1, 1, 0, 1, 0, 1, 0, 1, 1, 1,\n",
              "       1, 1, 1, 1, 1, 1, 0, 1, 1, 1, 1, 1, 1, 0, 1, 1, 1, 1, 0, 1, 1, 1,\n",
              "       1, 1, 1, 1, 1, 1, 1, 0, 0, 0, 1, 1, 1, 0, 0, 1, 0, 1, 1, 1, 1, 1,\n",
              "       1, 1, 1, 1, 1, 1, 1, 1, 0, 1, 0, 1, 1, 1, 1, 0, 1, 1, 1, 1, 1, 0,\n",
              "       1, 1, 1, 1, 1, 1, 1, 0, 1, 1, 1, 0, 0, 1, 0, 1, 1, 1, 1, 0, 0, 1,\n",
              "       1, 1, 1, 1, 1, 1, 1, 1, 1, 1, 1, 1, 1, 1, 1, 1, 0, 0, 1, 1, 0, 1,\n",
              "       0, 1, 1, 1, 1, 1, 1, 1, 1, 1, 1, 1, 1, 0, 1, 1, 1, 1, 1, 1, 1, 1,\n",
              "       1, 1, 1, 1, 0, 1, 1, 1, 1, 0, 1, 1, 1, 1, 1, 0, 0, 1, 1, 1, 1, 0,\n",
              "       1, 0, 1, 0, 1, 1, 1, 1, 0, 1, 1, 1, 1, 0, 1, 1, 1, 1, 1, 1, 1, 1,\n",
              "       1, 1, 0, 1, 0, 1, 1, 1, 1, 0, 0, 1, 1, 1, 0, 1, 1, 1, 1, 1, 1, 1,\n",
              "       1, 1, 1, 1, 1, 1, 1, 0, 1, 1, 1, 1, 1, 1, 1, 0, 1, 1, 1, 1, 1, 1,\n",
              "       1, 1, 1, 0, 1, 1, 1, 1, 1, 0, 1, 1, 1, 1, 1, 1, 1, 0, 1, 1, 1, 1,\n",
              "       1, 1, 1, 1, 1, 1, 1, 1, 1, 0, 1, 1, 1, 1, 1, 1, 0, 1, 1, 1, 1, 1,\n",
              "       1, 1, 0, 1, 1, 1, 1, 1, 1, 1, 1, 1, 1, 1, 1])"
            ]
          },
          "metadata": {},
          "execution_count": 208
        }
      ],
      "source": [
        "# load the pickled object\n",
        "loaded_model=pickle.load(open(filename,'rb'))\n",
        "\n",
        "# Predict the values of new_df_test\n",
        "loaded_model.predict(new_df_test)"
      ]
    },
    {
      "cell_type": "code",
      "source": [
        ""
      ],
      "metadata": {
        "id": "4km7wpYqKt_C"
      },
      "execution_count": null,
      "outputs": []
    }
  ],
  "metadata": {
    "colab": {
      "name": "Loan Prediction.ipynb",
      "provenance": [],
      "collapsed_sections": [],
      "mount_file_id": "1-heVVtnbdFTvMOl5QJTHbNxCI9tT_SiU",
      "authorship_tag": "ABX9TyNisF9WWTNHMN5u3x3NAbR8",
      "include_colab_link": true
    },
    "kernelspec": {
      "display_name": "Python 3",
      "name": "python3"
    },
    "language_info": {
      "name": "python"
    }
  },
  "nbformat": 4,
  "nbformat_minor": 0
}